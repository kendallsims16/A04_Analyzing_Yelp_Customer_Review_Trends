{
 "cells": [
  {
   "cell_type": "markdown",
   "id": "8ccfc312-0ede-4509-ba76-4f182c7dbdef",
   "metadata": {},
   "source": [
    "<font face=\"Helvetica\" size=7 color='#2E0202'> **Analyzing** <font> <font face=\"Helvetica\" size=7 color='#B40E0E'> **Yelp** <font> <font face=\"Helvetica\" size=7 color='#2E0202'> **Customer Review Trends** <font>"
   ]
  },
  {
   "cell_type": "markdown",
   "id": "0753fc52-ba49-4462-b4c5-cf2e5ff13c81",
   "metadata": {},
   "source": [
    "<font face=\"Helvetica\" size=4> **Group A4** <font>\n",
    "\n",
    "*   \n",
    "    Ari Kolahal\n",
    "*   Wei-An (Vivian) Huang\n",
    "*   Rinaldo Brendon Patel\n",
    "*   Kendall Sims\n",
    "*   Mingshu Hong\n",
    "*   MingHua Tsai"
   ]
  },
  {
   "cell_type": "markdown",
   "id": "d8c6467f-fb3c-4b49-8efc-6b613a74ac47",
   "metadata": {
    "tags": []
   },
   "source": [
    "<font face=\"Helvetica\" size=4> **Table of Contents** <font>\n",
    "\n",
    "\n",
    "1.<font face=\"Helvetica\" size=3>  [Executive Summary](#executive-summary)<font>\n",
    "\n",
    "2.<font face=\"Helvetica\" size=3>   [Project Proposal](#project-proposal)<font>\n",
    "  * <font face=\"Helvetica\" size=3> [Introduction](#introduction)<font>\n",
    "  * <font face=\"Helvetica\" size=3> [Motivation](#motivation) <font>\n",
    "\n",
    "3.<font face=\"Helvetica\" size=3> [Data & its Source](#data&itssource)<font>\n",
    "* <font face=\"Helvetica\" size=3>  [Data Dictonary](#datadictionary) <font>\n",
    "\n",
    "\n",
    "4.<font face=\"Helvetica\" size=3> [Data Cleaning and Manipulation](#DataCleaningandManipulation) <font>\n",
    "\n",
    "5.<font face=\"Helvetica\" size=3> [Exploratory Data Analysis](#exploratorydataanalysis)<font>\n",
    "\n",
    "6.<font face=\"Helvetica\" size=3> [Conclusions](#conclusions)\n",
    "\n",
    "7.<font face=\"Helvetica\" size=3> [Challenges](#challenges)\n",
    "\n",
    "\n",
    "8.<font face=\"Helvetica\" size=3> [Reference](#reference)\n",
    "\n",
    "9.<font face=\"Helvetica\" size=3> [Generative-AI-Disclosure](#genai) <font>"
   ]
  },
  {
   "cell_type": "markdown",
   "id": "42099e79-a30d-4d42-895a-8808a4805fa1",
   "metadata": {},
   "source": [
    "<font face=\"Helvetica\" size=6 color=#B40E0E> **Executive Summary <a name=\"executive-summary\"></a>** <font>\n",
    "    \n",
    "----\n",
    "    \n",
    "\n",
    "    \n",
    "This study leverages real Yelp data, SQL, and Google Cloud tools (Cloud Storage, BigQuery, Vertex AI) to examine customer satisfaction trends that can help restaurant owners improve their Yelp ratings. Focusing on factors like service quality, menu variety, ambiance, and pricing, the analysis provides practical insights into enhancing customer experiences and targeting specific audiences based on regional and demographic patterns.\n",
    "\n",
    "The analysis highlights a steady rise in Yelp reviews from 2005 to 2019, peaking in 2018 before a significant decline in 2020 due to COVID-19. Elite users play a prominent role, contributing nearly 400 reviews on average compared to 34 by non-elite users, and garnering higher \"useful\" votes, fans, and compliments, indicating their influence within the community. Additionally, wheelchair-accessible locations receive the highest ratings and review counts, suggesting that inclusivity and operational quality enhance customer perceptions and positive feedback.\n",
    "\n",
    "Key recommendations focus on quality over quantity, encouraging restaurant owners to build strong customer loyalty by prioritizing high-quality service at a few locations, with expansion only once standards are consistently high. Yelp can enhance engagement by prompting users to add details to positive reviews, creating sections for \"Top Cool Reviews\" and \"Funny Reviews\" to make browsing more enjoyable. Highlighting \"useful\" or \"cool\" reviews could guide businesses in improving their services, while public recognition and badges for elite users would further motivate quality contributions on the platform.\n",
    "    "
   ]
  },
  {
   "cell_type": "markdown",
   "id": "6788d3db-c697-479e-9a6e-1f0fbccb5f83",
   "metadata": {},
   "source": [
    "<font face=\"Helvetica\" size=6 color=B40E0E> **Project Proposal <a name=\"project-proposal\"></a>** <font>\n"
   ]
  },
  {
   "cell_type": "markdown",
   "id": "b20a2db4-3da1-45de-9f64-f08f07ae7ca2",
   "metadata": {},
   "source": [
    "<font face=\"Helvetica\" size=5 color=2E0202> **Introduction <a name=\"introduction\"></a>** <font>\n",
    "    \n",
    "---\n",
    "    \n",
    "In today's world of online delivery and food delivery apps, established restaurants have access to a wealth of data that can help them improve and grow based on customer feedback. However, this abundance of information also creates challenges for current businesses in identifying key areas for improvement and may seem daunting to future restaurant owners, especially in a highly competitive market like the United States. To succeed, businesses need insightful analysis to better market themselves and enhance their ratings, as many people rely on online reviews to decide where to dine. In this study, we analyze real data from a popular customer review website,Yelp, to understand sentiment and satisfaction scores across the platform, offering insights that can help restaurant owners make informed decisions to elevate their establishments."
   ]
  },
  {
   "cell_type": "markdown",
   "id": "43614825-c740-416f-8663-de32a84e541a",
   "metadata": {},
   "source": [
    "<font face=\"Helvetica\" size=5, color = 2E0202> **Motivation <a name=\"motivation\"></a>** <font>\n",
    "\n",
    "---\n",
    "    \n",
    "The motivation behind this study is to understand how Yelp reviews shape consumer choices, providing restaurants with actionable insights into customer preferences and areas for improvement. In today’s competitive market, especially within the restaurant industry, customer feedback is a crucial tool for businesses striving to refine their offerings and enhance customer satisfaction.\n",
    "\n",
    "By analyzing patterns in review frequency and consistency, we aim to identify trends in customer loyalty and reviewing behaviors over time. This can help restaurants understand what drives repeat customers and how to foster lasting relationships. Furthermore, we seek to uncover key factors contributing to the popularity of highly-rated businesses—such as optimal business hours, strategic location, and desirable amenities—giving insights into the specific attributes that appeal most to customers. Additionally, examining changes in ratings over time allows us to assess how shifts in customer feedback impact a restaurant's reputation and performance. This analysis not only highlights areas where businesses are excelling but also reveals potential areas for improvement. \n",
    "    \n",
    "Ultimately, our study provides restaurants with the data-driven insights needed to adapt to customer sentiment, boost their ratings, and secure a competitive edge in the ever-evolving dining landscape."
   ]
  },
  {
   "cell_type": "markdown",
   "id": "3a72dd67-1172-45a1-89e9-b0418dfe00ce",
   "metadata": {},
   "source": [
    "<font face=\"Helvetica\" size=6 color=B40E0E> **Data & its Source<a name=\"data&itssource\"></a>** <font>\n",
    "\n",
    "----\n",
    "    \n",
    "    \n"
   ]
  },
  {
   "cell_type": "markdown",
   "id": "e9d5128d-6cd8-4bf4-bc7d-10734e85c24d",
   "metadata": {},
   "source": [
    "The data for this project comes from 1 source:\n",
    "\n",
    "- [**Yelp Dataset**:](https://www.yelp.com/dataset)<font>\n",
    "    - The dataset has 4 main tables:\n",
    "        1. **Business Table** (information about the location, star count, no. of reviews, business hours etc.) - 150346 Rows, and 14 Columns\n",
    "        2. **Reviews Tables** (type of review business recieved) - 6990280 Rows, 9 Columns\n",
    "        3. **User Table** ( info about user's yelp review behavior ) - 1987897 Rows, 22 Columns\n",
    "        4. **Tip Table** ( type of tip posted by user) - 150346 Rows, 14 Columns\n",
    "    \n",
    "At the end of the the cleaning process, the following represents the metadata:"
   ]
  },
  {
   "cell_type": "markdown",
   "id": "658d4894-64cc-4840-9a21-fe167e2e96e5",
   "metadata": {},
   "source": [
    "<font face=\"Helvetica\" size=5, color = 2E0202> **Data Dictionary <a name=\"datadictionary\"></a>** <font>\n",
    "\n",
    "---"
   ]
  },
  {
   "cell_type": "markdown",
   "id": "ae0da35b-418f-402c-ba0a-86af23472d6e",
   "metadata": {},
   "source": [
    "<font face=\"Helvetica\" size=4, color = 2E0202> **Business Table:<a name=\"motivation\"></a>** <font>\n",
    "\n",
    "\n",
    "Column | Description | Data Type\n",
    "------ | ----------- | ---------\n",
    "**business_id** | Business Unique ID | ``string``\n",
    "**name** | Business Name | ``string``\n",
    "**address** | Business address | ``string``\n",
    "**city** | Business city | ``string``\n",
    "**state** | Business state | ``string``\n",
    "**postal_code** | Business postal code| ``string``\n",
    "**latitude** | Latitude of business location | ``float``\n",
    "**longitude** |  Longitude of business location | `float`\n",
    "**stars** | overall business star rating | ``float``\n",
    "**review_count** | Number of reviews recieved | ``integer``\n",
    "**is_open** | Business open or shutdown indicator | `integer`\n",
    "**categories** | Type of business | ``string``\n",
    "**hours** | Hours open accross the week | ``string``\n",
    "**attributes** | Facilities offered at the establishment | `string`\n"
   ]
  },
  {
   "cell_type": "markdown",
   "id": "72a4c833-660e-4799-9cd7-535b76be7c71",
   "metadata": {},
   "source": [
    "<font face=\"Helvetica\" size=4, color = 2E0202> **Reviews Table:<a name=\"motivation\"></a>** <font>\n",
    "\n",
    "\n",
    "Column | Description | Data Type\n",
    "------ | ----------- | ---------\n",
    "**review_id** | Review Unique ID| ``string``\n",
    "**business_id** | Business Unique ID | ``string``\n",
    "**user_id** | User Unique ID | ``string``\n",
    "**stars** | Star rating provided for the review | ``float``\n",
    "**date** | Timestamp of the review | ``timestamp``\n",
    "**useful** | Categorized review as useful| ``integer``\n",
    "**funny** | Categorized review as funny | ``integer``\n",
    "**cool** |  Categorized review as cool | `integer`\n"
   ]
  },
  {
   "cell_type": "markdown",
   "id": "40399a3d-1de3-4083-9336-fe68c12b7b78",
   "metadata": {},
   "source": [
    "<font face=\"Helvetica\" size=4, color = 2E0202> **Tip Table:<a name=\"motivation\"></a>** <font>\n",
    "\n",
    "\n",
    "Column | Description | Data Type\n",
    "------ | ----------- | ---------\n",
    "**business_id** | Business Unique ID | ``string``\n",
    "**user_id** | User Unique ID | ``string``\n",
    "**date** | Timestamp of the tip | ``timestamp``\n",
    "**compliment_count** | Indicator of compliment given or not | ``integer``\n"
   ]
  },
  {
   "cell_type": "markdown",
   "id": "a9fff120-b434-4dc7-a0db-7ea33abe507b",
   "metadata": {},
   "source": [
    "<font face=\"Helvetica\" size=4, color = 2E0202> **User Table:<a name=\"motivation\"></a>** <font>\n",
    "\n",
    "\n",
    "Column | Description | Data Type\n",
    "------ | ----------- | ---------\n",
    "**user_id** | User Unique ID | ``string``\n",
    "**name** | User Name | ``string``\n",
    "**elite** | Year when declared Elite User| ``float``\n",
    "**review_count** | Number of reviews given | ``integer``\n",
    "**yelping_since** | Timestamp of user account created | ``timestamp``\n",
    "**funny** | Total number of funny reviews given| ``integer``\n",
    "**useful** | Total number of useful reviews given| ``integer``\n",
    "**cool** | Total number of cool reviews given| ``integer``\n",
    "**compliment_list** | Number of compliments given | ``integer``\n",
    "**friends** | user_id declared as friends | ``string``\n",
    "**average_stars** | average star rating the user gives | `float`\n",
    "**fans** | Number of fans | ``integer``\n",
    "**compliment_hot** | Count of compliment type given | ``integer``\n",
    "**compliment_cute** | Count of compliment type given | ``integer``\n",
    "**compliment_more** | Count of compliment type given | ``integer``\n",
    "**compliment_profile** | Count of compliment type given | ``integer``\n",
    "**compliment_note** | Count of compliment type given | ``integer``\n",
    "**compliment_plain** | Count of compliment type given | ``integer``\n",
    "**compliment_cool** | Count of compliment type given | ``integer``\n",
    "**compliment_funny** | Count of compliment type given | ``integer``\n",
    "**compliment_photos** | Count of compliment type given | ``integer``\n",
    "**compliment_writer** | Count of compliment type given | ``integer``\n"
   ]
  },
  {
   "cell_type": "markdown",
   "id": "7869d3f8-3fde-4bd8-91ae-4c6ecdb89d39",
   "metadata": {},
   "source": [
    "<font face=\"Helvetica\" size=6 color=B40E0E> **Data Cleaning and Manipulation<a name=\"DataCleaningandManipulation\"></a>** <font>\n",
    "\n",
    "----\n",
    "    "
   ]
  },
  {
   "cell_type": "markdown",
   "id": "8935e63d-ec3a-4908-8689-b00a8ba9e811",
   "metadata": {},
   "source": [
    "## Cleaning Business Table"
   ]
  },
  {
   "cell_type": "markdown",
   "id": "94a9d9e4-2774-495d-9e3a-1841247b927a",
   "metadata": {},
   "source": [
    "#### Overview of current table"
   ]
  },
  {
   "cell_type": "code",
   "execution_count": 2,
   "id": "73e06581-cb3d-4c02-b4e7-e9fec9eee6a9",
   "metadata": {
    "tags": []
   },
   "outputs": [
    {
     "data": {
      "application/vnd.jupyter.widget-view+json": {
       "model_id": "4aa082df7ab74cc69d6a96d7dd4b1ec2",
       "version_major": 2,
       "version_minor": 0
      },
      "text/plain": [
       "Query is running:   0%|          |"
      ]
     },
     "metadata": {},
     "output_type": "display_data"
    },
    {
     "data": {
      "application/vnd.jupyter.widget-view+json": {
       "model_id": "5df49e356c224a0aad55280366c33222",
       "version_major": 2,
       "version_minor": 0
      },
      "text/plain": [
       "Downloading:   0%|          |"
      ]
     },
     "metadata": {},
     "output_type": "display_data"
    },
    {
     "data": {
      "text/html": [
       "<div>\n",
       "<style scoped>\n",
       "    .dataframe tbody tr th:only-of-type {\n",
       "        vertical-align: middle;\n",
       "    }\n",
       "\n",
       "    .dataframe tbody tr th {\n",
       "        vertical-align: top;\n",
       "    }\n",
       "\n",
       "    .dataframe thead th {\n",
       "        text-align: right;\n",
       "    }\n",
       "</style>\n",
       "<table border=\"1\" class=\"dataframe\">\n",
       "  <thead>\n",
       "    <tr style=\"text-align: right;\">\n",
       "      <th></th>\n",
       "      <th>business_id</th>\n",
       "      <th>name</th>\n",
       "      <th>address</th>\n",
       "      <th>city</th>\n",
       "      <th>state</th>\n",
       "      <th>postal_code</th>\n",
       "      <th>latitude</th>\n",
       "      <th>longitude</th>\n",
       "      <th>stars</th>\n",
       "      <th>review_count</th>\n",
       "      <th>is_open</th>\n",
       "      <th>attributes</th>\n",
       "      <th>categories</th>\n",
       "      <th>hours</th>\n",
       "    </tr>\n",
       "  </thead>\n",
       "  <tbody>\n",
       "    <tr>\n",
       "      <th>0</th>\n",
       "      <td>AWG2QYOoydgg2hMMk3KRoA</td>\n",
       "      <td>The Home Depot</td>\n",
       "      <td>Terwillegar Drive NW</td>\n",
       "      <td>Edmonton</td>\n",
       "      <td>AB</td>\n",
       "      <td>None</td>\n",
       "      <td>53.438895</td>\n",
       "      <td>-113.606727</td>\n",
       "      <td>2.0</td>\n",
       "      <td>5</td>\n",
       "      <td>1</td>\n",
       "      <td>{'RestaurantsPriceRange2': '2', 'BusinessParki...</td>\n",
       "      <td>Home &amp; Garden, Fashion, Shopping, Department S...</td>\n",
       "      <td>None</td>\n",
       "    </tr>\n",
       "    <tr>\n",
       "      <th>1</th>\n",
       "      <td>F87os-6oNyUAEeGxQJKFkw</td>\n",
       "      <td>McLeod Tavern</td>\n",
       "      <td>10009 101 Avenue N</td>\n",
       "      <td>Edmonton</td>\n",
       "      <td>AB</td>\n",
       "      <td>T5H</td>\n",
       "      <td>53.542774</td>\n",
       "      <td>-113.483476</td>\n",
       "      <td>2.0</td>\n",
       "      <td>13</td>\n",
       "      <td>0</td>\n",
       "      <td>{'RestaurantsTakeOut': 'False', 'HappyHour': '...</td>\n",
       "      <td>Restaurants, Canadian (New), Lounges, Nightlif...</td>\n",
       "      <td>{'Monday': '11:0-0:0', 'Tuesday': '11:0-0:0', ...</td>\n",
       "    </tr>\n",
       "    <tr>\n",
       "      <th>2</th>\n",
       "      <td>--7PUidqRWpRSpXebiyxTg</td>\n",
       "      <td>Humpty's Family Restaurant</td>\n",
       "      <td>9910 108A Avenue</td>\n",
       "      <td>Edmonton</td>\n",
       "      <td>AB</td>\n",
       "      <td>T5H</td>\n",
       "      <td>53.554659</td>\n",
       "      <td>-113.493040</td>\n",
       "      <td>2.0</td>\n",
       "      <td>12</td>\n",
       "      <td>0</td>\n",
       "      <td>{'GoodForKids': 'True', 'RestaurantsAttire': \"...</td>\n",
       "      <td>Breakfast &amp; Brunch, Restaurants</td>\n",
       "      <td>None</td>\n",
       "    </tr>\n",
       "    <tr>\n",
       "      <th>3</th>\n",
       "      <td>xPmbr4S0_XYweiNmga9dNA</td>\n",
       "      <td>Bird's Nest of Beijing Restaurant</td>\n",
       "      <td>10425 100 Ave NW, Comfort Inn &amp; Suites</td>\n",
       "      <td>Edmonton</td>\n",
       "      <td>AB</td>\n",
       "      <td>T5K</td>\n",
       "      <td>53.538694</td>\n",
       "      <td>-113.500775</td>\n",
       "      <td>2.0</td>\n",
       "      <td>9</td>\n",
       "      <td>0</td>\n",
       "      <td>{'RestaurantsGoodForGroups': 'True', 'OutdoorS...</td>\n",
       "      <td>Restaurants, Chinese</td>\n",
       "      <td>None</td>\n",
       "    </tr>\n",
       "    <tr>\n",
       "      <th>4</th>\n",
       "      <td>jgUJ2CkM3LaRHpt3JhKc7g</td>\n",
       "      <td>Walmart</td>\n",
       "      <td>156 Street &amp; 87 Avenue</td>\n",
       "      <td>West Edmonton</td>\n",
       "      <td>AB</td>\n",
       "      <td>T5R</td>\n",
       "      <td>53.520337</td>\n",
       "      <td>-113.593785</td>\n",
       "      <td>2.0</td>\n",
       "      <td>9</td>\n",
       "      <td>1</td>\n",
       "      <td>{'RestaurantsPriceRange2': '2', 'BikeParking':...</td>\n",
       "      <td>Grocery, Department Stores, Shopping, Food, Fa...</td>\n",
       "      <td>{'Monday': '8:0-22:0', 'Tuesday': '8:0-22:0', ...</td>\n",
       "    </tr>\n",
       "    <tr>\n",
       "      <th>5</th>\n",
       "      <td>qdqm5QwfF-5ZqQuFlLFtSg</td>\n",
       "      <td>Game City</td>\n",
       "      <td>82 Avenue &amp; 83 Street, Bonnie Doon Shopping Ce...</td>\n",
       "      <td>Edmonton</td>\n",
       "      <td>AB</td>\n",
       "      <td>T6C</td>\n",
       "      <td>53.544389</td>\n",
       "      <td>-113.490927</td>\n",
       "      <td>2.0</td>\n",
       "      <td>5</td>\n",
       "      <td>1</td>\n",
       "      <td>{'RestaurantsPriceRange2': '3', 'Caters': 'Fal...</td>\n",
       "      <td>Videos &amp; Video Game Rental, Books, Mags, Music...</td>\n",
       "      <td>None</td>\n",
       "    </tr>\n",
       "    <tr>\n",
       "      <th>6</th>\n",
       "      <td>WzWBfCHurRUGpQuXkMnfow</td>\n",
       "      <td>Copa Cabana</td>\n",
       "      <td>8230 Gateway Boulevard</td>\n",
       "      <td>Edmonton</td>\n",
       "      <td>AB</td>\n",
       "      <td>T6E</td>\n",
       "      <td>53.518848</td>\n",
       "      <td>-113.495416</td>\n",
       "      <td>2.0</td>\n",
       "      <td>5</td>\n",
       "      <td>0</td>\n",
       "      <td>{'NoiseLevel': \"u'loud'\", 'RestaurantsDelivery...</td>\n",
       "      <td>Latin American, Restaurants, Mexican</td>\n",
       "      <td>None</td>\n",
       "    </tr>\n",
       "    <tr>\n",
       "      <th>7</th>\n",
       "      <td>-s8G4_7aF8IxlAq6p1w4rw</td>\n",
       "      <td>Mucho Burrito</td>\n",
       "      <td>8505 109 Street</td>\n",
       "      <td>Edmonton</td>\n",
       "      <td>AB</td>\n",
       "      <td>T6G</td>\n",
       "      <td>53.521370</td>\n",
       "      <td>-113.511592</td>\n",
       "      <td>2.0</td>\n",
       "      <td>8</td>\n",
       "      <td>1</td>\n",
       "      <td>{'RestaurantsAttire': \"'casual'\", 'Restaurants...</td>\n",
       "      <td>Restaurants, Mexican</td>\n",
       "      <td>{'Monday': '0:0-0:0', 'Tuesday': '10:30-22:0',...</td>\n",
       "    </tr>\n",
       "    <tr>\n",
       "      <th>8</th>\n",
       "      <td>dxNmbVCP-HGrDkPi4lqKDw</td>\n",
       "      <td>Cherry Hill Motors-Mercedes-Benz Leasing</td>\n",
       "      <td>1800 Marlton Pike W</td>\n",
       "      <td>Cherry Hill</td>\n",
       "      <td>NJ</td>\n",
       "      <td>08002</td>\n",
       "      <td>39.919082</td>\n",
       "      <td>-75.031452</td>\n",
       "      <td>2.0</td>\n",
       "      <td>7</td>\n",
       "      <td>1</td>\n",
       "      <td>{'Caters': 'False', 'RestaurantsTableService':...</td>\n",
       "      <td>Automotive, Auto Repair, Car Dealers</td>\n",
       "      <td>None</td>\n",
       "    </tr>\n",
       "    <tr>\n",
       "      <th>9</th>\n",
       "      <td>onPYxtkOmTIGYJbLCPX9Qg</td>\n",
       "      <td>State of New Jersey Motor Vehicle Comission</td>\n",
       "      <td>1 Executive Campus, Ste 110</td>\n",
       "      <td>Cherry Hill</td>\n",
       "      <td>NJ</td>\n",
       "      <td>08002</td>\n",
       "      <td>39.928463</td>\n",
       "      <td>-75.052599</td>\n",
       "      <td>2.0</td>\n",
       "      <td>10</td>\n",
       "      <td>1</td>\n",
       "      <td>{'Caters': 'False', 'RestaurantsTableService':...</td>\n",
       "      <td>Pizza, Restaurants, Public Services &amp; Governme...</td>\n",
       "      <td>{'Monday': '8:0-16:30', 'Tuesday': '8:0-16:30'...</td>\n",
       "    </tr>\n",
       "  </tbody>\n",
       "</table>\n",
       "</div>"
      ],
      "text/plain": [
       "              business_id                                         name  \\\n",
       "0  AWG2QYOoydgg2hMMk3KRoA                               The Home Depot   \n",
       "1  F87os-6oNyUAEeGxQJKFkw                                McLeod Tavern   \n",
       "2  --7PUidqRWpRSpXebiyxTg                   Humpty's Family Restaurant   \n",
       "3  xPmbr4S0_XYweiNmga9dNA            Bird's Nest of Beijing Restaurant   \n",
       "4  jgUJ2CkM3LaRHpt3JhKc7g                                      Walmart   \n",
       "5  qdqm5QwfF-5ZqQuFlLFtSg                                    Game City   \n",
       "6  WzWBfCHurRUGpQuXkMnfow                                  Copa Cabana   \n",
       "7  -s8G4_7aF8IxlAq6p1w4rw                                Mucho Burrito   \n",
       "8  dxNmbVCP-HGrDkPi4lqKDw     Cherry Hill Motors-Mercedes-Benz Leasing   \n",
       "9  onPYxtkOmTIGYJbLCPX9Qg  State of New Jersey Motor Vehicle Comission   \n",
       "\n",
       "                                             address           city state  \\\n",
       "0                               Terwillegar Drive NW       Edmonton    AB   \n",
       "1                                 10009 101 Avenue N       Edmonton    AB   \n",
       "2                                   9910 108A Avenue       Edmonton    AB   \n",
       "3             10425 100 Ave NW, Comfort Inn & Suites       Edmonton    AB   \n",
       "4                             156 Street & 87 Avenue  West Edmonton    AB   \n",
       "5  82 Avenue & 83 Street, Bonnie Doon Shopping Ce...       Edmonton    AB   \n",
       "6                             8230 Gateway Boulevard       Edmonton    AB   \n",
       "7                                    8505 109 Street       Edmonton    AB   \n",
       "8                                1800 Marlton Pike W    Cherry Hill    NJ   \n",
       "9                        1 Executive Campus, Ste 110    Cherry Hill    NJ   \n",
       "\n",
       "  postal_code   latitude   longitude  stars  review_count  is_open  \\\n",
       "0        None  53.438895 -113.606727    2.0             5        1   \n",
       "1         T5H  53.542774 -113.483476    2.0            13        0   \n",
       "2         T5H  53.554659 -113.493040    2.0            12        0   \n",
       "3         T5K  53.538694 -113.500775    2.0             9        0   \n",
       "4         T5R  53.520337 -113.593785    2.0             9        1   \n",
       "5         T6C  53.544389 -113.490927    2.0             5        1   \n",
       "6         T6E  53.518848 -113.495416    2.0             5        0   \n",
       "7         T6G  53.521370 -113.511592    2.0             8        1   \n",
       "8       08002  39.919082  -75.031452    2.0             7        1   \n",
       "9       08002  39.928463  -75.052599    2.0            10        1   \n",
       "\n",
       "                                          attributes  \\\n",
       "0  {'RestaurantsPriceRange2': '2', 'BusinessParki...   \n",
       "1  {'RestaurantsTakeOut': 'False', 'HappyHour': '...   \n",
       "2  {'GoodForKids': 'True', 'RestaurantsAttire': \"...   \n",
       "3  {'RestaurantsGoodForGroups': 'True', 'OutdoorS...   \n",
       "4  {'RestaurantsPriceRange2': '2', 'BikeParking':...   \n",
       "5  {'RestaurantsPriceRange2': '3', 'Caters': 'Fal...   \n",
       "6  {'NoiseLevel': \"u'loud'\", 'RestaurantsDelivery...   \n",
       "7  {'RestaurantsAttire': \"'casual'\", 'Restaurants...   \n",
       "8  {'Caters': 'False', 'RestaurantsTableService':...   \n",
       "9  {'Caters': 'False', 'RestaurantsTableService':...   \n",
       "\n",
       "                                          categories  \\\n",
       "0  Home & Garden, Fashion, Shopping, Department S...   \n",
       "1  Restaurants, Canadian (New), Lounges, Nightlif...   \n",
       "2                    Breakfast & Brunch, Restaurants   \n",
       "3                               Restaurants, Chinese   \n",
       "4  Grocery, Department Stores, Shopping, Food, Fa...   \n",
       "5  Videos & Video Game Rental, Books, Mags, Music...   \n",
       "6               Latin American, Restaurants, Mexican   \n",
       "7                               Restaurants, Mexican   \n",
       "8               Automotive, Auto Repair, Car Dealers   \n",
       "9  Pizza, Restaurants, Public Services & Governme...   \n",
       "\n",
       "                                               hours  \n",
       "0                                               None  \n",
       "1  {'Monday': '11:0-0:0', 'Tuesday': '11:0-0:0', ...  \n",
       "2                                               None  \n",
       "3                                               None  \n",
       "4  {'Monday': '8:0-22:0', 'Tuesday': '8:0-22:0', ...  \n",
       "5                                               None  \n",
       "6                                               None  \n",
       "7  {'Monday': '0:0-0:0', 'Tuesday': '10:30-22:0',...  \n",
       "8                                               None  \n",
       "9  {'Monday': '8:0-16:30', 'Tuesday': '8:0-16:30'...  "
      ]
     },
     "execution_count": 2,
     "metadata": {},
     "output_type": "execute_result"
    }
   ],
   "source": [
    "%%bigquery \n",
    "SELECT * EXCEPT(int64_field_0)\n",
    "FROM `ba775-project-a04.yelp_data.business`\n",
    "LIMIT 10;"
   ]
  },
  {
   "cell_type": "markdown",
   "id": "7838f775-3b96-475e-b908-4a7b895420d6",
   "metadata": {},
   "source": [
    "#### Creating a new table filtering the businesses that are categorized as Restaurants or Food Establishments"
   ]
  },
  {
   "cell_type": "code",
   "execution_count": 3,
   "id": "94b13c5e-a9ed-450a-a553-40817e248864",
   "metadata": {},
   "outputs": [
    {
     "data": {
      "application/vnd.jupyter.widget-view+json": {
       "model_id": "a94226cf3b5941f781ece5435623d891",
       "version_major": 2,
       "version_minor": 0
      },
      "text/plain": [
       "Query is running:   0%|          |"
      ]
     },
     "metadata": {},
     "output_type": "display_data"
    },
    {
     "data": {
      "text/html": [
       "<div>\n",
       "<style scoped>\n",
       "    .dataframe tbody tr th:only-of-type {\n",
       "        vertical-align: middle;\n",
       "    }\n",
       "\n",
       "    .dataframe tbody tr th {\n",
       "        vertical-align: top;\n",
       "    }\n",
       "\n",
       "    .dataframe thead th {\n",
       "        text-align: right;\n",
       "    }\n",
       "</style>\n",
       "<table border=\"1\" class=\"dataframe\">\n",
       "  <thead>\n",
       "    <tr style=\"text-align: right;\">\n",
       "      <th></th>\n",
       "    </tr>\n",
       "  </thead>\n",
       "  <tbody>\n",
       "  </tbody>\n",
       "</table>\n",
       "</div>"
      ],
      "text/plain": [
       "Empty DataFrame\n",
       "Columns: []\n",
       "Index: []"
      ]
     },
     "execution_count": 3,
     "metadata": {},
     "output_type": "execute_result"
    }
   ],
   "source": [
    "%%bigquery\n",
    "CREATE OR REPLACE TABLE\n",
    "  `ba775-project-a04.yelp_data.restaurant_businesses` AS\n",
    "      \n",
    "SELECT *\n",
    "FROM\n",
    "  `ba775-project-a04.yelp_data.business`\n",
    "WHERE\n",
    "  categories LIKE '%Restaurant%'\n",
    "    AND categories LIKE '%Food%'\n",
    "    AND stars IS NOT NULL;"
   ]
  },
  {
   "cell_type": "markdown",
   "id": "a9107735-7118-4263-822b-da2868263308",
   "metadata": {},
   "source": [
    "#### Checking if any restaurants do not have a review"
   ]
  },
  {
   "cell_type": "code",
   "execution_count": 4,
   "id": "310dc786-c64f-498f-9cb0-b412fca3884a",
   "metadata": {},
   "outputs": [
    {
     "data": {
      "application/vnd.jupyter.widget-view+json": {
       "model_id": "955971c64a5c4579812b851fb743be6c",
       "version_major": 2,
       "version_minor": 0
      },
      "text/plain": [
       "Query is running:   0%|          |"
      ]
     },
     "metadata": {},
     "output_type": "display_data"
    },
    {
     "data": {
      "application/vnd.jupyter.widget-view+json": {
       "model_id": "3d5cd9833dcf43ba850daa1fc695d425",
       "version_major": 2,
       "version_minor": 0
      },
      "text/plain": [
       "Downloading: |          |"
      ]
     },
     "metadata": {},
     "output_type": "display_data"
    },
    {
     "data": {
      "text/html": [
       "<div>\n",
       "<style scoped>\n",
       "    .dataframe tbody tr th:only-of-type {\n",
       "        vertical-align: middle;\n",
       "    }\n",
       "\n",
       "    .dataframe tbody tr th {\n",
       "        vertical-align: top;\n",
       "    }\n",
       "\n",
       "    .dataframe thead th {\n",
       "        text-align: right;\n",
       "    }\n",
       "</style>\n",
       "<table border=\"1\" class=\"dataframe\">\n",
       "  <thead>\n",
       "    <tr style=\"text-align: right;\">\n",
       "      <th></th>\n",
       "      <th>business_id</th>\n",
       "      <th>business_id_1</th>\n",
       "      <th>review_id</th>\n",
       "    </tr>\n",
       "  </thead>\n",
       "  <tbody>\n",
       "  </tbody>\n",
       "</table>\n",
       "</div>"
      ],
      "text/plain": [
       "Empty DataFrame\n",
       "Columns: [business_id, business_id_1, review_id]\n",
       "Index: []"
      ]
     },
     "execution_count": 4,
     "metadata": {},
     "output_type": "execute_result"
    }
   ],
   "source": [
    "%%bigquery\n",
    "SELECT B.business_id, R.business_id, R.review_id\n",
    "FROM `ba775-project-a04.yelp_data.restaurant_businesses` AS B\n",
    "LEFT JOIN `ba775-project-a04.yelp_data.review` AS R\n",
    "ON B.business_id = R.business_id\n",
    "WHERE R.review_id IS NUll;"
   ]
  },
  {
   "cell_type": "markdown",
   "id": "d5369415-e811-48a8-9eee-523bf9770290",
   "metadata": {
    "tags": []
   },
   "source": [
    "## Cleaning Tip Table"
   ]
  },
  {
   "cell_type": "markdown",
   "id": "bb1cab84-eaf4-420f-994d-d9ab616dce6c",
   "metadata": {},
   "source": [
    "#### Overview of current table"
   ]
  },
  {
   "cell_type": "code",
   "execution_count": 5,
   "id": "365d5eb3-370f-47c4-918f-ca4d13d2e2f0",
   "metadata": {
    "tags": []
   },
   "outputs": [
    {
     "data": {
      "application/vnd.jupyter.widget-view+json": {
       "model_id": "de3b9ec37c29471eaffd5cf6fc097119",
       "version_major": 2,
       "version_minor": 0
      },
      "text/plain": [
       "Query is running:   0%|          |"
      ]
     },
     "metadata": {},
     "output_type": "display_data"
    },
    {
     "data": {
      "application/vnd.jupyter.widget-view+json": {
       "model_id": "420f9135ebc14ea89501b93ab20c3680",
       "version_major": 2,
       "version_minor": 0
      },
      "text/plain": [
       "Downloading:   0%|          |"
      ]
     },
     "metadata": {},
     "output_type": "display_data"
    },
    {
     "data": {
      "text/html": [
       "<div>\n",
       "<style scoped>\n",
       "    .dataframe tbody tr th:only-of-type {\n",
       "        vertical-align: middle;\n",
       "    }\n",
       "\n",
       "    .dataframe tbody tr th {\n",
       "        vertical-align: top;\n",
       "    }\n",
       "\n",
       "    .dataframe thead th {\n",
       "        text-align: right;\n",
       "    }\n",
       "</style>\n",
       "<table border=\"1\" class=\"dataframe\">\n",
       "  <thead>\n",
       "    <tr style=\"text-align: right;\">\n",
       "      <th></th>\n",
       "      <th>date</th>\n",
       "      <th>compliment_count</th>\n",
       "      <th>business_id</th>\n",
       "      <th>user_id</th>\n",
       "    </tr>\n",
       "  </thead>\n",
       "  <tbody>\n",
       "    <tr>\n",
       "      <th>0</th>\n",
       "      <td>2009-07-30 15:13:31+00:00</td>\n",
       "      <td>0</td>\n",
       "      <td>--0iUa4sNDFiZFrAdIWhZQ</td>\n",
       "      <td>DPSY6qV8RmQZ_XlIjIw_SA</td>\n",
       "    </tr>\n",
       "    <tr>\n",
       "      <th>1</th>\n",
       "      <td>2014-07-08 01:00:55+00:00</td>\n",
       "      <td>0</td>\n",
       "      <td>--0iUa4sNDFiZFrAdIWhZQ</td>\n",
       "      <td>LAwE-z6LRwUNg7-pR6DeDQ</td>\n",
       "    </tr>\n",
       "    <tr>\n",
       "      <th>2</th>\n",
       "      <td>2012-09-07 20:29:44+00:00</td>\n",
       "      <td>0</td>\n",
       "      <td>--0iUa4sNDFiZFrAdIWhZQ</td>\n",
       "      <td>j_orXueAYJBft-VUNbs1IA</td>\n",
       "    </tr>\n",
       "    <tr>\n",
       "      <th>3</th>\n",
       "      <td>2011-07-18 22:30:31+00:00</td>\n",
       "      <td>0</td>\n",
       "      <td>--0iUa4sNDFiZFrAdIWhZQ</td>\n",
       "      <td>mswloq-IjRr9yXLhBqBPAw</td>\n",
       "    </tr>\n",
       "    <tr>\n",
       "      <th>4</th>\n",
       "      <td>2010-09-13 21:43:09+00:00</td>\n",
       "      <td>0</td>\n",
       "      <td>--0iUa4sNDFiZFrAdIWhZQ</td>\n",
       "      <td>mswloq-IjRr9yXLhBqBPAw</td>\n",
       "    </tr>\n",
       "    <tr>\n",
       "      <th>...</th>\n",
       "      <td>...</td>\n",
       "      <td>...</td>\n",
       "      <td>...</td>\n",
       "      <td>...</td>\n",
       "    </tr>\n",
       "    <tr>\n",
       "      <th>908910</th>\n",
       "      <td>2015-01-14 05:08:28+00:00</td>\n",
       "      <td>4</td>\n",
       "      <td>NszFe9FGonnbHtGA2A_-Yw</td>\n",
       "      <td>Vg-ObmMxN7bi7fS__9P7vg</td>\n",
       "    </tr>\n",
       "    <tr>\n",
       "      <th>908911</th>\n",
       "      <td>2018-06-19 18:57:10+00:00</td>\n",
       "      <td>4</td>\n",
       "      <td>kaQ-ReAmU-xO2XnQsMFwRg</td>\n",
       "      <td>tsMF0FcFcHZ8i28WzWtQXw</td>\n",
       "    </tr>\n",
       "    <tr>\n",
       "      <th>908912</th>\n",
       "      <td>2020-01-17 14:15:20+00:00</td>\n",
       "      <td>5</td>\n",
       "      <td>pPpaOXOwcuO7z0sDghmOgw</td>\n",
       "      <td>tsMF0FcFcHZ8i28WzWtQXw</td>\n",
       "    </tr>\n",
       "    <tr>\n",
       "      <th>908913</th>\n",
       "      <td>2020-03-05 01:28:45+00:00</td>\n",
       "      <td>6</td>\n",
       "      <td>dsfRniRgfbDjC8os848B6A</td>\n",
       "      <td>tsMF0FcFcHZ8i28WzWtQXw</td>\n",
       "    </tr>\n",
       "    <tr>\n",
       "      <th>908914</th>\n",
       "      <td>2016-06-11 15:37:07+00:00</td>\n",
       "      <td>6</td>\n",
       "      <td>x8-sTKZG59RUhgGj_kcyVg</td>\n",
       "      <td>661RwsBrt5ZbNhuipyhJcQ</td>\n",
       "    </tr>\n",
       "  </tbody>\n",
       "</table>\n",
       "<p>908915 rows × 4 columns</p>\n",
       "</div>"
      ],
      "text/plain": [
       "                            date  compliment_count             business_id  \\\n",
       "0      2009-07-30 15:13:31+00:00                 0  --0iUa4sNDFiZFrAdIWhZQ   \n",
       "1      2014-07-08 01:00:55+00:00                 0  --0iUa4sNDFiZFrAdIWhZQ   \n",
       "2      2012-09-07 20:29:44+00:00                 0  --0iUa4sNDFiZFrAdIWhZQ   \n",
       "3      2011-07-18 22:30:31+00:00                 0  --0iUa4sNDFiZFrAdIWhZQ   \n",
       "4      2010-09-13 21:43:09+00:00                 0  --0iUa4sNDFiZFrAdIWhZQ   \n",
       "...                          ...               ...                     ...   \n",
       "908910 2015-01-14 05:08:28+00:00                 4  NszFe9FGonnbHtGA2A_-Yw   \n",
       "908911 2018-06-19 18:57:10+00:00                 4  kaQ-ReAmU-xO2XnQsMFwRg   \n",
       "908912 2020-01-17 14:15:20+00:00                 5  pPpaOXOwcuO7z0sDghmOgw   \n",
       "908913 2020-03-05 01:28:45+00:00                 6  dsfRniRgfbDjC8os848B6A   \n",
       "908914 2016-06-11 15:37:07+00:00                 6  x8-sTKZG59RUhgGj_kcyVg   \n",
       "\n",
       "                       user_id  \n",
       "0       DPSY6qV8RmQZ_XlIjIw_SA  \n",
       "1       LAwE-z6LRwUNg7-pR6DeDQ  \n",
       "2       j_orXueAYJBft-VUNbs1IA  \n",
       "3       mswloq-IjRr9yXLhBqBPAw  \n",
       "4       mswloq-IjRr9yXLhBqBPAw  \n",
       "...                        ...  \n",
       "908910  Vg-ObmMxN7bi7fS__9P7vg  \n",
       "908911  tsMF0FcFcHZ8i28WzWtQXw  \n",
       "908912  tsMF0FcFcHZ8i28WzWtQXw  \n",
       "908913  tsMF0FcFcHZ8i28WzWtQXw  \n",
       "908914  661RwsBrt5ZbNhuipyhJcQ  \n",
       "\n",
       "[908915 rows x 4 columns]"
      ]
     },
     "execution_count": 5,
     "metadata": {},
     "output_type": "execute_result"
    }
   ],
   "source": [
    "%%bigquery\n",
    "SELECT * FROM `ba775-project-a04.yelp_data.tip`"
   ]
  },
  {
   "cell_type": "markdown",
   "id": "98bfa948-632b-4daa-b200-0ae02c723b2b",
   "metadata": {},
   "source": [
    "#### Checking if any null values exist in the data"
   ]
  },
  {
   "cell_type": "code",
   "execution_count": 6,
   "id": "6fde77dc-8e15-4e7f-9fc5-b5222bf3ad54",
   "metadata": {
    "tags": []
   },
   "outputs": [
    {
     "data": {
      "application/vnd.jupyter.widget-view+json": {
       "model_id": "acd6319705b4402aa99d6b1760b14f80",
       "version_major": 2,
       "version_minor": 0
      },
      "text/plain": [
       "Query is running:   0%|          |"
      ]
     },
     "metadata": {},
     "output_type": "display_data"
    },
    {
     "data": {
      "application/vnd.jupyter.widget-view+json": {
       "model_id": "a1b1ceebfc2446769aa6740ee61395fd",
       "version_major": 2,
       "version_minor": 0
      },
      "text/plain": [
       "Downloading: |          |"
      ]
     },
     "metadata": {},
     "output_type": "display_data"
    },
    {
     "data": {
      "text/html": [
       "<div>\n",
       "<style scoped>\n",
       "    .dataframe tbody tr th:only-of-type {\n",
       "        vertical-align: middle;\n",
       "    }\n",
       "\n",
       "    .dataframe tbody tr th {\n",
       "        vertical-align: top;\n",
       "    }\n",
       "\n",
       "    .dataframe thead th {\n",
       "        text-align: right;\n",
       "    }\n",
       "</style>\n",
       "<table border=\"1\" class=\"dataframe\">\n",
       "  <thead>\n",
       "    <tr style=\"text-align: right;\">\n",
       "      <th></th>\n",
       "      <th>date</th>\n",
       "      <th>compliment_count</th>\n",
       "      <th>business_id</th>\n",
       "      <th>user_id</th>\n",
       "    </tr>\n",
       "  </thead>\n",
       "  <tbody>\n",
       "  </tbody>\n",
       "</table>\n",
       "</div>"
      ],
      "text/plain": [
       "Empty DataFrame\n",
       "Columns: [date, compliment_count, business_id, user_id]\n",
       "Index: []"
      ]
     },
     "execution_count": 6,
     "metadata": {},
     "output_type": "execute_result"
    }
   ],
   "source": [
    "%%bigquery\n",
    "SELECT *\n",
    "FROM `ba775-project-a04.yelp_data.tip`\n",
    "WHERE user_id IS NULL\n",
    "   OR business_id IS NULL\n",
    "   OR compliment_count IS NULL\n",
    "   OR date IS NULL;"
   ]
  },
  {
   "cell_type": "markdown",
   "id": "26c2386a-facd-42a2-8531-668dcb091616",
   "metadata": {},
   "source": [
    "#### Checking if the date variable can be expanded upon"
   ]
  },
  {
   "cell_type": "code",
   "execution_count": 7,
   "id": "8cbd4562-1b6c-4a77-b6c9-9ccf34627086",
   "metadata": {
    "tags": []
   },
   "outputs": [
    {
     "data": {
      "application/vnd.jupyter.widget-view+json": {
       "model_id": "ff3b526774f54ff794a57816dfdeb925",
       "version_major": 2,
       "version_minor": 0
      },
      "text/plain": [
       "Query is running:   0%|          |"
      ]
     },
     "metadata": {},
     "output_type": "display_data"
    },
    {
     "data": {
      "application/vnd.jupyter.widget-view+json": {
       "model_id": "8a064667e3a3475eb8c62ac9b99de148",
       "version_major": 2,
       "version_minor": 0
      },
      "text/plain": [
       "Downloading:   0%|          |"
      ]
     },
     "metadata": {},
     "output_type": "display_data"
    },
    {
     "data": {
      "text/html": [
       "<div>\n",
       "<style scoped>\n",
       "    .dataframe tbody tr th:only-of-type {\n",
       "        vertical-align: middle;\n",
       "    }\n",
       "\n",
       "    .dataframe tbody tr th {\n",
       "        vertical-align: top;\n",
       "    }\n",
       "\n",
       "    .dataframe thead th {\n",
       "        text-align: right;\n",
       "    }\n",
       "</style>\n",
       "<table border=\"1\" class=\"dataframe\">\n",
       "  <thead>\n",
       "    <tr style=\"text-align: right;\">\n",
       "      <th></th>\n",
       "      <th>date</th>\n",
       "      <th>compliment_count</th>\n",
       "      <th>business_id</th>\n",
       "      <th>user_id</th>\n",
       "      <th>year</th>\n",
       "      <th>month</th>\n",
       "    </tr>\n",
       "  </thead>\n",
       "  <tbody>\n",
       "    <tr>\n",
       "      <th>0</th>\n",
       "      <td>2021-12-03 18:35:53+00:00</td>\n",
       "      <td>0</td>\n",
       "      <td>---kPU91CF4Lq2-WlRu9Lw</td>\n",
       "      <td>zmgsdGzOp08BWJZ2yrOKww</td>\n",
       "      <td>2021</td>\n",
       "      <td>12</td>\n",
       "    </tr>\n",
       "    <tr>\n",
       "      <th>1</th>\n",
       "      <td>2021-01-12 23:10:44+00:00</td>\n",
       "      <td>0</td>\n",
       "      <td>---kPU91CF4Lq2-WlRu9Lw</td>\n",
       "      <td>VjvrRYcqu34DyBns0R11bg</td>\n",
       "      <td>2021</td>\n",
       "      <td>1</td>\n",
       "    </tr>\n",
       "    <tr>\n",
       "      <th>2</th>\n",
       "      <td>2021-03-30 03:53:21+00:00</td>\n",
       "      <td>0</td>\n",
       "      <td>---kPU91CF4Lq2-WlRu9Lw</td>\n",
       "      <td>VjvrRYcqu34DyBns0R11bg</td>\n",
       "      <td>2021</td>\n",
       "      <td>3</td>\n",
       "    </tr>\n",
       "    <tr>\n",
       "      <th>3</th>\n",
       "      <td>2021-09-23 16:58:31+00:00</td>\n",
       "      <td>0</td>\n",
       "      <td>---kPU91CF4Lq2-WlRu9Lw</td>\n",
       "      <td>St3aCytjxiMN-5OvFvcgSw</td>\n",
       "      <td>2021</td>\n",
       "      <td>9</td>\n",
       "    </tr>\n",
       "    <tr>\n",
       "      <th>4</th>\n",
       "      <td>2016-12-10 19:34:56+00:00</td>\n",
       "      <td>0</td>\n",
       "      <td>--30_8IhuyMHbSOcNWd6DQ</td>\n",
       "      <td>jd0gf26c8aERhlXnwTwueQ</td>\n",
       "      <td>2016</td>\n",
       "      <td>12</td>\n",
       "    </tr>\n",
       "    <tr>\n",
       "      <th>...</th>\n",
       "      <td>...</td>\n",
       "      <td>...</td>\n",
       "      <td>...</td>\n",
       "      <td>...</td>\n",
       "      <td>...</td>\n",
       "      <td>...</td>\n",
       "    </tr>\n",
       "    <tr>\n",
       "      <th>995</th>\n",
       "      <td>2011-06-26 20:53:09+00:00</td>\n",
       "      <td>0</td>\n",
       "      <td>-85kJMtb9wqNWDT8yLbitw</td>\n",
       "      <td>RXC4vbHOgwfYWmj0CxOAyw</td>\n",
       "      <td>2011</td>\n",
       "      <td>6</td>\n",
       "    </tr>\n",
       "    <tr>\n",
       "      <th>996</th>\n",
       "      <td>2016-03-22 23:44:56+00:00</td>\n",
       "      <td>0</td>\n",
       "      <td>-86Z04IBKxhEQ17rCOkn8g</td>\n",
       "      <td>A9pc0rdtWY5BY3LDHlVdGA</td>\n",
       "      <td>2016</td>\n",
       "      <td>3</td>\n",
       "    </tr>\n",
       "    <tr>\n",
       "      <th>997</th>\n",
       "      <td>2014-06-13 18:03:38+00:00</td>\n",
       "      <td>0</td>\n",
       "      <td>-86lWqykjlPF2MBrHRFcCw</td>\n",
       "      <td>PDjTbAflKSqLZFHKgsh9fg</td>\n",
       "      <td>2014</td>\n",
       "      <td>6</td>\n",
       "    </tr>\n",
       "    <tr>\n",
       "      <th>998</th>\n",
       "      <td>2012-12-27 21:33:13+00:00</td>\n",
       "      <td>0</td>\n",
       "      <td>-8NGFqFrlOmWawr827tZNg</td>\n",
       "      <td>kYhCT0gkg1ZvZko4d3dDIQ</td>\n",
       "      <td>2012</td>\n",
       "      <td>12</td>\n",
       "    </tr>\n",
       "    <tr>\n",
       "      <th>999</th>\n",
       "      <td>2013-03-19 23:23:51+00:00</td>\n",
       "      <td>0</td>\n",
       "      <td>-8NGFqFrlOmWawr827tZNg</td>\n",
       "      <td>Znw0YbrA7hXFDQ0ricdS8g</td>\n",
       "      <td>2013</td>\n",
       "      <td>3</td>\n",
       "    </tr>\n",
       "  </tbody>\n",
       "</table>\n",
       "<p>1000 rows × 6 columns</p>\n",
       "</div>"
      ],
      "text/plain": [
       "                         date  compliment_count             business_id  \\\n",
       "0   2021-12-03 18:35:53+00:00                 0  ---kPU91CF4Lq2-WlRu9Lw   \n",
       "1   2021-01-12 23:10:44+00:00                 0  ---kPU91CF4Lq2-WlRu9Lw   \n",
       "2   2021-03-30 03:53:21+00:00                 0  ---kPU91CF4Lq2-WlRu9Lw   \n",
       "3   2021-09-23 16:58:31+00:00                 0  ---kPU91CF4Lq2-WlRu9Lw   \n",
       "4   2016-12-10 19:34:56+00:00                 0  --30_8IhuyMHbSOcNWd6DQ   \n",
       "..                        ...               ...                     ...   \n",
       "995 2011-06-26 20:53:09+00:00                 0  -85kJMtb9wqNWDT8yLbitw   \n",
       "996 2016-03-22 23:44:56+00:00                 0  -86Z04IBKxhEQ17rCOkn8g   \n",
       "997 2014-06-13 18:03:38+00:00                 0  -86lWqykjlPF2MBrHRFcCw   \n",
       "998 2012-12-27 21:33:13+00:00                 0  -8NGFqFrlOmWawr827tZNg   \n",
       "999 2013-03-19 23:23:51+00:00                 0  -8NGFqFrlOmWawr827tZNg   \n",
       "\n",
       "                    user_id  year  month  \n",
       "0    zmgsdGzOp08BWJZ2yrOKww  2021     12  \n",
       "1    VjvrRYcqu34DyBns0R11bg  2021      1  \n",
       "2    VjvrRYcqu34DyBns0R11bg  2021      3  \n",
       "3    St3aCytjxiMN-5OvFvcgSw  2021      9  \n",
       "4    jd0gf26c8aERhlXnwTwueQ  2016     12  \n",
       "..                      ...   ...    ...  \n",
       "995  RXC4vbHOgwfYWmj0CxOAyw  2011      6  \n",
       "996  A9pc0rdtWY5BY3LDHlVdGA  2016      3  \n",
       "997  PDjTbAflKSqLZFHKgsh9fg  2014      6  \n",
       "998  kYhCT0gkg1ZvZko4d3dDIQ  2012     12  \n",
       "999  Znw0YbrA7hXFDQ0ricdS8g  2013      3  \n",
       "\n",
       "[1000 rows x 6 columns]"
      ]
     },
     "execution_count": 7,
     "metadata": {},
     "output_type": "execute_result"
    }
   ],
   "source": [
    "%%bigquery\n",
    "SELECT\n",
    "    date,\n",
    "    compliment_count,\n",
    "    business_id,\n",
    "    user_id,\n",
    "    EXTRACT(YEAR FROM date) AS year,\n",
    "    EXTRACT(MONTH FROM date) AS month\n",
    "FROM\n",
    "    `ba775-project-a04.yelp_data.tip`\n",
    "LIMIT 1000;"
   ]
  },
  {
   "cell_type": "markdown",
   "id": "cf033d83-d18a-4d4f-ae59-996effd79203",
   "metadata": {},
   "source": [
    "#### Filtering out tips relevant to restaurant businesses"
   ]
  },
  {
   "cell_type": "code",
   "execution_count": 9,
   "id": "ccfc6814-4f1e-480d-9b89-a2f00e387ef2",
   "metadata": {},
   "outputs": [
    {
     "data": {
      "application/vnd.jupyter.widget-view+json": {
       "model_id": "6646c2bd0f0547c193ccd67492afc663",
       "version_major": 2,
       "version_minor": 0
      },
      "text/plain": [
       "Query is running:   0%|          |"
      ]
     },
     "metadata": {},
     "output_type": "display_data"
    },
    {
     "data": {
      "text/html": [
       "<div>\n",
       "<style scoped>\n",
       "    .dataframe tbody tr th:only-of-type {\n",
       "        vertical-align: middle;\n",
       "    }\n",
       "\n",
       "    .dataframe tbody tr th {\n",
       "        vertical-align: top;\n",
       "    }\n",
       "\n",
       "    .dataframe thead th {\n",
       "        text-align: right;\n",
       "    }\n",
       "</style>\n",
       "<table border=\"1\" class=\"dataframe\">\n",
       "  <thead>\n",
       "    <tr style=\"text-align: right;\">\n",
       "      <th></th>\n",
       "    </tr>\n",
       "  </thead>\n",
       "  <tbody>\n",
       "  </tbody>\n",
       "</table>\n",
       "</div>"
      ],
      "text/plain": [
       "Empty DataFrame\n",
       "Columns: []\n",
       "Index: []"
      ]
     },
     "execution_count": 9,
     "metadata": {},
     "output_type": "execute_result"
    }
   ],
   "source": [
    "%%bigquery\n",
    "CREATE TABLE `ba775-project-a04.yelp_data.restaurant_tip` AS\n",
    "SELECT T.*\n",
    "FROM `ba775-project-a04.yelp_data.restaurant_businesses` AS B\n",
    "LEFT JOIN `ba775-project-a04.yelp_data.tip` AS T\n",
    "USING(business_id);"
   ]
  },
  {
   "cell_type": "markdown",
   "id": "2619b391-4ba1-4d33-bd95-58ad27c7db78",
   "metadata": {},
   "source": [
    "## Cleaning Review Table"
   ]
  },
  {
   "cell_type": "markdown",
   "id": "265aeb34-47b4-4834-9ed7-2b9b4eb70961",
   "metadata": {},
   "source": [
    "#### Overview of current table"
   ]
  },
  {
   "cell_type": "code",
   "execution_count": 10,
   "id": "abd6a552-3cd6-4055-9617-f89c305a0f27",
   "metadata": {},
   "outputs": [
    {
     "data": {
      "application/vnd.jupyter.widget-view+json": {
       "model_id": "e4267d7c8785483ca621abbaba8b1eb9",
       "version_major": 2,
       "version_minor": 0
      },
      "text/plain": [
       "Query is running:   0%|          |"
      ]
     },
     "metadata": {},
     "output_type": "display_data"
    },
    {
     "data": {
      "application/vnd.jupyter.widget-view+json": {
       "model_id": "21da3df18d3244578a02b8cf2b7170b5",
       "version_major": 2,
       "version_minor": 0
      },
      "text/plain": [
       "Downloading:   0%|          |"
      ]
     },
     "metadata": {},
     "output_type": "display_data"
    },
    {
     "data": {
      "text/html": [
       "<div>\n",
       "<style scoped>\n",
       "    .dataframe tbody tr th:only-of-type {\n",
       "        vertical-align: middle;\n",
       "    }\n",
       "\n",
       "    .dataframe tbody tr th {\n",
       "        vertical-align: top;\n",
       "    }\n",
       "\n",
       "    .dataframe thead th {\n",
       "        text-align: right;\n",
       "    }\n",
       "</style>\n",
       "<table border=\"1\" class=\"dataframe\">\n",
       "  <thead>\n",
       "    <tr style=\"text-align: right;\">\n",
       "      <th></th>\n",
       "      <th>cool</th>\n",
       "      <th>stars</th>\n",
       "      <th>date</th>\n",
       "      <th>funny</th>\n",
       "      <th>review_id</th>\n",
       "      <th>useful</th>\n",
       "      <th>business_id</th>\n",
       "      <th>user_id</th>\n",
       "    </tr>\n",
       "  </thead>\n",
       "  <tbody>\n",
       "    <tr>\n",
       "      <th>0</th>\n",
       "      <td>0</td>\n",
       "      <td>2.0</td>\n",
       "      <td>2019-07-10 19:57:25+00:00</td>\n",
       "      <td>0</td>\n",
       "      <td>055lUC4jB4QAIViINcEJxg</td>\n",
       "      <td>0</td>\n",
       "      <td>DFZnh7ApQMk0nYvwTlRUxw</td>\n",
       "      <td>hNDZGIu9Aovra5VGVk1heQ</td>\n",
       "    </tr>\n",
       "    <tr>\n",
       "      <th>1</th>\n",
       "      <td>0</td>\n",
       "      <td>2.0</td>\n",
       "      <td>2017-01-10 18:37:09+00:00</td>\n",
       "      <td>0</td>\n",
       "      <td>Bg9aQH_cF8cj3BvU8aNFLw</td>\n",
       "      <td>0</td>\n",
       "      <td>KyjOahjnvnz28iPsXddJow</td>\n",
       "      <td>G2J7KkH1Y2qAdUM3wbJlQA</td>\n",
       "    </tr>\n",
       "    <tr>\n",
       "      <th>2</th>\n",
       "      <td>0</td>\n",
       "      <td>2.0</td>\n",
       "      <td>2015-10-11 00:24:00+00:00</td>\n",
       "      <td>0</td>\n",
       "      <td>rxlfJ9MvM4R-iAosqTQsrg</td>\n",
       "      <td>0</td>\n",
       "      <td>tJL-K8vopI-mN3eFW9YnJQ</td>\n",
       "      <td>2de2hu_AdnR4wcifTlkkqA</td>\n",
       "    </tr>\n",
       "    <tr>\n",
       "      <th>3</th>\n",
       "      <td>0</td>\n",
       "      <td>2.0</td>\n",
       "      <td>2018-03-09 17:36:42+00:00</td>\n",
       "      <td>0</td>\n",
       "      <td>iRIPSMXJxMCIWrAh14cB3A</td>\n",
       "      <td>0</td>\n",
       "      <td>g-IXI3v3fOudMsyLPKb-eQ</td>\n",
       "      <td>miNT-FJ5WEFV-uk4pLOQnQ</td>\n",
       "    </tr>\n",
       "    <tr>\n",
       "      <th>4</th>\n",
       "      <td>0</td>\n",
       "      <td>2.0</td>\n",
       "      <td>2017-11-28 01:29:40+00:00</td>\n",
       "      <td>0</td>\n",
       "      <td>m5WzAQ3YlNgFgkMUJ8oIfA</td>\n",
       "      <td>0</td>\n",
       "      <td>yK8LWJ4VRTYEoGxVYzcjQg</td>\n",
       "      <td>LbisQaSrSdJCnW6Q-XzeAA</td>\n",
       "    </tr>\n",
       "    <tr>\n",
       "      <th>5</th>\n",
       "      <td>0</td>\n",
       "      <td>2.0</td>\n",
       "      <td>2019-02-15 21:55:24+00:00</td>\n",
       "      <td>0</td>\n",
       "      <td>VXU99P2GpDsfTFd4MJ8YLw</td>\n",
       "      <td>0</td>\n",
       "      <td>aAdGIK9ewmiWtGzIcrQgNA</td>\n",
       "      <td>0A46uacaUaFc9iTPe0L7CQ</td>\n",
       "    </tr>\n",
       "    <tr>\n",
       "      <th>6</th>\n",
       "      <td>0</td>\n",
       "      <td>2.0</td>\n",
       "      <td>2019-07-20 15:15:49+00:00</td>\n",
       "      <td>0</td>\n",
       "      <td>ePba2sXrWEys5YPoCrUetA</td>\n",
       "      <td>0</td>\n",
       "      <td>xJIeT5--AiPdvPb5BRflyQ</td>\n",
       "      <td>Eb7EcTHdbeWucQ6XA80aOw</td>\n",
       "    </tr>\n",
       "    <tr>\n",
       "      <th>7</th>\n",
       "      <td>0</td>\n",
       "      <td>2.0</td>\n",
       "      <td>2016-01-05 16:48:55+00:00</td>\n",
       "      <td>0</td>\n",
       "      <td>wHVlwrB-zHIp-bPN6ZiDUA</td>\n",
       "      <td>0</td>\n",
       "      <td>5Ubo-2HLRnCCo8Pnq-v-cQ</td>\n",
       "      <td>aSkP_BL_DRexxTOUka_doQ</td>\n",
       "    </tr>\n",
       "    <tr>\n",
       "      <th>8</th>\n",
       "      <td>0</td>\n",
       "      <td>2.0</td>\n",
       "      <td>2020-02-16 15:08:35+00:00</td>\n",
       "      <td>0</td>\n",
       "      <td>zqhBFUnipnVGHWBhp-SaOg</td>\n",
       "      <td>0</td>\n",
       "      <td>ASKMKkejMCoFA4gIfdhbNw</td>\n",
       "      <td>yeeqo5hRlSYEWH0x4KRHzA</td>\n",
       "    </tr>\n",
       "    <tr>\n",
       "      <th>9</th>\n",
       "      <td>0</td>\n",
       "      <td>2.0</td>\n",
       "      <td>2016-09-06 20:47:27+00:00</td>\n",
       "      <td>0</td>\n",
       "      <td>Wj44GcP98vM2O7VrpYJvaQ</td>\n",
       "      <td>0</td>\n",
       "      <td>mEam9yl2KQs0ebKgj3mPZw</td>\n",
       "      <td>f0LcLqwZr29JOvlDw98JqA</td>\n",
       "    </tr>\n",
       "  </tbody>\n",
       "</table>\n",
       "</div>"
      ],
      "text/plain": [
       "   cool  stars                      date  funny               review_id  \\\n",
       "0     0    2.0 2019-07-10 19:57:25+00:00      0  055lUC4jB4QAIViINcEJxg   \n",
       "1     0    2.0 2017-01-10 18:37:09+00:00      0  Bg9aQH_cF8cj3BvU8aNFLw   \n",
       "2     0    2.0 2015-10-11 00:24:00+00:00      0  rxlfJ9MvM4R-iAosqTQsrg   \n",
       "3     0    2.0 2018-03-09 17:36:42+00:00      0  iRIPSMXJxMCIWrAh14cB3A   \n",
       "4     0    2.0 2017-11-28 01:29:40+00:00      0  m5WzAQ3YlNgFgkMUJ8oIfA   \n",
       "5     0    2.0 2019-02-15 21:55:24+00:00      0  VXU99P2GpDsfTFd4MJ8YLw   \n",
       "6     0    2.0 2019-07-20 15:15:49+00:00      0  ePba2sXrWEys5YPoCrUetA   \n",
       "7     0    2.0 2016-01-05 16:48:55+00:00      0  wHVlwrB-zHIp-bPN6ZiDUA   \n",
       "8     0    2.0 2020-02-16 15:08:35+00:00      0  zqhBFUnipnVGHWBhp-SaOg   \n",
       "9     0    2.0 2016-09-06 20:47:27+00:00      0  Wj44GcP98vM2O7VrpYJvaQ   \n",
       "\n",
       "   useful             business_id                 user_id  \n",
       "0       0  DFZnh7ApQMk0nYvwTlRUxw  hNDZGIu9Aovra5VGVk1heQ  \n",
       "1       0  KyjOahjnvnz28iPsXddJow  G2J7KkH1Y2qAdUM3wbJlQA  \n",
       "2       0  tJL-K8vopI-mN3eFW9YnJQ  2de2hu_AdnR4wcifTlkkqA  \n",
       "3       0  g-IXI3v3fOudMsyLPKb-eQ  miNT-FJ5WEFV-uk4pLOQnQ  \n",
       "4       0  yK8LWJ4VRTYEoGxVYzcjQg  LbisQaSrSdJCnW6Q-XzeAA  \n",
       "5       0  aAdGIK9ewmiWtGzIcrQgNA  0A46uacaUaFc9iTPe0L7CQ  \n",
       "6       0  xJIeT5--AiPdvPb5BRflyQ  Eb7EcTHdbeWucQ6XA80aOw  \n",
       "7       0  5Ubo-2HLRnCCo8Pnq-v-cQ  aSkP_BL_DRexxTOUka_doQ  \n",
       "8       0  ASKMKkejMCoFA4gIfdhbNw  yeeqo5hRlSYEWH0x4KRHzA  \n",
       "9       0  mEam9yl2KQs0ebKgj3mPZw  f0LcLqwZr29JOvlDw98JqA  "
      ]
     },
     "execution_count": 10,
     "metadata": {},
     "output_type": "execute_result"
    }
   ],
   "source": [
    "%%bigquery\n",
    "SELECT * FROM `ba775-project-a04.yelp_data.review`\n",
    "LIMIT 10"
   ]
  },
  {
   "cell_type": "markdown",
   "id": "67ccefa6-1504-4d78-8421-8a3218e05f2d",
   "metadata": {},
   "source": [
    "#### Checking for any null values\n"
   ]
  },
  {
   "cell_type": "code",
   "execution_count": 11,
   "id": "e3abe32a-a21a-4bc9-95b0-0d9ae9eb92da",
   "metadata": {
    "tags": []
   },
   "outputs": [
    {
     "data": {
      "application/vnd.jupyter.widget-view+json": {
       "model_id": "debd40dfc4af498ab4099d98cbbf7df0",
       "version_major": 2,
       "version_minor": 0
      },
      "text/plain": [
       "Query is running:   0%|          |"
      ]
     },
     "metadata": {},
     "output_type": "display_data"
    },
    {
     "data": {
      "application/vnd.jupyter.widget-view+json": {
       "model_id": "bfbd7417f1ad404fb34732ee31cc3905",
       "version_major": 2,
       "version_minor": 0
      },
      "text/plain": [
       "Downloading: |          |"
      ]
     },
     "metadata": {},
     "output_type": "display_data"
    },
    {
     "data": {
      "text/html": [
       "<div>\n",
       "<style scoped>\n",
       "    .dataframe tbody tr th:only-of-type {\n",
       "        vertical-align: middle;\n",
       "    }\n",
       "\n",
       "    .dataframe tbody tr th {\n",
       "        vertical-align: top;\n",
       "    }\n",
       "\n",
       "    .dataframe thead th {\n",
       "        text-align: right;\n",
       "    }\n",
       "</style>\n",
       "<table border=\"1\" class=\"dataframe\">\n",
       "  <thead>\n",
       "    <tr style=\"text-align: right;\">\n",
       "      <th></th>\n",
       "      <th>cool</th>\n",
       "      <th>stars</th>\n",
       "      <th>date</th>\n",
       "      <th>funny</th>\n",
       "      <th>review_id</th>\n",
       "      <th>useful</th>\n",
       "      <th>business_id</th>\n",
       "      <th>user_id</th>\n",
       "    </tr>\n",
       "  </thead>\n",
       "  <tbody>\n",
       "  </tbody>\n",
       "</table>\n",
       "</div>"
      ],
      "text/plain": [
       "Empty DataFrame\n",
       "Columns: [cool, stars, date, funny, review_id, useful, business_id, user_id]\n",
       "Index: []"
      ]
     },
     "execution_count": 11,
     "metadata": {},
     "output_type": "execute_result"
    }
   ],
   "source": [
    "%%bigquery\n",
    "SELECT *\n",
    "FROM `ba775-project-a04.yelp_data.review`\n",
    "WHERE cool IS NULL\n",
    "   OR stars IS NULL\n",
    "   OR date IS NULL\n",
    "   OR funny IS NULL\n",
    "   OR review_id IS NULL\n",
    "   OR useful IS NULL\n",
    "   OR business_id IS NULL\n",
    "   OR user_id IS NULL"
   ]
  },
  {
   "cell_type": "markdown",
   "id": "35cd795d-0653-48f0-9e92-50b2dadee394",
   "metadata": {},
   "source": [
    "#### Checking if the date variable can be expanded upon"
   ]
  },
  {
   "cell_type": "code",
   "execution_count": 12,
   "id": "7e7a05c0-f2ec-4616-a12a-332c3155a43c",
   "metadata": {
    "tags": []
   },
   "outputs": [
    {
     "data": {
      "application/vnd.jupyter.widget-view+json": {
       "model_id": "cef846907941438589c0bbca66dbb2f6",
       "version_major": 2,
       "version_minor": 0
      },
      "text/plain": [
       "Query is running:   0%|          |"
      ]
     },
     "metadata": {},
     "output_type": "display_data"
    },
    {
     "data": {
      "application/vnd.jupyter.widget-view+json": {
       "model_id": "7f1cc27ceda6487c95002489c08badc1",
       "version_major": 2,
       "version_minor": 0
      },
      "text/plain": [
       "Downloading:   0%|          |"
      ]
     },
     "metadata": {},
     "output_type": "display_data"
    },
    {
     "data": {
      "text/html": [
       "<div>\n",
       "<style scoped>\n",
       "    .dataframe tbody tr th:only-of-type {\n",
       "        vertical-align: middle;\n",
       "    }\n",
       "\n",
       "    .dataframe tbody tr th {\n",
       "        vertical-align: top;\n",
       "    }\n",
       "\n",
       "    .dataframe thead th {\n",
       "        text-align: right;\n",
       "    }\n",
       "</style>\n",
       "<table border=\"1\" class=\"dataframe\">\n",
       "  <thead>\n",
       "    <tr style=\"text-align: right;\">\n",
       "      <th></th>\n",
       "      <th>cool</th>\n",
       "      <th>stars</th>\n",
       "      <th>date</th>\n",
       "      <th>funny</th>\n",
       "      <th>review_id</th>\n",
       "      <th>useful</th>\n",
       "      <th>business_id</th>\n",
       "      <th>user_id</th>\n",
       "      <th>year</th>\n",
       "      <th>month</th>\n",
       "    </tr>\n",
       "  </thead>\n",
       "  <tbody>\n",
       "    <tr>\n",
       "      <th>0</th>\n",
       "      <td>0</td>\n",
       "      <td>2.0</td>\n",
       "      <td>2013-09-12 23:25:41+00:00</td>\n",
       "      <td>0</td>\n",
       "      <td>Z0lgOjVAnZbYAdx7374KUA</td>\n",
       "      <td>0</td>\n",
       "      <td>e8IsHdOqg-MyytZ3-10jbA</td>\n",
       "      <td>NfoAmvEZ3NVTAtOEshCvwQ</td>\n",
       "      <td>2013</td>\n",
       "      <td>9</td>\n",
       "    </tr>\n",
       "    <tr>\n",
       "      <th>1</th>\n",
       "      <td>0</td>\n",
       "      <td>2.0</td>\n",
       "      <td>2011-11-18 14:00:09+00:00</td>\n",
       "      <td>0</td>\n",
       "      <td>bLWbL8iy8g_j_7USbKgeWw</td>\n",
       "      <td>0</td>\n",
       "      <td>0l_njS4wGMadAk1b4nZRUA</td>\n",
       "      <td>vbEf26yXYP0WBsveEXWIlw</td>\n",
       "      <td>2011</td>\n",
       "      <td>11</td>\n",
       "    </tr>\n",
       "    <tr>\n",
       "      <th>2</th>\n",
       "      <td>0</td>\n",
       "      <td>2.0</td>\n",
       "      <td>2015-03-27 00:07:49+00:00</td>\n",
       "      <td>0</td>\n",
       "      <td>-pepYYLPEZzEJekHEF1c-Q</td>\n",
       "      <td>0</td>\n",
       "      <td>CgiwCrXs3Ggu9eKFPIgjtA</td>\n",
       "      <td>eacSi8XUcBLXlDIuLMDsow</td>\n",
       "      <td>2015</td>\n",
       "      <td>3</td>\n",
       "    </tr>\n",
       "    <tr>\n",
       "      <th>3</th>\n",
       "      <td>0</td>\n",
       "      <td>2.0</td>\n",
       "      <td>2018-04-21 12:49:28+00:00</td>\n",
       "      <td>0</td>\n",
       "      <td>xEfT0xY_cCIW-lxEsyRN8Q</td>\n",
       "      <td>0</td>\n",
       "      <td>ktM6aYuzqWd-kA8SIWswiQ</td>\n",
       "      <td>IpLRJY4CP3fXtlEd8Y4GFQ</td>\n",
       "      <td>2018</td>\n",
       "      <td>4</td>\n",
       "    </tr>\n",
       "    <tr>\n",
       "      <th>4</th>\n",
       "      <td>0</td>\n",
       "      <td>2.0</td>\n",
       "      <td>2021-06-18 02:40:55+00:00</td>\n",
       "      <td>0</td>\n",
       "      <td>T3UpHs1Fr8Ozu5OacUBBPw</td>\n",
       "      <td>0</td>\n",
       "      <td>_ouzokto3qEMm1Xa3W1drw</td>\n",
       "      <td>gfdDF6W076x1B83OWyvX_w</td>\n",
       "      <td>2021</td>\n",
       "      <td>6</td>\n",
       "    </tr>\n",
       "    <tr>\n",
       "      <th>5</th>\n",
       "      <td>0</td>\n",
       "      <td>2.0</td>\n",
       "      <td>2017-04-21 15:58:53+00:00</td>\n",
       "      <td>0</td>\n",
       "      <td>UAjDSoYhOr4V1OODvAq08w</td>\n",
       "      <td>0</td>\n",
       "      <td>f84O7bzOeLJbNphTn6cNHw</td>\n",
       "      <td>tdoFAdyE3wMAZ1K2tgtTOQ</td>\n",
       "      <td>2017</td>\n",
       "      <td>4</td>\n",
       "    </tr>\n",
       "    <tr>\n",
       "      <th>6</th>\n",
       "      <td>0</td>\n",
       "      <td>2.0</td>\n",
       "      <td>2013-08-31 08:48:11+00:00</td>\n",
       "      <td>0</td>\n",
       "      <td>6HAp8Gp89FZeyIQmfJlwTw</td>\n",
       "      <td>0</td>\n",
       "      <td>TCWnTa69sJ3vGQsdEe3Esw</td>\n",
       "      <td>X5_3x28U9dxzpbh-KGkzdw</td>\n",
       "      <td>2013</td>\n",
       "      <td>8</td>\n",
       "    </tr>\n",
       "    <tr>\n",
       "      <th>7</th>\n",
       "      <td>0</td>\n",
       "      <td>2.0</td>\n",
       "      <td>2012-02-21 00:37:14+00:00</td>\n",
       "      <td>0</td>\n",
       "      <td>SgP8aeBgepGbthxBF8kzZA</td>\n",
       "      <td>0</td>\n",
       "      <td>JP4jIbkthYZVKJCvMiZUDw</td>\n",
       "      <td>G-uv9J_2-0OyeIlNfHuYjw</td>\n",
       "      <td>2012</td>\n",
       "      <td>2</td>\n",
       "    </tr>\n",
       "    <tr>\n",
       "      <th>8</th>\n",
       "      <td>0</td>\n",
       "      <td>2.0</td>\n",
       "      <td>2015-04-25 02:28:41+00:00</td>\n",
       "      <td>0</td>\n",
       "      <td>oriaeJhVX4REbkZ33gGwIQ</td>\n",
       "      <td>0</td>\n",
       "      <td>3oy9A7cOIaQsuxrtmjyxIw</td>\n",
       "      <td>vsikhxSLtMk5APIf9U7C0w</td>\n",
       "      <td>2015</td>\n",
       "      <td>4</td>\n",
       "    </tr>\n",
       "    <tr>\n",
       "      <th>9</th>\n",
       "      <td>0</td>\n",
       "      <td>2.0</td>\n",
       "      <td>2018-10-25 02:28:32+00:00</td>\n",
       "      <td>0</td>\n",
       "      <td>2uXnuKjiN90AcOEaG6Ji2Q</td>\n",
       "      <td>0</td>\n",
       "      <td>JgTSG4rIDf20Kgp6U_asng</td>\n",
       "      <td>OKEiKXq8Q0LJFwc4bavH7w</td>\n",
       "      <td>2018</td>\n",
       "      <td>10</td>\n",
       "    </tr>\n",
       "  </tbody>\n",
       "</table>\n",
       "</div>"
      ],
      "text/plain": [
       "   cool  stars                      date  funny               review_id  \\\n",
       "0     0    2.0 2013-09-12 23:25:41+00:00      0  Z0lgOjVAnZbYAdx7374KUA   \n",
       "1     0    2.0 2011-11-18 14:00:09+00:00      0  bLWbL8iy8g_j_7USbKgeWw   \n",
       "2     0    2.0 2015-03-27 00:07:49+00:00      0  -pepYYLPEZzEJekHEF1c-Q   \n",
       "3     0    2.0 2018-04-21 12:49:28+00:00      0  xEfT0xY_cCIW-lxEsyRN8Q   \n",
       "4     0    2.0 2021-06-18 02:40:55+00:00      0  T3UpHs1Fr8Ozu5OacUBBPw   \n",
       "5     0    2.0 2017-04-21 15:58:53+00:00      0  UAjDSoYhOr4V1OODvAq08w   \n",
       "6     0    2.0 2013-08-31 08:48:11+00:00      0  6HAp8Gp89FZeyIQmfJlwTw   \n",
       "7     0    2.0 2012-02-21 00:37:14+00:00      0  SgP8aeBgepGbthxBF8kzZA   \n",
       "8     0    2.0 2015-04-25 02:28:41+00:00      0  oriaeJhVX4REbkZ33gGwIQ   \n",
       "9     0    2.0 2018-10-25 02:28:32+00:00      0  2uXnuKjiN90AcOEaG6Ji2Q   \n",
       "\n",
       "   useful             business_id                 user_id  year  month  \n",
       "0       0  e8IsHdOqg-MyytZ3-10jbA  NfoAmvEZ3NVTAtOEshCvwQ  2013      9  \n",
       "1       0  0l_njS4wGMadAk1b4nZRUA  vbEf26yXYP0WBsveEXWIlw  2011     11  \n",
       "2       0  CgiwCrXs3Ggu9eKFPIgjtA  eacSi8XUcBLXlDIuLMDsow  2015      3  \n",
       "3       0  ktM6aYuzqWd-kA8SIWswiQ  IpLRJY4CP3fXtlEd8Y4GFQ  2018      4  \n",
       "4       0  _ouzokto3qEMm1Xa3W1drw  gfdDF6W076x1B83OWyvX_w  2021      6  \n",
       "5       0  f84O7bzOeLJbNphTn6cNHw  tdoFAdyE3wMAZ1K2tgtTOQ  2017      4  \n",
       "6       0  TCWnTa69sJ3vGQsdEe3Esw  X5_3x28U9dxzpbh-KGkzdw  2013      8  \n",
       "7       0  JP4jIbkthYZVKJCvMiZUDw  G-uv9J_2-0OyeIlNfHuYjw  2012      2  \n",
       "8       0  3oy9A7cOIaQsuxrtmjyxIw  vsikhxSLtMk5APIf9U7C0w  2015      4  \n",
       "9       0  JgTSG4rIDf20Kgp6U_asng  OKEiKXq8Q0LJFwc4bavH7w  2018     10  "
      ]
     },
     "execution_count": 12,
     "metadata": {},
     "output_type": "execute_result"
    }
   ],
   "source": [
    "%%bigquery\n",
    "SELECT\n",
    "    cool,\n",
    "    stars,\n",
    "    date,\n",
    "    funny,\n",
    "    review_id,\n",
    "    useful,\n",
    "    business_id,\n",
    "    user_id,\n",
    "    EXTRACT(YEAR FROM date) AS year,\n",
    "    EXTRACT(MONTH FROM date) AS month\n",
    "FROM `ba775-project-a04.yelp_data.review`\n",
    "LIMIT 10;"
   ]
  },
  {
   "cell_type": "markdown",
   "id": "7da34161-8cae-4b8f-aa9b-3dfa77e6564c",
   "metadata": {},
   "source": [
    "#### Filtering out reviews that are relevant for restaurant businesses"
   ]
  },
  {
   "cell_type": "code",
   "execution_count": 14,
   "id": "982243b9-46a4-4abf-85c7-9113d0e828e5",
   "metadata": {},
   "outputs": [
    {
     "data": {
      "application/vnd.jupyter.widget-view+json": {
       "model_id": "6a5113ee112e49ee8cffa9e290c62bff",
       "version_major": 2,
       "version_minor": 0
      },
      "text/plain": [
       "Query is running:   0%|          |"
      ]
     },
     "metadata": {},
     "output_type": "display_data"
    },
    {
     "data": {
      "text/html": [
       "<div>\n",
       "<style scoped>\n",
       "    .dataframe tbody tr th:only-of-type {\n",
       "        vertical-align: middle;\n",
       "    }\n",
       "\n",
       "    .dataframe tbody tr th {\n",
       "        vertical-align: top;\n",
       "    }\n",
       "\n",
       "    .dataframe thead th {\n",
       "        text-align: right;\n",
       "    }\n",
       "</style>\n",
       "<table border=\"1\" class=\"dataframe\">\n",
       "  <thead>\n",
       "    <tr style=\"text-align: right;\">\n",
       "      <th></th>\n",
       "    </tr>\n",
       "  </thead>\n",
       "  <tbody>\n",
       "  </tbody>\n",
       "</table>\n",
       "</div>"
      ],
      "text/plain": [
       "Empty DataFrame\n",
       "Columns: []\n",
       "Index: []"
      ]
     },
     "execution_count": 14,
     "metadata": {},
     "output_type": "execute_result"
    }
   ],
   "source": [
    "%%bigquery\n",
    "CREATE TABLE `ba775-project-a04.yelp_data.restaurant_review` AS\n",
    "SELECT R.*\n",
    "FROM `ba775-project-a04.yelp_data.restaurant_businesses` AS B\n",
    "LEFT JOIN `ba775-project-a04.yelp_data.review` AS R\n",
    "USING(business_id);"
   ]
  },
  {
   "cell_type": "markdown",
   "id": "f1074b1a-569a-456c-bf00-3f16f59f9058",
   "metadata": {},
   "source": [
    "## Cleaning User Table"
   ]
  },
  {
   "cell_type": "markdown",
   "id": "baf4760e-8ed1-4c9b-826a-3fe21d7dcb8a",
   "metadata": {},
   "source": [
    "#### Overview of current table"
   ]
  },
  {
   "cell_type": "code",
   "execution_count": 15,
   "id": "925697db-15ac-44f4-ad27-72af70bbd513",
   "metadata": {
    "tags": []
   },
   "outputs": [
    {
     "data": {
      "application/vnd.jupyter.widget-view+json": {
       "model_id": "36cad59bd2b14842aa6a48ed03288518",
       "version_major": 2,
       "version_minor": 0
      },
      "text/plain": [
       "Query is running:   0%|          |"
      ]
     },
     "metadata": {},
     "output_type": "display_data"
    },
    {
     "data": {
      "application/vnd.jupyter.widget-view+json": {
       "model_id": "1a873db0fa9f43e19b5da5f11e9b415e",
       "version_major": 2,
       "version_minor": 0
      },
      "text/plain": [
       "Downloading:   0%|          |"
      ]
     },
     "metadata": {},
     "output_type": "display_data"
    },
    {
     "data": {
      "text/html": [
       "<div>\n",
       "<style scoped>\n",
       "    .dataframe tbody tr th:only-of-type {\n",
       "        vertical-align: middle;\n",
       "    }\n",
       "\n",
       "    .dataframe tbody tr th {\n",
       "        vertical-align: top;\n",
       "    }\n",
       "\n",
       "    .dataframe thead th {\n",
       "        text-align: right;\n",
       "    }\n",
       "</style>\n",
       "<table border=\"1\" class=\"dataframe\">\n",
       "  <thead>\n",
       "    <tr style=\"text-align: right;\">\n",
       "      <th></th>\n",
       "      <th>compliment_writer</th>\n",
       "      <th>compliment_photos</th>\n",
       "      <th>compliment_funny</th>\n",
       "      <th>compliment_cool</th>\n",
       "      <th>compliment_plain</th>\n",
       "      <th>compliment_note</th>\n",
       "      <th>compliment_profile</th>\n",
       "      <th>compliment_more</th>\n",
       "      <th>compliment_cute</th>\n",
       "      <th>compliment_hot</th>\n",
       "      <th>...</th>\n",
       "      <th>average_stars</th>\n",
       "      <th>friends</th>\n",
       "      <th>cool</th>\n",
       "      <th>compliment_list</th>\n",
       "      <th>useful</th>\n",
       "      <th>funny</th>\n",
       "      <th>yelping_since</th>\n",
       "      <th>name</th>\n",
       "      <th>review_count</th>\n",
       "      <th>elite</th>\n",
       "    </tr>\n",
       "  </thead>\n",
       "  <tbody>\n",
       "    <tr>\n",
       "      <th>0</th>\n",
       "      <td>0</td>\n",
       "      <td>0</td>\n",
       "      <td>0</td>\n",
       "      <td>0</td>\n",
       "      <td>0</td>\n",
       "      <td>0</td>\n",
       "      <td>0</td>\n",
       "      <td>0</td>\n",
       "      <td>0</td>\n",
       "      <td>0</td>\n",
       "      <td>...</td>\n",
       "      <td>5.0</td>\n",
       "      <td>TL9LfHzDsBQq0y8ZDKKvzg, U0wyBwg45hDAzcUngmWGrA...</td>\n",
       "      <td>0</td>\n",
       "      <td>0</td>\n",
       "      <td>0</td>\n",
       "      <td>0</td>\n",
       "      <td>2012-10-17 12:10:17+00:00</td>\n",
       "      <td>GabeandRebecca</td>\n",
       "      <td>1</td>\n",
       "      <td>NaN</td>\n",
       "    </tr>\n",
       "    <tr>\n",
       "      <th>1</th>\n",
       "      <td>0</td>\n",
       "      <td>0</td>\n",
       "      <td>0</td>\n",
       "      <td>0</td>\n",
       "      <td>0</td>\n",
       "      <td>0</td>\n",
       "      <td>0</td>\n",
       "      <td>0</td>\n",
       "      <td>0</td>\n",
       "      <td>0</td>\n",
       "      <td>...</td>\n",
       "      <td>5.0</td>\n",
       "      <td>CC5UNVSVSeOoasHUV5peTg, ofJi6IjAZYu3UXwfoX-9vA...</td>\n",
       "      <td>0</td>\n",
       "      <td>0</td>\n",
       "      <td>0</td>\n",
       "      <td>0</td>\n",
       "      <td>2010-07-31 22:15:33+00:00</td>\n",
       "      <td>marcus</td>\n",
       "      <td>1</td>\n",
       "      <td>NaN</td>\n",
       "    </tr>\n",
       "    <tr>\n",
       "      <th>2</th>\n",
       "      <td>0</td>\n",
       "      <td>0</td>\n",
       "      <td>0</td>\n",
       "      <td>0</td>\n",
       "      <td>0</td>\n",
       "      <td>0</td>\n",
       "      <td>0</td>\n",
       "      <td>0</td>\n",
       "      <td>0</td>\n",
       "      <td>0</td>\n",
       "      <td>...</td>\n",
       "      <td>5.0</td>\n",
       "      <td>m6sCpFCuEg9CdZ0LIe0WBg, YMQQ9Nf0pGdr2mQAjF6Mfw...</td>\n",
       "      <td>0</td>\n",
       "      <td>0</td>\n",
       "      <td>0</td>\n",
       "      <td>0</td>\n",
       "      <td>2016-02-27 05:54:12+00:00</td>\n",
       "      <td>Daniel</td>\n",
       "      <td>1</td>\n",
       "      <td>NaN</td>\n",
       "    </tr>\n",
       "    <tr>\n",
       "      <th>3</th>\n",
       "      <td>0</td>\n",
       "      <td>0</td>\n",
       "      <td>0</td>\n",
       "      <td>0</td>\n",
       "      <td>0</td>\n",
       "      <td>0</td>\n",
       "      <td>0</td>\n",
       "      <td>0</td>\n",
       "      <td>0</td>\n",
       "      <td>0</td>\n",
       "      <td>...</td>\n",
       "      <td>4.0</td>\n",
       "      <td>g8O0f3INKP9aWhUoYK-IWg, BU71n38CovBLErKAuDF2pA...</td>\n",
       "      <td>0</td>\n",
       "      <td>0</td>\n",
       "      <td>0</td>\n",
       "      <td>0</td>\n",
       "      <td>2010-10-21 19:09:12+00:00</td>\n",
       "      <td>Jason</td>\n",
       "      <td>1</td>\n",
       "      <td>NaN</td>\n",
       "    </tr>\n",
       "    <tr>\n",
       "      <th>4</th>\n",
       "      <td>0</td>\n",
       "      <td>0</td>\n",
       "      <td>0</td>\n",
       "      <td>0</td>\n",
       "      <td>0</td>\n",
       "      <td>0</td>\n",
       "      <td>0</td>\n",
       "      <td>0</td>\n",
       "      <td>0</td>\n",
       "      <td>0</td>\n",
       "      <td>...</td>\n",
       "      <td>1.0</td>\n",
       "      <td>nbqd5Bbmd-orIHY7IKelvg, NhyfgaABV54xtSs23IDJdw...</td>\n",
       "      <td>0</td>\n",
       "      <td>0</td>\n",
       "      <td>0</td>\n",
       "      <td>0</td>\n",
       "      <td>2012-02-21 21:31:26+00:00</td>\n",
       "      <td>Erin</td>\n",
       "      <td>1</td>\n",
       "      <td>NaN</td>\n",
       "    </tr>\n",
       "    <tr>\n",
       "      <th>5</th>\n",
       "      <td>0</td>\n",
       "      <td>0</td>\n",
       "      <td>0</td>\n",
       "      <td>0</td>\n",
       "      <td>0</td>\n",
       "      <td>0</td>\n",
       "      <td>0</td>\n",
       "      <td>0</td>\n",
       "      <td>0</td>\n",
       "      <td>0</td>\n",
       "      <td>...</td>\n",
       "      <td>3.0</td>\n",
       "      <td>QAClo0cwSQuQnjtQDWmjtQ, N_RSb3sAX5SboWFW_l16rA...</td>\n",
       "      <td>0</td>\n",
       "      <td>0</td>\n",
       "      <td>0</td>\n",
       "      <td>0</td>\n",
       "      <td>2013-02-10 01:13:55+00:00</td>\n",
       "      <td>R P</td>\n",
       "      <td>1</td>\n",
       "      <td>NaN</td>\n",
       "    </tr>\n",
       "    <tr>\n",
       "      <th>6</th>\n",
       "      <td>0</td>\n",
       "      <td>0</td>\n",
       "      <td>0</td>\n",
       "      <td>0</td>\n",
       "      <td>0</td>\n",
       "      <td>0</td>\n",
       "      <td>0</td>\n",
       "      <td>0</td>\n",
       "      <td>0</td>\n",
       "      <td>0</td>\n",
       "      <td>...</td>\n",
       "      <td>1.0</td>\n",
       "      <td>Tsw_GGovH0KMJ9qtPdJdYA, RAuFa1EhjHIrECuXElvrnQ...</td>\n",
       "      <td>0</td>\n",
       "      <td>0</td>\n",
       "      <td>0</td>\n",
       "      <td>0</td>\n",
       "      <td>2014-07-01 00:31:56+00:00</td>\n",
       "      <td>Nina</td>\n",
       "      <td>1</td>\n",
       "      <td>NaN</td>\n",
       "    </tr>\n",
       "    <tr>\n",
       "      <th>7</th>\n",
       "      <td>0</td>\n",
       "      <td>0</td>\n",
       "      <td>0</td>\n",
       "      <td>0</td>\n",
       "      <td>0</td>\n",
       "      <td>0</td>\n",
       "      <td>0</td>\n",
       "      <td>0</td>\n",
       "      <td>0</td>\n",
       "      <td>0</td>\n",
       "      <td>...</td>\n",
       "      <td>5.0</td>\n",
       "      <td>fa-w9QJs3kPMpnzyzfJXoQ, TPHTZHFLlcGF6u09NgqR3g...</td>\n",
       "      <td>0</td>\n",
       "      <td>0</td>\n",
       "      <td>0</td>\n",
       "      <td>0</td>\n",
       "      <td>2013-02-08 00:06:46+00:00</td>\n",
       "      <td>Nate</td>\n",
       "      <td>1</td>\n",
       "      <td>NaN</td>\n",
       "    </tr>\n",
       "    <tr>\n",
       "      <th>8</th>\n",
       "      <td>0</td>\n",
       "      <td>0</td>\n",
       "      <td>0</td>\n",
       "      <td>0</td>\n",
       "      <td>0</td>\n",
       "      <td>0</td>\n",
       "      <td>0</td>\n",
       "      <td>0</td>\n",
       "      <td>0</td>\n",
       "      <td>0</td>\n",
       "      <td>...</td>\n",
       "      <td>5.0</td>\n",
       "      <td>5wFTRAX-I2p1fzF1pZ4lng, b_tA7ch6jFPfKB-PIfeWww...</td>\n",
       "      <td>0</td>\n",
       "      <td>0</td>\n",
       "      <td>0</td>\n",
       "      <td>0</td>\n",
       "      <td>2017-06-11 21:33:35+00:00</td>\n",
       "      <td>Savannah</td>\n",
       "      <td>1</td>\n",
       "      <td>NaN</td>\n",
       "    </tr>\n",
       "    <tr>\n",
       "      <th>9</th>\n",
       "      <td>0</td>\n",
       "      <td>0</td>\n",
       "      <td>0</td>\n",
       "      <td>0</td>\n",
       "      <td>0</td>\n",
       "      <td>1</td>\n",
       "      <td>0</td>\n",
       "      <td>0</td>\n",
       "      <td>0</td>\n",
       "      <td>0</td>\n",
       "      <td>...</td>\n",
       "      <td>5.0</td>\n",
       "      <td>U2I_5L2AMCi9_pkCuZ2IwA, zJP7YRH0f9NnJi0q-5EjJQ...</td>\n",
       "      <td>0</td>\n",
       "      <td>0</td>\n",
       "      <td>0</td>\n",
       "      <td>0</td>\n",
       "      <td>2011-10-10 01:18:14+00:00</td>\n",
       "      <td>Lara</td>\n",
       "      <td>1</td>\n",
       "      <td>NaN</td>\n",
       "    </tr>\n",
       "  </tbody>\n",
       "</table>\n",
       "<p>10 rows × 22 columns</p>\n",
       "</div>"
      ],
      "text/plain": [
       "   compliment_writer  compliment_photos  compliment_funny  compliment_cool  \\\n",
       "0                  0                  0                 0                0   \n",
       "1                  0                  0                 0                0   \n",
       "2                  0                  0                 0                0   \n",
       "3                  0                  0                 0                0   \n",
       "4                  0                  0                 0                0   \n",
       "5                  0                  0                 0                0   \n",
       "6                  0                  0                 0                0   \n",
       "7                  0                  0                 0                0   \n",
       "8                  0                  0                 0                0   \n",
       "9                  0                  0                 0                0   \n",
       "\n",
       "   compliment_plain  compliment_note  compliment_profile  compliment_more  \\\n",
       "0                 0                0                   0                0   \n",
       "1                 0                0                   0                0   \n",
       "2                 0                0                   0                0   \n",
       "3                 0                0                   0                0   \n",
       "4                 0                0                   0                0   \n",
       "5                 0                0                   0                0   \n",
       "6                 0                0                   0                0   \n",
       "7                 0                0                   0                0   \n",
       "8                 0                0                   0                0   \n",
       "9                 0                1                   0                0   \n",
       "\n",
       "   compliment_cute  compliment_hot  ...  average_stars  \\\n",
       "0                0               0  ...            5.0   \n",
       "1                0               0  ...            5.0   \n",
       "2                0               0  ...            5.0   \n",
       "3                0               0  ...            4.0   \n",
       "4                0               0  ...            1.0   \n",
       "5                0               0  ...            3.0   \n",
       "6                0               0  ...            1.0   \n",
       "7                0               0  ...            5.0   \n",
       "8                0               0  ...            5.0   \n",
       "9                0               0  ...            5.0   \n",
       "\n",
       "                                             friends  cool compliment_list  \\\n",
       "0  TL9LfHzDsBQq0y8ZDKKvzg, U0wyBwg45hDAzcUngmWGrA...     0               0   \n",
       "1  CC5UNVSVSeOoasHUV5peTg, ofJi6IjAZYu3UXwfoX-9vA...     0               0   \n",
       "2  m6sCpFCuEg9CdZ0LIe0WBg, YMQQ9Nf0pGdr2mQAjF6Mfw...     0               0   \n",
       "3  g8O0f3INKP9aWhUoYK-IWg, BU71n38CovBLErKAuDF2pA...     0               0   \n",
       "4  nbqd5Bbmd-orIHY7IKelvg, NhyfgaABV54xtSs23IDJdw...     0               0   \n",
       "5  QAClo0cwSQuQnjtQDWmjtQ, N_RSb3sAX5SboWFW_l16rA...     0               0   \n",
       "6  Tsw_GGovH0KMJ9qtPdJdYA, RAuFa1EhjHIrECuXElvrnQ...     0               0   \n",
       "7  fa-w9QJs3kPMpnzyzfJXoQ, TPHTZHFLlcGF6u09NgqR3g...     0               0   \n",
       "8  5wFTRAX-I2p1fzF1pZ4lng, b_tA7ch6jFPfKB-PIfeWww...     0               0   \n",
       "9  U2I_5L2AMCi9_pkCuZ2IwA, zJP7YRH0f9NnJi0q-5EjJQ...     0               0   \n",
       "\n",
       "   useful  funny             yelping_since            name review_count elite  \n",
       "0       0      0 2012-10-17 12:10:17+00:00  GabeandRebecca            1   NaN  \n",
       "1       0      0 2010-07-31 22:15:33+00:00          marcus            1   NaN  \n",
       "2       0      0 2016-02-27 05:54:12+00:00          Daniel            1   NaN  \n",
       "3       0      0 2010-10-21 19:09:12+00:00           Jason            1   NaN  \n",
       "4       0      0 2012-02-21 21:31:26+00:00            Erin            1   NaN  \n",
       "5       0      0 2013-02-10 01:13:55+00:00             R P            1   NaN  \n",
       "6       0      0 2014-07-01 00:31:56+00:00            Nina            1   NaN  \n",
       "7       0      0 2013-02-08 00:06:46+00:00            Nate            1   NaN  \n",
       "8       0      0 2017-06-11 21:33:35+00:00        Savannah            1   NaN  \n",
       "9       0      0 2011-10-10 01:18:14+00:00            Lara            1   NaN  \n",
       "\n",
       "[10 rows x 22 columns]"
      ]
     },
     "execution_count": 15,
     "metadata": {},
     "output_type": "execute_result"
    }
   ],
   "source": [
    "%%bigquery\n",
    "SELECT *\n",
    "FROM `ba775-project-a04.yelp_data.user`\n",
    "LIMIT 10;"
   ]
  },
  {
   "cell_type": "markdown",
   "id": "05f15b86-98c3-43ab-ad2d-594f7ac4947e",
   "metadata": {},
   "source": [
    "#### Checking to see how many rows have NULL elite years"
   ]
  },
  {
   "cell_type": "code",
   "execution_count": 16,
   "id": "bdd44b43-dddc-4444-93cb-05dede5faaad",
   "metadata": {
    "tags": []
   },
   "outputs": [
    {
     "data": {
      "application/vnd.jupyter.widget-view+json": {
       "model_id": "9870b5b79cd34134906e0017b3430829",
       "version_major": 2,
       "version_minor": 0
      },
      "text/plain": [
       "Query is running:   0%|          |"
      ]
     },
     "metadata": {},
     "output_type": "display_data"
    },
    {
     "data": {
      "application/vnd.jupyter.widget-view+json": {
       "model_id": "21aa38ca1ce14b3682c6aee503a82faa",
       "version_major": 2,
       "version_minor": 0
      },
      "text/plain": [
       "Downloading:   0%|          |"
      ]
     },
     "metadata": {},
     "output_type": "display_data"
    },
    {
     "data": {
      "text/html": [
       "<div>\n",
       "<style scoped>\n",
       "    .dataframe tbody tr th:only-of-type {\n",
       "        vertical-align: middle;\n",
       "    }\n",
       "\n",
       "    .dataframe tbody tr th {\n",
       "        vertical-align: top;\n",
       "    }\n",
       "\n",
       "    .dataframe thead th {\n",
       "        text-align: right;\n",
       "    }\n",
       "</style>\n",
       "<table border=\"1\" class=\"dataframe\">\n",
       "  <thead>\n",
       "    <tr style=\"text-align: right;\">\n",
       "      <th></th>\n",
       "      <th>user_id</th>\n",
       "      <th>elite_years</th>\n",
       "    </tr>\n",
       "  </thead>\n",
       "  <tbody>\n",
       "    <tr>\n",
       "      <th>0</th>\n",
       "      <td>c27mcOhJ3U95601Eg7TzEg</td>\n",
       "      <td>None</td>\n",
       "    </tr>\n",
       "    <tr>\n",
       "      <th>1</th>\n",
       "      <td>GIY18XDDstyTcDgqNmyUjA</td>\n",
       "      <td>None</td>\n",
       "    </tr>\n",
       "    <tr>\n",
       "      <th>2</th>\n",
       "      <td>xQb6OJkROP0FsSsMFeaMQw</td>\n",
       "      <td>None</td>\n",
       "    </tr>\n",
       "    <tr>\n",
       "      <th>3</th>\n",
       "      <td>wK4dZnyS3_yl8ZJYT-gEwQ</td>\n",
       "      <td>None</td>\n",
       "    </tr>\n",
       "    <tr>\n",
       "      <th>4</th>\n",
       "      <td>aVzOv3aTr3SD9U5mKPFukA</td>\n",
       "      <td>None</td>\n",
       "    </tr>\n",
       "    <tr>\n",
       "      <th>...</th>\n",
       "      <td>...</td>\n",
       "      <td>...</td>\n",
       "    </tr>\n",
       "    <tr>\n",
       "      <th>1896694</th>\n",
       "      <td>2Fw8kben7xD6ezDJxDjRSA</td>\n",
       "      <td>None</td>\n",
       "    </tr>\n",
       "    <tr>\n",
       "      <th>1896695</th>\n",
       "      <td>wMRABJye-vljUZxI2y7YTA</td>\n",
       "      <td>None</td>\n",
       "    </tr>\n",
       "    <tr>\n",
       "      <th>1896696</th>\n",
       "      <td>QslrEbjulbQl-gEw6oGxVw</td>\n",
       "      <td>None</td>\n",
       "    </tr>\n",
       "    <tr>\n",
       "      <th>1896697</th>\n",
       "      <td>CUExtAp3Blvq9uIf7yuAvg</td>\n",
       "      <td>None</td>\n",
       "    </tr>\n",
       "    <tr>\n",
       "      <th>1896698</th>\n",
       "      <td>PMXZP8zunHtM36C7p3Y_kw</td>\n",
       "      <td>None</td>\n",
       "    </tr>\n",
       "  </tbody>\n",
       "</table>\n",
       "<p>1896699 rows × 2 columns</p>\n",
       "</div>"
      ],
      "text/plain": [
       "                        user_id elite_years\n",
       "0        c27mcOhJ3U95601Eg7TzEg        None\n",
       "1        GIY18XDDstyTcDgqNmyUjA        None\n",
       "2        xQb6OJkROP0FsSsMFeaMQw        None\n",
       "3        wK4dZnyS3_yl8ZJYT-gEwQ        None\n",
       "4        aVzOv3aTr3SD9U5mKPFukA        None\n",
       "...                         ...         ...\n",
       "1896694  2Fw8kben7xD6ezDJxDjRSA        None\n",
       "1896695  wMRABJye-vljUZxI2y7YTA        None\n",
       "1896696  QslrEbjulbQl-gEw6oGxVw        None\n",
       "1896697  CUExtAp3Blvq9uIf7yuAvg        None\n",
       "1896698  PMXZP8zunHtM36C7p3Y_kw        None\n",
       "\n",
       "[1896699 rows x 2 columns]"
      ]
     },
     "execution_count": 16,
     "metadata": {},
     "output_type": "execute_result"
    }
   ],
   "source": [
    "%%bigquery\n",
    "SELECT \n",
    "    user_id,\n",
    "    ARRAY_TO_STRING(REGEXP_EXTRACT_ALL(CAST(elite AS STRING), r'20\\d{2}'), ',') AS elite_years\n",
    "FROM  \n",
    "    `ba775-project-a04.yelp_data.user`\n",
    "WHERE \n",
    "    elite IS NULL;"
   ]
  },
  {
   "cell_type": "markdown",
   "id": "485a988d-bf40-465a-aa2e-5f911086912d",
   "metadata": {},
   "source": [
    "#### Filter out users that have left reviews for restaurant businesses"
   ]
  },
  {
   "cell_type": "code",
   "execution_count": 17,
   "id": "7653c9a1-d47e-4b9a-9823-3124df1ff148",
   "metadata": {},
   "outputs": [
    {
     "data": {
      "application/vnd.jupyter.widget-view+json": {
       "model_id": "7b385d4ccbee41d88c3ddbde7c45d8db",
       "version_major": 2,
       "version_minor": 0
      },
      "text/plain": [
       "Query is running:   0%|          |"
      ]
     },
     "metadata": {},
     "output_type": "display_data"
    },
    {
     "data": {
      "text/html": [
       "<div>\n",
       "<style scoped>\n",
       "    .dataframe tbody tr th:only-of-type {\n",
       "        vertical-align: middle;\n",
       "    }\n",
       "\n",
       "    .dataframe tbody tr th {\n",
       "        vertical-align: top;\n",
       "    }\n",
       "\n",
       "    .dataframe thead th {\n",
       "        text-align: right;\n",
       "    }\n",
       "</style>\n",
       "<table border=\"1\" class=\"dataframe\">\n",
       "  <thead>\n",
       "    <tr style=\"text-align: right;\">\n",
       "      <th></th>\n",
       "    </tr>\n",
       "  </thead>\n",
       "  <tbody>\n",
       "  </tbody>\n",
       "</table>\n",
       "</div>"
      ],
      "text/plain": [
       "Empty DataFrame\n",
       "Columns: []\n",
       "Index: []"
      ]
     },
     "execution_count": 17,
     "metadata": {},
     "output_type": "execute_result"
    }
   ],
   "source": [
    "%%bigquery\n",
    "CREATE TABLE `ba775-project-a04.yelp_data.restaurant_user` AS\n",
    "SELECT U.*\n",
    "FROM `ba775-project-a04.yelp_data.restaurant_businesses` AS B\n",
    "LEFT JOIN `ba775-project-a04.yelp_data.review` AS R\n",
    "USING(business_id)\n",
    "LEFT JOIN `ba775-project-a04.yelp_data.user` AS U\n",
    "USING(user_id);"
   ]
  },
  {
   "cell_type": "markdown",
   "id": "b26d8bd2-774b-4d4f-a680-6cd90a1adccb",
   "metadata": {},
   "source": [
    "<font face=\"Helvetica\" size=6 color=B40E0E> **Exploratory Data Analysis<a name=\"exploratorydataanalysis\"></a>** <font>\n",
    "\n",
    "----\n",
    "    "
   ]
  },
  {
   "cell_type": "markdown",
   "id": "eafd2a1d-167c-4126-b067-726d30133db5",
   "metadata": {},
   "source": [
    "<font face=\"Helvetica\" size=5 color=2E0202> **Q1. What are the general trends in Yelp restaurant reviews?** <font>"
   ]
  },
  {
   "cell_type": "code",
   "execution_count": 18,
   "id": "c81b27f8-66bb-4222-8e23-e5fdec10a204",
   "metadata": {
    "tags": []
   },
   "outputs": [
    {
     "data": {
      "application/vnd.jupyter.widget-view+json": {
       "model_id": "caec0dd12f464cd0bbabd8eeb246d784",
       "version_major": 2,
       "version_minor": 0
      },
      "text/plain": [
       "Query is running:   0%|          |"
      ]
     },
     "metadata": {},
     "output_type": "display_data"
    },
    {
     "data": {
      "application/vnd.jupyter.widget-view+json": {
       "model_id": "7094099292704a5bae4490e2a2b49e59",
       "version_major": 2,
       "version_minor": 0
      },
      "text/plain": [
       "Downloading:   0%|          |"
      ]
     },
     "metadata": {},
     "output_type": "display_data"
    },
    {
     "data": {
      "text/html": [
       "<div>\n",
       "<style scoped>\n",
       "    .dataframe tbody tr th:only-of-type {\n",
       "        vertical-align: middle;\n",
       "    }\n",
       "\n",
       "    .dataframe tbody tr th {\n",
       "        vertical-align: top;\n",
       "    }\n",
       "\n",
       "    .dataframe thead th {\n",
       "        text-align: right;\n",
       "    }\n",
       "</style>\n",
       "<table border=\"1\" class=\"dataframe\">\n",
       "  <thead>\n",
       "    <tr style=\"text-align: right;\">\n",
       "      <th></th>\n",
       "      <th>year</th>\n",
       "      <th>review_count</th>\n",
       "    </tr>\n",
       "  </thead>\n",
       "  <tbody>\n",
       "    <tr>\n",
       "      <th>0</th>\n",
       "      <td>2005</td>\n",
       "      <td>132</td>\n",
       "    </tr>\n",
       "    <tr>\n",
       "      <th>1</th>\n",
       "      <td>2006</td>\n",
       "      <td>737</td>\n",
       "    </tr>\n",
       "    <tr>\n",
       "      <th>2</th>\n",
       "      <td>2007</td>\n",
       "      <td>2967</td>\n",
       "    </tr>\n",
       "    <tr>\n",
       "      <th>3</th>\n",
       "      <td>2008</td>\n",
       "      <td>9265</td>\n",
       "    </tr>\n",
       "    <tr>\n",
       "      <th>4</th>\n",
       "      <td>2009</td>\n",
       "      <td>15535</td>\n",
       "    </tr>\n",
       "    <tr>\n",
       "      <th>5</th>\n",
       "      <td>2010</td>\n",
       "      <td>29670</td>\n",
       "    </tr>\n",
       "    <tr>\n",
       "      <th>6</th>\n",
       "      <td>2011</td>\n",
       "      <td>51422</td>\n",
       "    </tr>\n",
       "    <tr>\n",
       "      <th>7</th>\n",
       "      <td>2012</td>\n",
       "      <td>64504</td>\n",
       "    </tr>\n",
       "    <tr>\n",
       "      <th>8</th>\n",
       "      <td>2013</td>\n",
       "      <td>89144</td>\n",
       "    </tr>\n",
       "    <tr>\n",
       "      <th>9</th>\n",
       "      <td>2014</td>\n",
       "      <td>124323</td>\n",
       "    </tr>\n",
       "    <tr>\n",
       "      <th>10</th>\n",
       "      <td>2015</td>\n",
       "      <td>169487</td>\n",
       "    </tr>\n",
       "    <tr>\n",
       "      <th>11</th>\n",
       "      <td>2016</td>\n",
       "      <td>188066</td>\n",
       "    </tr>\n",
       "    <tr>\n",
       "      <th>12</th>\n",
       "      <td>2017</td>\n",
       "      <td>203556</td>\n",
       "    </tr>\n",
       "    <tr>\n",
       "      <th>13</th>\n",
       "      <td>2018</td>\n",
       "      <td>224827</td>\n",
       "    </tr>\n",
       "    <tr>\n",
       "      <th>14</th>\n",
       "      <td>2019</td>\n",
       "      <td>222493</td>\n",
       "    </tr>\n",
       "    <tr>\n",
       "      <th>15</th>\n",
       "      <td>2020</td>\n",
       "      <td>135582</td>\n",
       "    </tr>\n",
       "    <tr>\n",
       "      <th>16</th>\n",
       "      <td>2021</td>\n",
       "      <td>152581</td>\n",
       "    </tr>\n",
       "    <tr>\n",
       "      <th>17</th>\n",
       "      <td>2022</td>\n",
       "      <td>7472</td>\n",
       "    </tr>\n",
       "  </tbody>\n",
       "</table>\n",
       "</div>"
      ],
      "text/plain": [
       "    year  review_count\n",
       "0   2005           132\n",
       "1   2006           737\n",
       "2   2007          2967\n",
       "3   2008          9265\n",
       "4   2009         15535\n",
       "5   2010         29670\n",
       "6   2011         51422\n",
       "7   2012         64504\n",
       "8   2013         89144\n",
       "9   2014        124323\n",
       "10  2015        169487\n",
       "11  2016        188066\n",
       "12  2017        203556\n",
       "13  2018        224827\n",
       "14  2019        222493\n",
       "15  2020        135582\n",
       "16  2021        152581\n",
       "17  2022          7472"
      ]
     },
     "execution_count": 18,
     "metadata": {},
     "output_type": "execute_result"
    }
   ],
   "source": [
    "%%bigquery\n",
    "\n",
    "SELECT DISTINCT EXTRACT(year from date) AS year, COUNT(review_id) AS review_count\n",
    "FROM `ba775-project-a04.yelp_data.restaurant_review` \n",
    "GROUP by year\n",
    "Order by year;"
   ]
  },
  {
   "cell_type": "markdown",
   "id": "ea00cc30-af62-4358-a89c-693cd2069396",
   "metadata": {},
   "source": [
    "From 2005~2019, the number of annual reviews for restaurant reviews has shown a clear upward trend, indicating that more and more users are engaging with the platforms over time.The number of reviews started low in 2005, with only 132 reviews, and then grew significantly year over year, peaking in 2018 with 224,728 reviews. This trend suggests that restaurant review platforms are growing in popularity and that consumers may increasingly rely on user-generated reviews to make dining decisions.\n",
    "\n",
    "However, starting in 2020, the number of reviews declines significantly, falling to 135,512 in 2020 and further to 7,466 by 2022. This steep decline is likely due to the impact of the COVID-19 pandemic, which led to lockdowns, restaurant closures, and less eating out, which in turn reduced reviews. Although there is a slight rebound in 2021, the number is still below the peak, indicating that user participation has not returned to pre-pandemic levels.\n"
   ]
  },
  {
   "cell_type": "markdown",
   "id": "4536fe48-6ec9-439f-8d90-2be493c1e6ff",
   "metadata": {},
   "source": [
    "<font face=\"Helvetica\" size=5 color=2E0202> **Q2. When did users start actively reviewing on Yelp?** <font>"
   ]
  },
  {
   "cell_type": "code",
   "execution_count": 19,
   "id": "1ebed56f-785c-4352-80ff-3a62f9fbd955",
   "metadata": {
    "tags": []
   },
   "outputs": [
    {
     "data": {
      "application/vnd.jupyter.widget-view+json": {
       "model_id": "df7ec3dae6194e9385d4a9415e07be72",
       "version_major": 2,
       "version_minor": 0
      },
      "text/plain": [
       "Query is running:   0%|          |"
      ]
     },
     "metadata": {},
     "output_type": "display_data"
    },
    {
     "data": {
      "application/vnd.jupyter.widget-view+json": {
       "model_id": "243e3f1980be4b4a90fb6b7285703a15",
       "version_major": 2,
       "version_minor": 0
      },
      "text/plain": [
       "Downloading:   0%|          |"
      ]
     },
     "metadata": {},
     "output_type": "display_data"
    },
    {
     "data": {
      "text/html": [
       "<div>\n",
       "<style scoped>\n",
       "    .dataframe tbody tr th:only-of-type {\n",
       "        vertical-align: middle;\n",
       "    }\n",
       "\n",
       "    .dataframe tbody tr th {\n",
       "        vertical-align: top;\n",
       "    }\n",
       "\n",
       "    .dataframe thead th {\n",
       "        text-align: right;\n",
       "    }\n",
       "</style>\n",
       "<table border=\"1\" class=\"dataframe\">\n",
       "  <thead>\n",
       "    <tr style=\"text-align: right;\">\n",
       "      <th></th>\n",
       "      <th>year</th>\n",
       "      <th>user_start_count</th>\n",
       "    </tr>\n",
       "  </thead>\n",
       "  <tbody>\n",
       "    <tr>\n",
       "      <th>0</th>\n",
       "      <td>2004</td>\n",
       "      <td>41</td>\n",
       "    </tr>\n",
       "    <tr>\n",
       "      <th>1</th>\n",
       "      <td>2005</td>\n",
       "      <td>1745</td>\n",
       "    </tr>\n",
       "    <tr>\n",
       "      <th>2</th>\n",
       "      <td>2006</td>\n",
       "      <td>7860</td>\n",
       "    </tr>\n",
       "    <tr>\n",
       "      <th>3</th>\n",
       "      <td>2007</td>\n",
       "      <td>22858</td>\n",
       "    </tr>\n",
       "    <tr>\n",
       "      <th>4</th>\n",
       "      <td>2008</td>\n",
       "      <td>49507</td>\n",
       "    </tr>\n",
       "    <tr>\n",
       "      <th>5</th>\n",
       "      <td>2009</td>\n",
       "      <td>88169</td>\n",
       "    </tr>\n",
       "    <tr>\n",
       "      <th>6</th>\n",
       "      <td>2010</td>\n",
       "      <td>137195</td>\n",
       "    </tr>\n",
       "    <tr>\n",
       "      <th>7</th>\n",
       "      <td>2011</td>\n",
       "      <td>195431</td>\n",
       "    </tr>\n",
       "    <tr>\n",
       "      <th>8</th>\n",
       "      <td>2012</td>\n",
       "      <td>195419</td>\n",
       "    </tr>\n",
       "    <tr>\n",
       "      <th>9</th>\n",
       "      <td>2013</td>\n",
       "      <td>193200</td>\n",
       "    </tr>\n",
       "    <tr>\n",
       "      <th>10</th>\n",
       "      <td>2014</td>\n",
       "      <td>197129</td>\n",
       "    </tr>\n",
       "    <tr>\n",
       "      <th>11</th>\n",
       "      <td>2015</td>\n",
       "      <td>189839</td>\n",
       "    </tr>\n",
       "    <tr>\n",
       "      <th>12</th>\n",
       "      <td>2016</td>\n",
       "      <td>148849</td>\n",
       "    </tr>\n",
       "    <tr>\n",
       "      <th>13</th>\n",
       "      <td>2017</td>\n",
       "      <td>97389</td>\n",
       "    </tr>\n",
       "    <tr>\n",
       "      <th>14</th>\n",
       "      <td>2018</td>\n",
       "      <td>75920</td>\n",
       "    </tr>\n",
       "    <tr>\n",
       "      <th>15</th>\n",
       "      <td>2019</td>\n",
       "      <td>53883</td>\n",
       "    </tr>\n",
       "    <tr>\n",
       "      <th>16</th>\n",
       "      <td>2020</td>\n",
       "      <td>21653</td>\n",
       "    </tr>\n",
       "    <tr>\n",
       "      <th>17</th>\n",
       "      <td>2021</td>\n",
       "      <td>15077</td>\n",
       "    </tr>\n",
       "    <tr>\n",
       "      <th>18</th>\n",
       "      <td>2022</td>\n",
       "      <td>598</td>\n",
       "    </tr>\n",
       "  </tbody>\n",
       "</table>\n",
       "</div>"
      ],
      "text/plain": [
       "    year  user_start_count\n",
       "0   2004                41\n",
       "1   2005              1745\n",
       "2   2006              7860\n",
       "3   2007             22858\n",
       "4   2008             49507\n",
       "5   2009             88169\n",
       "6   2010            137195\n",
       "7   2011            195431\n",
       "8   2012            195419\n",
       "9   2013            193200\n",
       "10  2014            197129\n",
       "11  2015            189839\n",
       "12  2016            148849\n",
       "13  2017             97389\n",
       "14  2018             75920\n",
       "15  2019             53883\n",
       "16  2020             21653\n",
       "17  2021             15077\n",
       "18  2022               598"
      ]
     },
     "execution_count": 19,
     "metadata": {},
     "output_type": "execute_result"
    }
   ],
   "source": [
    "%%bigquery\n",
    "SELECT DISTINCT EXTRACT(year FROM yelping_since) AS year,\n",
    "       COUNT(yelping_since) AS user_start_count\n",
    "FROM `ba775-project-a04.yelp_data.restaurant_user` \n",
    "WHERE yelping_since IS NOT NULL\n",
    "GROUP BY year\n",
    "ORDER BY year"
   ]
  },
  {
   "cell_type": "markdown",
   "id": "4cd98f69-8ccf-412b-a1e2-60450f0e415d",
   "metadata": {},
   "source": [
    "The data show the growth in registered users of the Platform from 2004 to 2022. Initially, the growth of the platform was modest, with only 41 new users in 2004. However, from 2005 onwards, the number of user registrations grew steadily and rapidly, peaking between 2011 and 2015, with the highest number of user registrations recorded in 2014 at approximately 197055. This surge likely reflects the growing popularity of the platform and increased interest in online reviews when making dining decisions.\n",
    "\n",
    "Beginning in 2016, the number of new user registrations gradually declined, with a significant drop beginning in 2019. the drop was particularly pronounced in 2020, likely due to the COVID-19 pandemic limiting dining out activities and reducing consumer interest in restaurant reviews. By 2022, new user registrations fall to just 598, suggesting that engagement on the platform may still be recovering from the impact of the pandemic or may be turning to other mediums or platforms for restaurant-related information.\n"
   ]
  },
  {
   "cell_type": "markdown",
   "id": "c7941381-075d-4b77-8cfb-5bde201b4c94",
   "metadata": {},
   "source": [
    "<font face=\"Helvetica\" size=5 color=2E0202> **Q3. How active are elite users compared to non-elite users in terms of fans, compliments, reviews, and contributions?** <font>"
   ]
  },
  {
   "cell_type": "code",
   "execution_count": 21,
   "id": "1759cf01-13ea-4b06-8e59-2364268372c6",
   "metadata": {
    "tags": []
   },
   "outputs": [
    {
     "data": {
      "application/vnd.jupyter.widget-view+json": {
       "model_id": "10b19b1405a945bd9a73c9f74a6a887a",
       "version_major": 2,
       "version_minor": 0
      },
      "text/plain": [
       "Query is running:   0%|          |"
      ]
     },
     "metadata": {},
     "output_type": "display_data"
    },
    {
     "data": {
      "application/vnd.jupyter.widget-view+json": {
       "model_id": "07ec803958e14581ac30b602a176fde3",
       "version_major": 2,
       "version_minor": 0
      },
      "text/plain": [
       "Downloading:   0%|          |"
      ]
     },
     "metadata": {},
     "output_type": "display_data"
    },
    {
     "data": {
      "text/html": [
       "<div>\n",
       "<style scoped>\n",
       "    .dataframe tbody tr th:only-of-type {\n",
       "        vertical-align: middle;\n",
       "    }\n",
       "\n",
       "    .dataframe tbody tr th {\n",
       "        vertical-align: top;\n",
       "    }\n",
       "\n",
       "    .dataframe thead th {\n",
       "        text-align: right;\n",
       "    }\n",
       "</style>\n",
       "<table border=\"1\" class=\"dataframe\">\n",
       "  <thead>\n",
       "    <tr style=\"text-align: right;\">\n",
       "      <th></th>\n",
       "      <th>user_type</th>\n",
       "      <th>avg_reviews</th>\n",
       "      <th>avg_useful</th>\n",
       "      <th>avg_fans</th>\n",
       "      <th>avg_compliments</th>\n",
       "      <th>avg_RatingOfAllReviews</th>\n",
       "      <th>avg_interactions</th>\n",
       "      <th>total_count</th>\n",
       "    </tr>\n",
       "  </thead>\n",
       "  <tbody>\n",
       "    <tr>\n",
       "      <th>0</th>\n",
       "      <td>Elite</td>\n",
       "      <td>375.81</td>\n",
       "      <td>1477.12</td>\n",
       "      <td>47.12</td>\n",
       "      <td>594.79</td>\n",
       "      <td>3.98</td>\n",
       "      <td>3712.20</td>\n",
       "      <td>460952</td>\n",
       "    </tr>\n",
       "    <tr>\n",
       "      <th>1</th>\n",
       "      <td>Non-Elite</td>\n",
       "      <td>36.64</td>\n",
       "      <td>39.50</td>\n",
       "      <td>1.11</td>\n",
       "      <td>6.31</td>\n",
       "      <td>3.72</td>\n",
       "      <td>72.65</td>\n",
       "      <td>1230810</td>\n",
       "    </tr>\n",
       "  </tbody>\n",
       "</table>\n",
       "</div>"
      ],
      "text/plain": [
       "   user_type  avg_reviews  avg_useful  avg_fans  avg_compliments  \\\n",
       "0      Elite       375.81     1477.12     47.12           594.79   \n",
       "1  Non-Elite        36.64       39.50      1.11             6.31   \n",
       "\n",
       "   avg_RatingOfAllReviews  avg_interactions  total_count  \n",
       "0                    3.98           3712.20       460952  \n",
       "1                    3.72             72.65      1230810  "
      ]
     },
     "execution_count": 21,
     "metadata": {},
     "output_type": "execute_result"
    }
   ],
   "source": [
    "%%bigquery\n",
    "SELECT\n",
    "   CASE WHEN elite IS NOT NULL THEN 'Elite' ELSE 'Non-Elite' END AS user_type,\n",
    "   ROUND(AVG(review_count),2 ) AS avg_reviews,\n",
    "   ROUND(AVG(useful), 2 ) AS avg_useful,\n",
    "   ROUND(AVG(fans), 2) AS avg_fans,\n",
    "   ROUND (AVG(\n",
    "       compliment_hot + compliment_more + compliment_profile + compliment_cute +\n",
    "       compliment_list + compliment_note + compliment_plain + compliment_cool +\n",
    "       compliment_funny + compliment_writer + compliment_photos\n",
    "   ), 2 ) AS avg_compliments,\n",
    "   ROUND( AVG (average_stars), 2 ) AS avg_RatingOfAllReviews,\n",
    "   ROUND (AVG(\n",
    "       compliment_hot + compliment_more + compliment_profile + compliment_cute +\n",
    "       compliment_list + compliment_note + compliment_plain + compliment_cool +\n",
    "       compliment_funny + compliment_writer + compliment_photos + cool + useful + funny\n",
    "   ), 2 )AS avg_interactions,\n",
    "   COUNT(user_id) AS total_count\n",
    "FROM `ba775-project-a04.yelp_data.restaurant_user`\n",
    "GROUP BY user_type\n",
    "ORDER BY user_type;\n"
   ]
  },
  {
   "cell_type": "markdown",
   "id": "24d76b17-6cbb-4d6c-b0ab-a3eb16c44574",
   "metadata": {},
   "source": [
    "Elite users are members of the community recognized for their high-quality contributions. Yelp awards this designation to users who actively participate by writing helpful reviews, providing useful tips, and engaging positively with the Yelp community.\n",
    "Elite users selected are those users who have been elite at least once during their time while being active reviewers. Following are the observations for elite users in comparison to the non-elite users from the query result.\n",
    "\n",
    "- Elite users write significantly more reviews, with an average of 396.79 reviews per elite user than non-elite users who write around 34.37 reviews. \n",
    "- Elite user's reviews are valued in the community which is evident with the average useful votes of 1611.\n",
    "- Elite users are popular on Yelp with 50 average fans, suggesting that elite users are frequently followed and their opinions are taken into account with high significance.\n",
    "- Elite users show active participation and positive engagement as they are shown to receive significantly higher compliments on their reviews\n",
    "- Both Elite and Non-Elite users have a similar average rating for their reviews, with elite users at 3.96 and non-elite users at 3.68, showing that rating behavior is somewhat consistent across user types.\n",
    "\n",
    "The observations for elite users are seen as higher than non-elite is because elite users' reviews are highlighted, they are well known for writing quality reviews, and thus the extra amount of interactions in comparison to non-elite users\n"
   ]
  },
  {
   "cell_type": "markdown",
   "id": "71cd861f-f186-4788-9964-542cda7745a4",
   "metadata": {},
   "source": [
    "<font face=\"Helvetica\" size=5 color=2E0202> **Q4. Which businesses have the most loyal customers, as seen through repeat reviews?** <font>"
   ]
  },
  {
   "cell_type": "code",
   "execution_count": 36,
   "id": "1ad05e0d-3845-4df2-a641-f77ec24ab2db",
   "metadata": {
    "tags": []
   },
   "outputs": [
    {
     "data": {
      "application/vnd.jupyter.widget-view+json": {
       "model_id": "32e11e665797421ab39dd3133a5998d4",
       "version_major": 2,
       "version_minor": 0
      },
      "text/plain": [
       "Query is running:   0%|          |"
      ]
     },
     "metadata": {},
     "output_type": "display_data"
    },
    {
     "data": {
      "application/vnd.jupyter.widget-view+json": {
       "model_id": "316d7e8bada54c279b9d88b1af189c48",
       "version_major": 2,
       "version_minor": 0
      },
      "text/plain": [
       "Downloading:   0%|          |"
      ]
     },
     "metadata": {},
     "output_type": "display_data"
    },
    {
     "data": {
      "text/html": [
       "<div>\n",
       "<style scoped>\n",
       "    .dataframe tbody tr th:only-of-type {\n",
       "        vertical-align: middle;\n",
       "    }\n",
       "\n",
       "    .dataframe tbody tr th {\n",
       "        vertical-align: top;\n",
       "    }\n",
       "\n",
       "    .dataframe thead th {\n",
       "        text-align: right;\n",
       "    }\n",
       "</style>\n",
       "<table border=\"1\" class=\"dataframe\">\n",
       "  <thead>\n",
       "    <tr style=\"text-align: right;\">\n",
       "      <th></th>\n",
       "      <th>business_name</th>\n",
       "      <th>avg_stars</th>\n",
       "      <th>loyal_user_occurance</th>\n",
       "    </tr>\n",
       "  </thead>\n",
       "  <tbody>\n",
       "    <tr>\n",
       "      <th>0</th>\n",
       "      <td>McDonald's</td>\n",
       "      <td>1.783249</td>\n",
       "      <td>18196</td>\n",
       "    </tr>\n",
       "    <tr>\n",
       "      <th>1</th>\n",
       "      <td>Chipotle Mexican Grill</td>\n",
       "      <td>2.479054</td>\n",
       "      <td>9763</td>\n",
       "    </tr>\n",
       "    <tr>\n",
       "      <th>2</th>\n",
       "      <td>Taco Bell</td>\n",
       "      <td>2.071013</td>\n",
       "      <td>8604</td>\n",
       "    </tr>\n",
       "    <tr>\n",
       "      <th>3</th>\n",
       "      <td>Chick-fil-A</td>\n",
       "      <td>3.409406</td>\n",
       "      <td>8378</td>\n",
       "    </tr>\n",
       "    <tr>\n",
       "      <th>4</th>\n",
       "      <td>Acme Oyster House</td>\n",
       "      <td>4.124984</td>\n",
       "      <td>7673</td>\n",
       "    </tr>\n",
       "    <tr>\n",
       "      <th>5</th>\n",
       "      <td>Panera Bread</td>\n",
       "      <td>2.702915</td>\n",
       "      <td>6483</td>\n",
       "    </tr>\n",
       "    <tr>\n",
       "      <th>6</th>\n",
       "      <td>Steak ’n Shake</td>\n",
       "      <td>2.071418</td>\n",
       "      <td>6455</td>\n",
       "    </tr>\n",
       "    <tr>\n",
       "      <th>7</th>\n",
       "      <td>Wendy's</td>\n",
       "      <td>1.943255</td>\n",
       "      <td>6397</td>\n",
       "    </tr>\n",
       "    <tr>\n",
       "      <th>8</th>\n",
       "      <td>Hattie B’s Hot Chicken - Nashville</td>\n",
       "      <td>4.446266</td>\n",
       "      <td>6160</td>\n",
       "    </tr>\n",
       "    <tr>\n",
       "      <th>9</th>\n",
       "      <td>Reading Terminal Market</td>\n",
       "      <td>4.605400</td>\n",
       "      <td>5778</td>\n",
       "    </tr>\n",
       "    <tr>\n",
       "      <th>10</th>\n",
       "      <td>Burger King</td>\n",
       "      <td>1.946030</td>\n",
       "      <td>5466</td>\n",
       "    </tr>\n",
       "    <tr>\n",
       "      <th>11</th>\n",
       "      <td>Mother's Restaurant</td>\n",
       "      <td>3.438713</td>\n",
       "      <td>5254</td>\n",
       "    </tr>\n",
       "    <tr>\n",
       "      <th>12</th>\n",
       "      <td>Popeyes Louisiana Kitchen</td>\n",
       "      <td>2.056346</td>\n",
       "      <td>5200</td>\n",
       "    </tr>\n",
       "    <tr>\n",
       "      <th>13</th>\n",
       "      <td>Starbucks</td>\n",
       "      <td>3.143903</td>\n",
       "      <td>5191</td>\n",
       "    </tr>\n",
       "    <tr>\n",
       "      <th>14</th>\n",
       "      <td>Jimmy John's</td>\n",
       "      <td>2.923279</td>\n",
       "      <td>4562</td>\n",
       "    </tr>\n",
       "    <tr>\n",
       "      <th>15</th>\n",
       "      <td>Five Guys</td>\n",
       "      <td>3.559400</td>\n",
       "      <td>4537</td>\n",
       "    </tr>\n",
       "    <tr>\n",
       "      <th>16</th>\n",
       "      <td>Sabrina's Café</td>\n",
       "      <td>4.133197</td>\n",
       "      <td>4407</td>\n",
       "    </tr>\n",
       "    <tr>\n",
       "      <th>17</th>\n",
       "      <td>Wawa</td>\n",
       "      <td>3.313622</td>\n",
       "      <td>4346</td>\n",
       "    </tr>\n",
       "    <tr>\n",
       "      <th>18</th>\n",
       "      <td>Cracker Barrel Old Country Store</td>\n",
       "      <td>3.150242</td>\n",
       "      <td>4333</td>\n",
       "    </tr>\n",
       "    <tr>\n",
       "      <th>19</th>\n",
       "      <td>Pat's King of Steaks</td>\n",
       "      <td>3.240158</td>\n",
       "      <td>4293</td>\n",
       "    </tr>\n",
       "  </tbody>\n",
       "</table>\n",
       "</div>"
      ],
      "text/plain": [
       "                         business_name  avg_stars  loyal_user_occurance\n",
       "0                           McDonald's   1.783249                 18196\n",
       "1               Chipotle Mexican Grill   2.479054                  9763\n",
       "2                            Taco Bell   2.071013                  8604\n",
       "3                          Chick-fil-A   3.409406                  8378\n",
       "4                    Acme Oyster House   4.124984                  7673\n",
       "5                         Panera Bread   2.702915                  6483\n",
       "6                       Steak ’n Shake   2.071418                  6455\n",
       "7                              Wendy's   1.943255                  6397\n",
       "8   Hattie B’s Hot Chicken - Nashville   4.446266                  6160\n",
       "9              Reading Terminal Market   4.605400                  5778\n",
       "10                         Burger King   1.946030                  5466\n",
       "11                 Mother's Restaurant   3.438713                  5254\n",
       "12           Popeyes Louisiana Kitchen   2.056346                  5200\n",
       "13                           Starbucks   3.143903                  5191\n",
       "14                        Jimmy John's   2.923279                  4562\n",
       "15                           Five Guys   3.559400                  4537\n",
       "16                      Sabrina's Café   4.133197                  4407\n",
       "17                                Wawa   3.313622                  4346\n",
       "18    Cracker Barrel Old Country Store   3.150242                  4333\n",
       "19                Pat's King of Steaks   3.240158                  4293"
      ]
     },
     "execution_count": 36,
     "metadata": {},
     "output_type": "execute_result"
    }
   ],
   "source": [
    "%%bigquery\n",
    "\n",
    "SELECT B.name AS business_name, avg(R.stars) AS avg_stars, COUNT(R.user_id) AS loyal_user_occurance\n",
    "FROM `ba775-project-a04.yelp_data.restaurant_businesses` AS B\n",
    "INNER JOIN `ba775-project-a04.yelp_data.restaurant_review` AS R\n",
    "USING(business_id)\n",
    "GROUP BY B.name\n",
    "HAVING COUNT(R.user_id)>1\n",
    "ORDER BY loyal_user_occurance DESC\n",
    "LIMIT 20;\n"
   ]
  },
  {
   "cell_type": "markdown",
   "id": "b6e5283f-b243-4df9-8a20-bbf7882e83f5",
   "metadata": {},
   "source": [
    "The analysis reveals that McDonald's has the most loyal customers, evidenced by a significant number of repeat reviews from the same users, totaling 18,196 reviews. Following McDonald's, other chains show approximately 40% fewer reviews. Notably, the restaurants with the most loyal customers are largely large, nationwide chains in the USA. Interestingly, these chains tend to have relatively low average star ratings (below 3 stars). One possible explanation is that customers may be leaving frequent negative reviews as a way to express dissatisfaction and caution future diners about their experiences.\n",
    "\n",
    "In contrast, restaurants with higher quality ratings (above 4 stars) are generally smaller, non-chain businesses operating in only a few locations. Their higher ratings may be attributed to their ability to maintain a higher quality of service and attention to detail, focusing on a localized area. Additionally, these smaller establishments may be more responsive to customer feedback, actively addressing issues to improve the dining experience.\n",
    "\n"
   ]
  },
  {
   "cell_type": "markdown",
   "id": "1eac3495-b152-4f31-adb8-92da0a903828",
   "metadata": {},
   "source": [
    "<font face=\"Helvetica\" size=5 color=2E0202> **Q5. What kind of restaurants with high review\n",
    "counts have received compliments or tips?** <font>"
   ]
  },
  {
   "cell_type": "code",
   "execution_count": 23,
   "id": "2cff8c98-7a83-4f8e-b91a-6e9d9e63b9bd",
   "metadata": {
    "tags": []
   },
   "outputs": [
    {
     "data": {
      "application/vnd.jupyter.widget-view+json": {
       "model_id": "53ae19565a7941eca3fa59ffddbfbaf0",
       "version_major": 2,
       "version_minor": 0
      },
      "text/plain": [
       "Query is running:   0%|          |"
      ]
     },
     "metadata": {},
     "output_type": "display_data"
    },
    {
     "data": {
      "application/vnd.jupyter.widget-view+json": {
       "model_id": "7d018268e564428a9018aa15300d4a06",
       "version_major": 2,
       "version_minor": 0
      },
      "text/plain": [
       "Downloading:   0%|          |"
      ]
     },
     "metadata": {},
     "output_type": "display_data"
    },
    {
     "data": {
      "text/html": [
       "<div>\n",
       "<style scoped>\n",
       "    .dataframe tbody tr th:only-of-type {\n",
       "        vertical-align: middle;\n",
       "    }\n",
       "\n",
       "    .dataframe tbody tr th {\n",
       "        vertical-align: top;\n",
       "    }\n",
       "\n",
       "    .dataframe thead th {\n",
       "        text-align: right;\n",
       "    }\n",
       "</style>\n",
       "<table border=\"1\" class=\"dataframe\">\n",
       "  <thead>\n",
       "    <tr style=\"text-align: right;\">\n",
       "      <th></th>\n",
       "      <th>business_id</th>\n",
       "      <th>name</th>\n",
       "      <th>review_count</th>\n",
       "      <th>stars</th>\n",
       "      <th>received_compliments_count</th>\n",
       "    </tr>\n",
       "  </thead>\n",
       "  <tbody>\n",
       "    <tr>\n",
       "      <th>0</th>\n",
       "      <td>FEXhWNCMkv22qG04E83Qjg</td>\n",
       "      <td>Café Du Monde</td>\n",
       "      <td>1880</td>\n",
       "      <td>4.0</td>\n",
       "      <td>2571</td>\n",
       "    </tr>\n",
       "    <tr>\n",
       "      <th>1</th>\n",
       "      <td>_ab50qdWOk0DdB6XOrBitw</td>\n",
       "      <td>Acme Oyster House</td>\n",
       "      <td>7568</td>\n",
       "      <td>4.0</td>\n",
       "      <td>932</td>\n",
       "    </tr>\n",
       "    <tr>\n",
       "      <th>2</th>\n",
       "      <td>ytynqOUb3hjKeJfRj5Tshw</td>\n",
       "      <td>Reading Terminal Market</td>\n",
       "      <td>5721</td>\n",
       "      <td>4.5</td>\n",
       "      <td>827</td>\n",
       "    </tr>\n",
       "    <tr>\n",
       "      <th>3</th>\n",
       "      <td>iSRTaT9WngzB8JJ2YKJUig</td>\n",
       "      <td>Mother's Restaurant</td>\n",
       "      <td>5185</td>\n",
       "      <td>3.5</td>\n",
       "      <td>606</td>\n",
       "    </tr>\n",
       "    <tr>\n",
       "      <th>4</th>\n",
       "      <td>GXFMD0Z4jEVZBCsbPf4CTQ</td>\n",
       "      <td>Hattie B’s Hot Chicken - Nashville</td>\n",
       "      <td>6093</td>\n",
       "      <td>4.5</td>\n",
       "      <td>579</td>\n",
       "    </tr>\n",
       "    <tr>\n",
       "      <th>...</th>\n",
       "      <td>...</td>\n",
       "      <td>...</td>\n",
       "      <td>...</td>\n",
       "      <td>...</td>\n",
       "      <td>...</td>\n",
       "    </tr>\n",
       "    <tr>\n",
       "      <th>18744</th>\n",
       "      <td>siZvbtz6_oQkNiDVTjeYYA</td>\n",
       "      <td>24 Hours Pizza and Donair</td>\n",
       "      <td>5</td>\n",
       "      <td>1.5</td>\n",
       "      <td>1</td>\n",
       "    </tr>\n",
       "    <tr>\n",
       "      <th>18745</th>\n",
       "      <td>WklNC4oBYyPqMb2ILfcV3w</td>\n",
       "      <td>McDonald's</td>\n",
       "      <td>9</td>\n",
       "      <td>1.5</td>\n",
       "      <td>1</td>\n",
       "    </tr>\n",
       "    <tr>\n",
       "      <th>18746</th>\n",
       "      <td>Ai8MnqWUCTT03knlsrDSOQ</td>\n",
       "      <td>McDonald's</td>\n",
       "      <td>11</td>\n",
       "      <td>1.5</td>\n",
       "      <td>1</td>\n",
       "    </tr>\n",
       "    <tr>\n",
       "      <th>18747</th>\n",
       "      <td>2GUTsH6BHqasxtBEcXwNzQ</td>\n",
       "      <td>McDonald's</td>\n",
       "      <td>14</td>\n",
       "      <td>1.5</td>\n",
       "      <td>1</td>\n",
       "    </tr>\n",
       "    <tr>\n",
       "      <th>18748</th>\n",
       "      <td>dD8HFOlOowiEcBv5F38pew</td>\n",
       "      <td>McDonald's</td>\n",
       "      <td>9</td>\n",
       "      <td>1.5</td>\n",
       "      <td>1</td>\n",
       "    </tr>\n",
       "  </tbody>\n",
       "</table>\n",
       "<p>18749 rows × 5 columns</p>\n",
       "</div>"
      ],
      "text/plain": [
       "                  business_id                                name  \\\n",
       "0      FEXhWNCMkv22qG04E83Qjg                       Café Du Monde   \n",
       "1      _ab50qdWOk0DdB6XOrBitw                   Acme Oyster House   \n",
       "2      ytynqOUb3hjKeJfRj5Tshw             Reading Terminal Market   \n",
       "3      iSRTaT9WngzB8JJ2YKJUig                 Mother's Restaurant   \n",
       "4      GXFMD0Z4jEVZBCsbPf4CTQ  Hattie B’s Hot Chicken - Nashville   \n",
       "...                       ...                                 ...   \n",
       "18744  siZvbtz6_oQkNiDVTjeYYA           24 Hours Pizza and Donair   \n",
       "18745  WklNC4oBYyPqMb2ILfcV3w                          McDonald's   \n",
       "18746  Ai8MnqWUCTT03knlsrDSOQ                          McDonald's   \n",
       "18747  2GUTsH6BHqasxtBEcXwNzQ                          McDonald's   \n",
       "18748  dD8HFOlOowiEcBv5F38pew                          McDonald's   \n",
       "\n",
       "       review_count  stars  received_compliments_count  \n",
       "0              1880    4.0                        2571  \n",
       "1              7568    4.0                         932  \n",
       "2              5721    4.5                         827  \n",
       "3              5185    3.5                         606  \n",
       "4              6093    4.5                         579  \n",
       "...             ...    ...                         ...  \n",
       "18744             5    1.5                           1  \n",
       "18745             9    1.5                           1  \n",
       "18746            11    1.5                           1  \n",
       "18747            14    1.5                           1  \n",
       "18748             9    1.5                           1  \n",
       "\n",
       "[18749 rows x 5 columns]"
      ]
     },
     "execution_count": 23,
     "metadata": {},
     "output_type": "execute_result"
    }
   ],
   "source": [
    "%%bigquery\n",
    "SELECT \n",
    "  B.business_id,\n",
    "  B.name,\n",
    "  B.review_count,\n",
    "  B.stars,\n",
    "  COUNT(T.compliment_count) AS received_compliments_count\n",
    "FROM \n",
    "  `ba775-project-a04.yelp_data.restaurant_businesses` AS B\n",
    "LEFT JOIN \n",
    "  `ba775-project-a04.yelp_data.restaurant_tip` AS T\n",
    "ON \n",
    "  B.business_id = T.business_id\n",
    "WHERE \n",
    "  B.review_count > 0\n",
    "GROUP BY \n",
    "  B.business_id, B.name, B.review_count, B.stars\n",
    "HAVING \n",
    "  received_compliments_count > 0\n",
    "ORDER BY \n",
    "  received_compliments_count DESC;\n"
   ]
  },
  {
   "cell_type": "markdown",
   "id": "b7024864-18b7-49b4-9e85-237cae33f106",
   "metadata": {},
   "source": [
    "We merged the yelp_business and yelp_tips tables from the dataset to compare and analyze the relationship between review_count and compliment_count. Our aim was to further explore which regions or types of restaurants tend to receive more reviews and to assess the proportion of positive feedback. From the data, we can observe that review_count and compliment_count are not necessarily directly correlated—some restaurants have a high review_count due to negative reviews. However, the majority of restaurants with a higher number of reviews tend to have a high compliment_count and stars rating.\n",
    "\n",
    "Further analysis of the locations and types of these restaurants shows that LA, PA, and FL have the highest number of restaurants receiving compliments and reviews, with LA standing out at 24 restaurants. Next, we will compare these results with the total number of restaurants in each area to help restaurant owners develop more effective marketing strategies.\n",
    "\n",
    "In terms of category, all types of restaurants have the opportunity to receive reviews, without being limited to any single type. The distribution is relatively even, suggesting that restaurant type is not a key factor influencing the number or positivity of reviews.\n"
   ]
  },
  {
   "cell_type": "markdown",
   "id": "be93139b-7eed-4cd2-b22f-621df3be5880",
   "metadata": {},
   "source": [
    "<font face=\"Helvetica\" size=5 color=2E0202> **Q6. What are the seasonal and day-of-week trends in restaurant reviews on Yelp?** <font>"
   ]
  },
  {
   "cell_type": "code",
   "execution_count": 45,
   "id": "f3a852ef-e0cc-451e-bb0e-fd292fe9093d",
   "metadata": {
    "tags": []
   },
   "outputs": [
    {
     "data": {
      "application/vnd.jupyter.widget-view+json": {
       "model_id": "981544a8723145eaa0ec5cc139114711",
       "version_major": 2,
       "version_minor": 0
      },
      "text/plain": [
       "Query is running:   0%|          |"
      ]
     },
     "metadata": {},
     "output_type": "display_data"
    },
    {
     "data": {
      "application/vnd.jupyter.widget-view+json": {
       "model_id": "c3381b9b61a34b00a1aa2e5b7e47e220",
       "version_major": 2,
       "version_minor": 0
      },
      "text/plain": [
       "Downloading:   0%|          |"
      ]
     },
     "metadata": {},
     "output_type": "display_data"
    },
    {
     "data": {
      "text/html": [
       "<div>\n",
       "<style scoped>\n",
       "    .dataframe tbody tr th:only-of-type {\n",
       "        vertical-align: middle;\n",
       "    }\n",
       "\n",
       "    .dataframe tbody tr th {\n",
       "        vertical-align: top;\n",
       "    }\n",
       "\n",
       "    .dataframe thead th {\n",
       "        text-align: right;\n",
       "    }\n",
       "</style>\n",
       "<table border=\"1\" class=\"dataframe\">\n",
       "  <thead>\n",
       "    <tr style=\"text-align: right;\">\n",
       "      <th></th>\n",
       "      <th>num_reviews</th>\n",
       "      <th>month</th>\n",
       "    </tr>\n",
       "  </thead>\n",
       "  <tbody>\n",
       "    <tr>\n",
       "      <th>0</th>\n",
       "      <td>158902</td>\n",
       "      <td>7</td>\n",
       "    </tr>\n",
       "    <tr>\n",
       "      <th>1</th>\n",
       "      <td>154660</td>\n",
       "      <td>8</td>\n",
       "    </tr>\n",
       "    <tr>\n",
       "      <th>2</th>\n",
       "      <td>145867</td>\n",
       "      <td>1</td>\n",
       "    </tr>\n",
       "    <tr>\n",
       "      <th>3</th>\n",
       "      <td>145854</td>\n",
       "      <td>6</td>\n",
       "    </tr>\n",
       "    <tr>\n",
       "      <th>4</th>\n",
       "      <td>145178</td>\n",
       "      <td>3</td>\n",
       "    </tr>\n",
       "    <tr>\n",
       "      <th>5</th>\n",
       "      <td>141792</td>\n",
       "      <td>5</td>\n",
       "    </tr>\n",
       "    <tr>\n",
       "      <th>6</th>\n",
       "      <td>138206</td>\n",
       "      <td>10</td>\n",
       "    </tr>\n",
       "    <tr>\n",
       "      <th>7</th>\n",
       "      <td>137048</td>\n",
       "      <td>9</td>\n",
       "    </tr>\n",
       "    <tr>\n",
       "      <th>8</th>\n",
       "      <td>133784</td>\n",
       "      <td>4</td>\n",
       "    </tr>\n",
       "    <tr>\n",
       "      <th>9</th>\n",
       "      <td>132008</td>\n",
       "      <td>2</td>\n",
       "    </tr>\n",
       "    <tr>\n",
       "      <th>10</th>\n",
       "      <td>129253</td>\n",
       "      <td>11</td>\n",
       "    </tr>\n",
       "    <tr>\n",
       "      <th>11</th>\n",
       "      <td>129211</td>\n",
       "      <td>12</td>\n",
       "    </tr>\n",
       "  </tbody>\n",
       "</table>\n",
       "</div>"
      ],
      "text/plain": [
       "    num_reviews  month\n",
       "0        158902      7\n",
       "1        154660      8\n",
       "2        145867      1\n",
       "3        145854      6\n",
       "4        145178      3\n",
       "5        141792      5\n",
       "6        138206     10\n",
       "7        137048      9\n",
       "8        133784      4\n",
       "9        132008      2\n",
       "10       129253     11\n",
       "11       129211     12"
      ]
     },
     "execution_count": 45,
     "metadata": {},
     "output_type": "execute_result"
    }
   ],
   "source": [
    "%%bigquery\n",
    "# Seasonality - num of reviews per month\n",
    "SELECT COUNT(review_id) AS num_reviews, EXTRACT(MONTH FROM date) AS month\n",
    "FROM `ba775-project-a04.yelp_data.restaurant_review` \n",
    "GROUP BY month\n",
    "ORDER BY num_reviews DESC;\n"
   ]
  },
  {
   "cell_type": "markdown",
   "id": "f71cd7f0-6304-4165-b9c1-50a03a355be5",
   "metadata": {},
   "source": [
    "Our dataset reveals that the highest number of Yelp reviews are consistently posted in July, August, and January. This trend may reflect heightened dining activity during these months; however, it does not suggest a clear seasonal pattern, as review volumes appear unaffected by general seasonal shifts (e.g., winter, spring, summer, fall). One possible reason for January’s popularity is the winter break for high school and college students, combined with the New Year holiday season when many people are on vacation and traveling. Increased travel often leads to more dining out, which could drive up Yelp review activity. Similarly, the popularity of reviews in July and August aligns with summer vacation, when people have more free time to dine out.\n",
    "\n",
    "These findings offer valuable insights into how holidays and school schedules may impact Yelp review activity, and they suggest a clear direction for further analysis. Recognizing January, July, and August as peak months for Yelp reviews could help restaurants anticipate and prepare for high-demand periods, ultimately improving their service and customer satisfaction."
   ]
  },
  {
   "cell_type": "code",
   "execution_count": 30,
   "id": "baed710f-331d-4aa1-9882-53bc0db757b5",
   "metadata": {
    "tags": []
   },
   "outputs": [
    {
     "data": {
      "application/vnd.jupyter.widget-view+json": {
       "model_id": "dcf0e7e5059341139c065b9af88f36f3",
       "version_major": 2,
       "version_minor": 0
      },
      "text/plain": [
       "Query is running:   0%|          |"
      ]
     },
     "metadata": {},
     "output_type": "display_data"
    },
    {
     "data": {
      "application/vnd.jupyter.widget-view+json": {
       "model_id": "5399e417587b47afb6d191c273b3a968",
       "version_major": 2,
       "version_minor": 0
      },
      "text/plain": [
       "Downloading:   0%|          |"
      ]
     },
     "metadata": {},
     "output_type": "display_data"
    },
    {
     "data": {
      "text/html": [
       "<div>\n",
       "<style scoped>\n",
       "    .dataframe tbody tr th:only-of-type {\n",
       "        vertical-align: middle;\n",
       "    }\n",
       "\n",
       "    .dataframe tbody tr th {\n",
       "        vertical-align: top;\n",
       "    }\n",
       "\n",
       "    .dataframe thead th {\n",
       "        text-align: right;\n",
       "    }\n",
       "</style>\n",
       "<table border=\"1\" class=\"dataframe\">\n",
       "  <thead>\n",
       "    <tr style=\"text-align: right;\">\n",
       "      <th></th>\n",
       "      <th>num_reviews</th>\n",
       "      <th>day_of_week</th>\n",
       "    </tr>\n",
       "  </thead>\n",
       "  <tbody>\n",
       "    <tr>\n",
       "      <th>0</th>\n",
       "      <td>295833</td>\n",
       "      <td>Sunday</td>\n",
       "    </tr>\n",
       "    <tr>\n",
       "      <th>1</th>\n",
       "      <td>267939</td>\n",
       "      <td>Saturday</td>\n",
       "    </tr>\n",
       "    <tr>\n",
       "      <th>2</th>\n",
       "      <td>246547</td>\n",
       "      <td>Monday</td>\n",
       "    </tr>\n",
       "    <tr>\n",
       "      <th>3</th>\n",
       "      <td>223752</td>\n",
       "      <td>Friday</td>\n",
       "    </tr>\n",
       "    <tr>\n",
       "      <th>4</th>\n",
       "      <td>221728</td>\n",
       "      <td>Wednesday</td>\n",
       "    </tr>\n",
       "    <tr>\n",
       "      <th>5</th>\n",
       "      <td>220191</td>\n",
       "      <td>Tuesday</td>\n",
       "    </tr>\n",
       "    <tr>\n",
       "      <th>6</th>\n",
       "      <td>215773</td>\n",
       "      <td>Thursday</td>\n",
       "    </tr>\n",
       "  </tbody>\n",
       "</table>\n",
       "</div>"
      ],
      "text/plain": [
       "   num_reviews day_of_week\n",
       "0       295833      Sunday\n",
       "1       267939    Saturday\n",
       "2       246547      Monday\n",
       "3       223752      Friday\n",
       "4       221728   Wednesday\n",
       "5       220191     Tuesday\n",
       "6       215773    Thursday"
      ]
     },
     "execution_count": 30,
     "metadata": {},
     "output_type": "execute_result"
    }
   ],
   "source": [
    "%%bigquery\n",
    "# Seasonality - num of reviews per day of the week\n",
    "SELECT\n",
    "   COUNT(review_id) AS num_reviews,\n",
    "   FORMAT_DATE('%A', date) AS day_of_week\n",
    "FROM\n",
    "   `ba775-project-a04.yelp_data.restaurant_review` \n",
    "GROUP BY\n",
    "   day_of_week\n",
    "ORDER BY\n",
    "   num_reviews DESC;"
   ]
  },
  {
   "cell_type": "markdown",
   "id": "3aac9658-363c-4132-80bf-b03a147b571a",
   "metadata": {},
   "source": [
    "Our dataset reveals that Sunday is the most popular day for posting Yelp reviews, aligning with the trend of increased dining activity over the weekend. Interestingly, Saturday is the second most popular day for reviews, further confirming heightened weekend dining activity. Monday ranks as the third most popular day, possibly reflecting a pattern where people share their weekend dining experiences or opt to dine out as the week begins.\n",
    "\n",
    "For restaurants, this insight underscores the importance of being well-staffed and efficient on weekends to manage increased customer volume effectively. Providing faster, reliable service on these high-traffic days can encourage positive reviews, boost customer satisfaction, and enhance online reputation."
   ]
  },
  {
   "cell_type": "markdown",
   "id": "cc0d7941-2a4b-478e-afe7-093c000b0f37",
   "metadata": {},
   "source": [
    "<font face=\"Helvetica\" size=5 color=2E0202> **Q7. Is there a relationship between the number of reviews a business has and its star rating?** <font>"
   ]
  },
  {
   "cell_type": "code",
   "execution_count": 32,
   "id": "579a854d-21d9-405d-8a53-d8bd80fed80f",
   "metadata": {
    "tags": []
   },
   "outputs": [
    {
     "data": {
      "application/vnd.jupyter.widget-view+json": {
       "model_id": "46d333f5439149b1ada792c90eae4410",
       "version_major": 2,
       "version_minor": 0
      },
      "text/plain": [
       "Query is running:   0%|          |"
      ]
     },
     "metadata": {},
     "output_type": "display_data"
    },
    {
     "data": {
      "application/vnd.jupyter.widget-view+json": {
       "model_id": "651d2ae77941442d95134266d4d66901",
       "version_major": 2,
       "version_minor": 0
      },
      "text/plain": [
       "Downloading:   0%|          |"
      ]
     },
     "metadata": {},
     "output_type": "display_data"
    },
    {
     "data": {
      "text/html": [
       "<div>\n",
       "<style scoped>\n",
       "    .dataframe tbody tr th:only-of-type {\n",
       "        vertical-align: middle;\n",
       "    }\n",
       "\n",
       "    .dataframe tbody tr th {\n",
       "        vertical-align: top;\n",
       "    }\n",
       "\n",
       "    .dataframe thead th {\n",
       "        text-align: right;\n",
       "    }\n",
       "</style>\n",
       "<table border=\"1\" class=\"dataframe\">\n",
       "  <thead>\n",
       "    <tr style=\"text-align: right;\">\n",
       "      <th></th>\n",
       "      <th>More_than_2000_reviews</th>\n",
       "      <th>More_than_1000_reviews</th>\n",
       "      <th>More_than_500_reviews</th>\n",
       "      <th>Less_than_500_reviews</th>\n",
       "      <th>Less_than_200_reviews</th>\n",
       "      <th>Less_than_100_reviews</th>\n",
       "    </tr>\n",
       "  </thead>\n",
       "  <tbody>\n",
       "    <tr>\n",
       "      <th>0</th>\n",
       "      <td>4.16</td>\n",
       "      <td>4.15</td>\n",
       "      <td>4.03</td>\n",
       "      <td>3.43</td>\n",
       "      <td>3.39</td>\n",
       "      <td>3.33</td>\n",
       "    </tr>\n",
       "  </tbody>\n",
       "</table>\n",
       "</div>"
      ],
      "text/plain": [
       "   More_than_2000_reviews  More_than_1000_reviews  More_than_500_reviews  \\\n",
       "0                    4.16                    4.15                   4.03   \n",
       "\n",
       "   Less_than_500_reviews  Less_than_200_reviews  Less_than_100_reviews  \n",
       "0                   3.43                   3.39                   3.33  "
      ]
     },
     "execution_count": 32,
     "metadata": {},
     "output_type": "execute_result"
    }
   ],
   "source": [
    "%%bigquery\n",
    "SELECT\n",
    "   ROUND(AVG(CASE WHEN total_reviews > 2000 THEN average_rating END) , 2 ) AS More_than_2000_reviews,\n",
    "   ROUND(AVG(CASE WHEN total_reviews >= 1000 THEN average_rating END), 2 ) AS More_than_1000_reviews,\n",
    "   ROUND(AVG(CASE WHEN total_reviews >= 500 THEN average_rating END), 2 ) AS More_than_500_reviews,\n",
    "   ROUND(AVG(CASE WHEN total_reviews <= 500 THEN average_rating END), 2 ) AS Less_than_500_reviews,\n",
    "   ROUND(AVG(CASE WHEN total_reviews <= 200 THEN average_rating END), 2 ) AS Less_than_200_reviews,\n",
    "   ROUND(AVG(CASE WHEN total_reviews <= 100 THEN average_rating END), 2 ) AS Less_than_100_reviews\n",
    "FROM (\n",
    "   SELECT business_id,\n",
    "          COUNT(review_id) AS total_reviews,\n",
    "          AVG(stars) AS average_rating\n",
    "   FROM `ba775-project-a04.yelp_data.restaurant_review`\n",
    "   GROUP BY business_id\n",
    ");\n"
   ]
  },
  {
   "cell_type": "markdown",
   "id": "90185bb5-187d-4e80-8dff-58620913c699",
   "metadata": {},
   "source": [
    "The query describes the relationship between the number of reviews and the star rating. First, it takes count of the total reviews received for each business and the average star rating in those reviews. Post which the average star rating is calculated for all the restaurants that have more than 2000, 1000, and 500 reviews. To view the relationship between low reviews and star ratings, the average rating of restaurants that have less than 500, 200, and 100 reviews are taken into account. The output displays all these columns. \n",
    "\n",
    "The query results show that restaurants with more than 2000 reviews have an average rating of 4.15, more than 1000 have 4.14, and more than 500 have 4 as their average rating. Restaurants with less than 500 reviews have 3.42, less than 200 review restaurants have 3.38 and less than 100 review restaurants have 3.33 as their average review rating. \n",
    "This suggests that restaurants with large numbers of reviews seem to be receiving higher ratings. Users usually leave positive & critical reviews for the restaurants when they are satisfied with the restaurants. Good restaurants see more number of reviews. Restaurants with fewer reviews seem to have lower ratings suggesting mediocre restaurants don’t receive more reviews and if they do their reviews are lower, negative & critical reviews from the users. \n"
   ]
  },
  {
   "cell_type": "markdown",
   "id": "d81e04ba-0619-41fe-adc5-10f3d1caf80d",
   "metadata": {},
   "source": [
    "<font face=\"Helvetica\" size=5 color=2E0202> **Q8. How do star ratings vary with review types (funny, cool, useful) for top-rated vs. low-rated businesses?** <font>"
   ]
  },
  {
   "cell_type": "code",
   "execution_count": 41,
   "id": "21d40af0-6954-47ff-93d6-0d68b8da1373",
   "metadata": {
    "tags": []
   },
   "outputs": [
    {
     "data": {
      "application/vnd.jupyter.widget-view+json": {
       "model_id": "2365e460d2944083958f54f7cfd73bfb",
       "version_major": 2,
       "version_minor": 0
      },
      "text/plain": [
       "Query is running:   0%|          |"
      ]
     },
     "metadata": {},
     "output_type": "display_data"
    },
    {
     "data": {
      "application/vnd.jupyter.widget-view+json": {
       "model_id": "12c6b6da5e2c421aa5e485b9a9b7a617",
       "version_major": 2,
       "version_minor": 0
      },
      "text/plain": [
       "Downloading:   0%|          |"
      ]
     },
     "metadata": {},
     "output_type": "display_data"
    },
    {
     "data": {
      "text/html": [
       "<div>\n",
       "<style scoped>\n",
       "    .dataframe tbody tr th:only-of-type {\n",
       "        vertical-align: middle;\n",
       "    }\n",
       "\n",
       "    .dataframe tbody tr th {\n",
       "        vertical-align: top;\n",
       "    }\n",
       "\n",
       "    .dataframe thead th {\n",
       "        text-align: right;\n",
       "    }\n",
       "</style>\n",
       "<table border=\"1\" class=\"dataframe\">\n",
       "  <thead>\n",
       "    <tr style=\"text-align: right;\">\n",
       "      <th></th>\n",
       "      <th>stars</th>\n",
       "      <th>avg_funny</th>\n",
       "      <th>avg_cool</th>\n",
       "      <th>avg_useful</th>\n",
       "      <th>review_count</th>\n",
       "    </tr>\n",
       "  </thead>\n",
       "  <tbody>\n",
       "    <tr>\n",
       "      <th>0</th>\n",
       "      <td>1.0</td>\n",
       "      <td>0.380913</td>\n",
       "      <td>0.142265</td>\n",
       "      <td>1.023073</td>\n",
       "      <td>208470</td>\n",
       "    </tr>\n",
       "    <tr>\n",
       "      <th>1</th>\n",
       "      <td>2.0</td>\n",
       "      <td>0.394908</td>\n",
       "      <td>0.251981</td>\n",
       "      <td>1.145776</td>\n",
       "      <td>134796</td>\n",
       "    </tr>\n",
       "    <tr>\n",
       "      <th>2</th>\n",
       "      <td>3.0</td>\n",
       "      <td>0.365974</td>\n",
       "      <td>0.449201</td>\n",
       "      <td>1.051440</td>\n",
       "      <td>183379</td>\n",
       "    </tr>\n",
       "    <tr>\n",
       "      <th>3</th>\n",
       "      <td>4.0</td>\n",
       "      <td>0.355023</td>\n",
       "      <td>0.726291</td>\n",
       "      <td>1.133947</td>\n",
       "      <td>392918</td>\n",
       "    </tr>\n",
       "    <tr>\n",
       "      <th>4</th>\n",
       "      <td>5.0</td>\n",
       "      <td>0.252618</td>\n",
       "      <td>0.573082</td>\n",
       "      <td>0.900487</td>\n",
       "      <td>772200</td>\n",
       "    </tr>\n",
       "  </tbody>\n",
       "</table>\n",
       "</div>"
      ],
      "text/plain": [
       "   stars  avg_funny  avg_cool  avg_useful  review_count\n",
       "0    1.0   0.380913  0.142265    1.023073        208470\n",
       "1    2.0   0.394908  0.251981    1.145776        134796\n",
       "2    3.0   0.365974  0.449201    1.051440        183379\n",
       "3    4.0   0.355023  0.726291    1.133947        392918\n",
       "4    5.0   0.252618  0.573082    0.900487        772200"
      ]
     },
     "execution_count": 41,
     "metadata": {},
     "output_type": "execute_result"
    }
   ],
   "source": [
    "%%bigquery\n",
    "SELECT\n",
    "    stars,\n",
    "    AVG(funny) AS avg_funny,\n",
    "    AVG(cool) AS avg_cool,\n",
    "    AVG(useful) AS avg_useful,\n",
    "    COUNT(*) AS review_count\n",
    "FROM\n",
    "    `ba775-project-a04.yelp_data.restaurant_review`\n",
    "GROUP BY stars\n",
    "ORDER BY stars;"
   ]
  },
  {
   "cell_type": "code",
   "execution_count": 44,
   "id": "565c3cae-a594-4757-9e95-ff905d458a6b",
   "metadata": {
    "tags": []
   },
   "outputs": [
    {
     "data": {
      "application/vnd.jupyter.widget-view+json": {
       "model_id": "d158ec8b8b9f4f16827eeaddd6971413",
       "version_major": 2,
       "version_minor": 0
      },
      "text/plain": [
       "Query is running:   0%|          |"
      ]
     },
     "metadata": {},
     "output_type": "display_data"
    },
    {
     "data": {
      "application/vnd.jupyter.widget-view+json": {
       "model_id": "44543d2bc7be4f349abea02333b86b78",
       "version_major": 2,
       "version_minor": 0
      },
      "text/plain": [
       "Downloading:   0%|          |"
      ]
     },
     "metadata": {},
     "output_type": "display_data"
    },
    {
     "data": {
      "text/html": [
       "<div>\n",
       "<style scoped>\n",
       "    .dataframe tbody tr th:only-of-type {\n",
       "        vertical-align: middle;\n",
       "    }\n",
       "\n",
       "    .dataframe tbody tr th {\n",
       "        vertical-align: top;\n",
       "    }\n",
       "\n",
       "    .dataframe thead th {\n",
       "        text-align: right;\n",
       "    }\n",
       "</style>\n",
       "<table border=\"1\" class=\"dataframe\">\n",
       "  <thead>\n",
       "    <tr style=\"text-align: right;\">\n",
       "      <th></th>\n",
       "      <th>rating_category</th>\n",
       "      <th>avg_funny</th>\n",
       "      <th>avg_cool</th>\n",
       "      <th>avg_useful</th>\n",
       "      <th>review_count</th>\n",
       "    </tr>\n",
       "  </thead>\n",
       "  <tbody>\n",
       "    <tr>\n",
       "      <th>0</th>\n",
       "      <td>Low Rated</td>\n",
       "      <td>0.386409</td>\n",
       "      <td>0.185349</td>\n",
       "      <td>1.071257</td>\n",
       "      <td>343266</td>\n",
       "    </tr>\n",
       "    <tr>\n",
       "      <th>1</th>\n",
       "      <td>Neutral</td>\n",
       "      <td>0.365974</td>\n",
       "      <td>0.449201</td>\n",
       "      <td>1.051440</td>\n",
       "      <td>183379</td>\n",
       "    </tr>\n",
       "    <tr>\n",
       "      <th>2</th>\n",
       "      <td>Top Rated</td>\n",
       "      <td>0.287153</td>\n",
       "      <td>0.624750</td>\n",
       "      <td>0.979218</td>\n",
       "      <td>1165118</td>\n",
       "    </tr>\n",
       "  </tbody>\n",
       "</table>\n",
       "</div>"
      ],
      "text/plain": [
       "  rating_category  avg_funny  avg_cool  avg_useful  review_count\n",
       "0       Low Rated   0.386409  0.185349    1.071257        343266\n",
       "1         Neutral   0.365974  0.449201    1.051440        183379\n",
       "2       Top Rated   0.287153  0.624750    0.979218       1165118"
      ]
     },
     "execution_count": 44,
     "metadata": {},
     "output_type": "execute_result"
    }
   ],
   "source": [
    "%%bigquery\n",
    "WITH ReviewCategories AS (\n",
    "    SELECT\n",
    "        review_id,\n",
    "        stars,\n",
    "        funny,\n",
    "        cool,\n",
    "        useful,\n",
    "        CASE\n",
    "            WHEN stars >= 4 THEN 'Top Rated'\n",
    "            WHEN stars <= 2 THEN 'Low Rated'\n",
    "            ELSE 'Neutral'\n",
    "        END AS rating_category\n",
    "    FROM\n",
    "        `ba775-project-a04.yelp_data.restaurant_review`\n",
    ")\n",
    "SELECT\n",
    "    rating_category,\n",
    "    AVG(funny) AS avg_funny,\n",
    "    AVG(cool) AS avg_cool,\n",
    "    AVG(useful) AS avg_useful,\n",
    "    COUNT(*) AS review_count\n",
    "FROM\n",
    "    ReviewCategories\n",
    "WHERE\n",
    "    rating_category IN ('Top Rated', 'Low Rated', 'Neutral')\n",
    "GROUP BY\n",
    "    rating_category\n",
    "ORDER BY\n",
    "    rating_category;\n"
   ]
  },
  {
   "cell_type": "markdown",
   "id": "05160d0c-8e02-4d94-8a12-2a401872a848",
   "metadata": {},
   "source": [
    "The data shows that 1- and 2-star reviews are the funniest, while 4-star reviews are the \"coolest,\" and 1-star reviews are the most \"useful.\" When categorized into groups, low-rated reviews (1-2 stars) are the funniest and most useful, as they often include humorous or detailed critiques. Neutral reviews (3 stars) stand out as the \"coolest,\" offering a balanced, relatable appeal. In contrast, top-rated reviews (4-5 stars), though positive, are generally seen as less helpful. This indicates that lower-rated reviews provide more specific feedback, making them both entertaining and informative, while neutral and top-rated reviews offer relatability and positivity, respectively.\n",
    "\n",
    "Users might often find low-rated reviews funny because they include sarcasm or exaggerated complaints, making them entertaining to read. These low-rated reviews are also the most \"useful,\" as they provide detailed, critical feedback that helps others make informed choices. Neutral (3-star) reviews are perceived as \"cool\" because they offer a balanced, relatable perspective. In contrast, highly positive reviews, while uplifting, tend to be less detailed and are seen as less helpful.\n"
   ]
  },
  {
   "cell_type": "markdown",
   "id": "6c06379f-7708-497b-a94a-72a81038d6e3",
   "metadata": {},
   "source": [
    "<font face=\"Helvetica\" size=5 color=2E0202> **Q9. Which areas have the most closed vs. open businesses, and how do star ratings compare?** <font>"
   ]
  },
  {
   "cell_type": "code",
   "execution_count": 34,
   "id": "f7d999bb-d77b-4b99-a7dd-3b19084eefec",
   "metadata": {
    "tags": []
   },
   "outputs": [
    {
     "data": {
      "application/vnd.jupyter.widget-view+json": {
       "model_id": "b5dda24458da43bc99bff812a161c8b1",
       "version_major": 2,
       "version_minor": 0
      },
      "text/plain": [
       "Query is running:   0%|          |"
      ]
     },
     "metadata": {},
     "output_type": "display_data"
    },
    {
     "data": {
      "application/vnd.jupyter.widget-view+json": {
       "model_id": "8ca2b8f204e8498384295d4067fc2852",
       "version_major": 2,
       "version_minor": 0
      },
      "text/plain": [
       "Downloading:   0%|          |"
      ]
     },
     "metadata": {},
     "output_type": "display_data"
    },
    {
     "data": {
      "text/html": [
       "<div>\n",
       "<style scoped>\n",
       "    .dataframe tbody tr th:only-of-type {\n",
       "        vertical-align: middle;\n",
       "    }\n",
       "\n",
       "    .dataframe tbody tr th {\n",
       "        vertical-align: top;\n",
       "    }\n",
       "\n",
       "    .dataframe thead th {\n",
       "        text-align: right;\n",
       "    }\n",
       "</style>\n",
       "<table border=\"1\" class=\"dataframe\">\n",
       "  <thead>\n",
       "    <tr style=\"text-align: right;\">\n",
       "      <th></th>\n",
       "      <th>city</th>\n",
       "      <th>state</th>\n",
       "      <th>open_business_count</th>\n",
       "      <th>average_stars_open</th>\n",
       "    </tr>\n",
       "  </thead>\n",
       "  <tbody>\n",
       "    <tr>\n",
       "      <th>0</th>\n",
       "      <td>Philadelphia</td>\n",
       "      <td>PA</td>\n",
       "      <td>1465</td>\n",
       "      <td>3.566894</td>\n",
       "    </tr>\n",
       "    <tr>\n",
       "      <th>1</th>\n",
       "      <td>Tampa</td>\n",
       "      <td>FL</td>\n",
       "      <td>961</td>\n",
       "      <td>3.534339</td>\n",
       "    </tr>\n",
       "    <tr>\n",
       "      <th>2</th>\n",
       "      <td>Indianapolis</td>\n",
       "      <td>IN</td>\n",
       "      <td>906</td>\n",
       "      <td>3.229029</td>\n",
       "    </tr>\n",
       "    <tr>\n",
       "      <th>3</th>\n",
       "      <td>Tucson</td>\n",
       "      <td>AZ</td>\n",
       "      <td>830</td>\n",
       "      <td>3.374096</td>\n",
       "    </tr>\n",
       "    <tr>\n",
       "      <th>4</th>\n",
       "      <td>Nashville</td>\n",
       "      <td>TN</td>\n",
       "      <td>752</td>\n",
       "      <td>3.449468</td>\n",
       "    </tr>\n",
       "    <tr>\n",
       "      <th>5</th>\n",
       "      <td>Edmonton</td>\n",
       "      <td>AB</td>\n",
       "      <td>623</td>\n",
       "      <td>3.387640</td>\n",
       "    </tr>\n",
       "    <tr>\n",
       "      <th>6</th>\n",
       "      <td>New Orleans</td>\n",
       "      <td>LA</td>\n",
       "      <td>611</td>\n",
       "      <td>3.710311</td>\n",
       "    </tr>\n",
       "    <tr>\n",
       "      <th>7</th>\n",
       "      <td>Reno</td>\n",
       "      <td>NV</td>\n",
       "      <td>382</td>\n",
       "      <td>3.484293</td>\n",
       "    </tr>\n",
       "    <tr>\n",
       "      <th>8</th>\n",
       "      <td>Saint Louis</td>\n",
       "      <td>MO</td>\n",
       "      <td>370</td>\n",
       "      <td>3.441892</td>\n",
       "    </tr>\n",
       "    <tr>\n",
       "      <th>9</th>\n",
       "      <td>Boise</td>\n",
       "      <td>ID</td>\n",
       "      <td>307</td>\n",
       "      <td>3.534202</td>\n",
       "    </tr>\n",
       "    <tr>\n",
       "      <th>10</th>\n",
       "      <td>Santa Barbara</td>\n",
       "      <td>CA</td>\n",
       "      <td>194</td>\n",
       "      <td>3.940722</td>\n",
       "    </tr>\n",
       "    <tr>\n",
       "      <th>11</th>\n",
       "      <td>Clearwater</td>\n",
       "      <td>FL</td>\n",
       "      <td>189</td>\n",
       "      <td>3.394180</td>\n",
       "    </tr>\n",
       "    <tr>\n",
       "      <th>12</th>\n",
       "      <td>St. Louis</td>\n",
       "      <td>MO</td>\n",
       "      <td>188</td>\n",
       "      <td>3.236702</td>\n",
       "    </tr>\n",
       "    <tr>\n",
       "      <th>13</th>\n",
       "      <td>Metairie</td>\n",
       "      <td>LA</td>\n",
       "      <td>165</td>\n",
       "      <td>3.175758</td>\n",
       "    </tr>\n",
       "    <tr>\n",
       "      <th>14</th>\n",
       "      <td>Wilmington</td>\n",
       "      <td>DE</td>\n",
       "      <td>154</td>\n",
       "      <td>3.363636</td>\n",
       "    </tr>\n",
       "    <tr>\n",
       "      <th>15</th>\n",
       "      <td>Saint Petersburg</td>\n",
       "      <td>FL</td>\n",
       "      <td>139</td>\n",
       "      <td>3.571942</td>\n",
       "    </tr>\n",
       "    <tr>\n",
       "      <th>16</th>\n",
       "      <td>Franklin</td>\n",
       "      <td>TN</td>\n",
       "      <td>136</td>\n",
       "      <td>3.323529</td>\n",
       "    </tr>\n",
       "    <tr>\n",
       "      <th>17</th>\n",
       "      <td>Meridian</td>\n",
       "      <td>ID</td>\n",
       "      <td>125</td>\n",
       "      <td>3.352000</td>\n",
       "    </tr>\n",
       "    <tr>\n",
       "      <th>18</th>\n",
       "      <td>St. Petersburg</td>\n",
       "      <td>FL</td>\n",
       "      <td>113</td>\n",
       "      <td>3.738938</td>\n",
       "    </tr>\n",
       "    <tr>\n",
       "      <th>19</th>\n",
       "      <td>Sparks</td>\n",
       "      <td>NV</td>\n",
       "      <td>112</td>\n",
       "      <td>3.334821</td>\n",
       "    </tr>\n",
       "  </tbody>\n",
       "</table>\n",
       "</div>"
      ],
      "text/plain": [
       "                city state  open_business_count  average_stars_open\n",
       "0       Philadelphia    PA                 1465            3.566894\n",
       "1              Tampa    FL                  961            3.534339\n",
       "2       Indianapolis    IN                  906            3.229029\n",
       "3             Tucson    AZ                  830            3.374096\n",
       "4          Nashville    TN                  752            3.449468\n",
       "5           Edmonton    AB                  623            3.387640\n",
       "6        New Orleans    LA                  611            3.710311\n",
       "7               Reno    NV                  382            3.484293\n",
       "8        Saint Louis    MO                  370            3.441892\n",
       "9              Boise    ID                  307            3.534202\n",
       "10     Santa Barbara    CA                  194            3.940722\n",
       "11        Clearwater    FL                  189            3.394180\n",
       "12         St. Louis    MO                  188            3.236702\n",
       "13          Metairie    LA                  165            3.175758\n",
       "14        Wilmington    DE                  154            3.363636\n",
       "15  Saint Petersburg    FL                  139            3.571942\n",
       "16          Franklin    TN                  136            3.323529\n",
       "17          Meridian    ID                  125            3.352000\n",
       "18    St. Petersburg    FL                  113            3.738938\n",
       "19            Sparks    NV                  112            3.334821"
      ]
     },
     "execution_count": 34,
     "metadata": {},
     "output_type": "execute_result"
    }
   ],
   "source": [
    "%%bigquery\n",
    "SELECT \n",
    "  city,\n",
    "  state,\n",
    "  COUNT(business_id) AS open_business_count,\n",
    "  AVG(stars) AS average_stars_open\n",
    "FROM \n",
    "  `ba775-project-a04.yelp_data.restaurant_businesses`\n",
    "WHERE \n",
    "  is_open = 1\n",
    "GROUP BY \n",
    "  city, state\n",
    "ORDER BY \n",
    "  open_business_count DESC\n",
    "LIMIT 20;"
   ]
  },
  {
   "cell_type": "markdown",
   "id": "aae837cd-85f1-454c-9c7f-f8102032bcff",
   "metadata": {},
   "source": [
    "First, we identified which states have the highest open_business_count and compared it with their average_stats_open for analysis. We can see that the top three areas with the most operating restaurants are Philadelphia, PA; Tampa, FL; and Indianapolis, IN. These three areas have the largest number of restaurants, while LA, which receives the most reviews, only ranks 13th. From this, we can infer that while PA and FL rank second and third in terms of review count, there is still room for growth in these regions, making them viable targets for promotion by Yelp and local restaurants. This finding also highlights the enthusiasm of LA residents for leaving reviews and underscores the importance of reviews for restaurant operations in that area.\n",
    "Additionally, when comparing ratings, we observe that restaurants in California (CA) receive the highest ratings, reaching an average of 3.94, indicating a high level of satisfaction among local residents. LA also ranks high with an average of 3.7. On the other hand, areas like IN and AZ have relatively lower ratings, suggesting that restaurants in more urban areas may experience higher satisfaction levels.\n",
    "Finally, when looking at closed restaurants, the distribution is largely similar to that of operating ones, indicating that market conditions are generally consistent.\n"
   ]
  },
  {
   "cell_type": "markdown",
   "id": "a466bc2e-cbf7-4f70-b9e1-0ffc3c4d715c",
   "metadata": {},
   "source": [
    "<font face=\"Helvetica\" size=5 color=2E0202> **Q10. What are the top attributes across businesses? How do they  impact ratings?** <font>"
   ]
  },
  {
   "cell_type": "code",
   "execution_count": 39,
   "id": "70940b76-aef3-4023-9d72-68d608074bac",
   "metadata": {
    "tags": []
   },
   "outputs": [
    {
     "data": {
      "application/vnd.jupyter.widget-view+json": {
       "model_id": "daa2a782e41e4c9186c740294e7d8e5f",
       "version_major": 2,
       "version_minor": 0
      },
      "text/plain": [
       "Query is running:   0%|          |"
      ]
     },
     "metadata": {},
     "output_type": "display_data"
    },
    {
     "data": {
      "application/vnd.jupyter.widget-view+json": {
       "model_id": "3531bf4e541e4cf28c10b8d249083d1a",
       "version_major": 2,
       "version_minor": 0
      },
      "text/plain": [
       "Downloading:   0%|          |"
      ]
     },
     "metadata": {},
     "output_type": "display_data"
    },
    {
     "data": {
      "text/html": [
       "<div>\n",
       "<style scoped>\n",
       "    .dataframe tbody tr th:only-of-type {\n",
       "        vertical-align: middle;\n",
       "    }\n",
       "\n",
       "    .dataframe tbody tr th {\n",
       "        vertical-align: top;\n",
       "    }\n",
       "\n",
       "    .dataframe thead th {\n",
       "        text-align: right;\n",
       "    }\n",
       "</style>\n",
       "<table border=\"1\" class=\"dataframe\">\n",
       "  <thead>\n",
       "    <tr style=\"text-align: right;\">\n",
       "      <th></th>\n",
       "      <th>attribute</th>\n",
       "      <th>occurance_counts</th>\n",
       "      <th>avg_stars</th>\n",
       "      <th>avg_review_count</th>\n",
       "    </tr>\n",
       "  </thead>\n",
       "  <tbody>\n",
       "    <tr>\n",
       "      <th>0</th>\n",
       "      <td>RestaurantsTakeOut</td>\n",
       "      <td>18403</td>\n",
       "      <td>3.445335</td>\n",
       "      <td>80.646199</td>\n",
       "    </tr>\n",
       "    <tr>\n",
       "      <th>1</th>\n",
       "      <td>BusinessAcceptsCreditCards</td>\n",
       "      <td>17941</td>\n",
       "      <td>3.425645</td>\n",
       "      <td>86.015049</td>\n",
       "    </tr>\n",
       "    <tr>\n",
       "      <th>2</th>\n",
       "      <td>GoodForKids</td>\n",
       "      <td>13746</td>\n",
       "      <td>3.349447</td>\n",
       "      <td>94.599156</td>\n",
       "    </tr>\n",
       "    <tr>\n",
       "      <th>3</th>\n",
       "      <td>RestaurantsGoodForGroups</td>\n",
       "      <td>12586</td>\n",
       "      <td>3.369101</td>\n",
       "      <td>103.150802</td>\n",
       "    </tr>\n",
       "    <tr>\n",
       "      <th>4</th>\n",
       "      <td>RestaurantsDelivery</td>\n",
       "      <td>12252</td>\n",
       "      <td>3.236247</td>\n",
       "      <td>82.042116</td>\n",
       "    </tr>\n",
       "    <tr>\n",
       "      <th>5</th>\n",
       "      <td>BikeParking</td>\n",
       "      <td>11073</td>\n",
       "      <td>3.620880</td>\n",
       "      <td>113.328998</td>\n",
       "    </tr>\n",
       "    <tr>\n",
       "      <th>6</th>\n",
       "      <td>HasTV</td>\n",
       "      <td>11062</td>\n",
       "      <td>3.312376</td>\n",
       "      <td>90.331043</td>\n",
       "    </tr>\n",
       "    <tr>\n",
       "      <th>7</th>\n",
       "      <td>Caters</td>\n",
       "      <td>8527</td>\n",
       "      <td>3.671045</td>\n",
       "      <td>106.010789</td>\n",
       "    </tr>\n",
       "    <tr>\n",
       "      <th>8</th>\n",
       "      <td>OutdoorSeating</td>\n",
       "      <td>8117</td>\n",
       "      <td>3.646175</td>\n",
       "      <td>116.471356</td>\n",
       "    </tr>\n",
       "    <tr>\n",
       "      <th>9</th>\n",
       "      <td>WheelchairAccessible</td>\n",
       "      <td>5297</td>\n",
       "      <td>3.934208</td>\n",
       "      <td>138.751557</td>\n",
       "    </tr>\n",
       "  </tbody>\n",
       "</table>\n",
       "</div>"
      ],
      "text/plain": [
       "                    attribute  occurance_counts  avg_stars  avg_review_count\n",
       "0          RestaurantsTakeOut             18403   3.445335         80.646199\n",
       "1  BusinessAcceptsCreditCards             17941   3.425645         86.015049\n",
       "2                 GoodForKids             13746   3.349447         94.599156\n",
       "3    RestaurantsGoodForGroups             12586   3.369101        103.150802\n",
       "4         RestaurantsDelivery             12252   3.236247         82.042116\n",
       "5                 BikeParking             11073   3.620880        113.328998\n",
       "6                       HasTV             11062   3.312376         90.331043\n",
       "7                      Caters              8527   3.671045        106.010789\n",
       "8              OutdoorSeating              8117   3.646175        116.471356\n",
       "9        WheelchairAccessible              5297   3.934208        138.751557"
      ]
     },
     "execution_count": 39,
     "metadata": {},
     "output_type": "execute_result"
    }
   ],
   "source": [
    "%%bigquery\n",
    "SELECT\n",
    "    attribute,\n",
    "    COUNTIF(value = 'True') AS occurance_counts, \n",
    "    AVG(CASE WHEN value = 'True' THEN stars END) AS avg_stars,\n",
    "    AVG(CASE WHEN value = 'True' THEN review_count END) AS avg_review_count\n",
    "FROM (\n",
    "    SELECT\n",
    "        JSON_EXTRACT_SCALAR(attributes, '$.ByAppointmentOnly') AS ByAppointmentOnly,\n",
    "        JSON_EXTRACT_SCALAR(attributes, '$.Caters') AS Caters,\n",
    "        JSON_EXTRACT_SCALAR(attributes, '$.RestaurantsTableService') AS RestaurantsTableService,\n",
    "        JSON_EXTRACT_SCALAR(attributes, '$.CoatCheck') AS CoatCheck,\n",
    "        JSON_EXTRACT_SCALAR(attributes, '$.HairSpecializesIn') AS HairSpecializesIn,\n",
    "        JSON_EXTRACT_SCALAR(attributes, '$.GoodForMeal') AS GoodForMeal,\n",
    "        JSON_EXTRACT_SCALAR(attributes, '$.GoodForKids') AS GoodForKids,\n",
    "        JSON_EXTRACT_SCALAR(attributes, '$.BestNights') AS BestNights,\n",
    "        JSON_EXTRACT_SCALAR(attributes, '$.BusinessParking') AS BusinessParking,\n",
    "        JSON_EXTRACT_SCALAR(attributes, '$.BYOBCorkage') AS BYOBCorkage,\n",
    "        JSON_EXTRACT_SCALAR(attributes, '$.Open24Hours') AS Open24Hours,\n",
    "        JSON_EXTRACT_SCALAR(attributes, '$.RestaurantsDelivery') AS RestaurantsDelivery,\n",
    "        JSON_EXTRACT_SCALAR(attributes, '$.DriveThru') AS DriveThru,\n",
    "        JSON_EXTRACT_SCALAR(attributes, '$.OutdoorSeating') AS OutdoorSeating,\n",
    "        JSON_EXTRACT_SCALAR(attributes, '$.Alcohol') AS Alcohol,\n",
    "        JSON_EXTRACT_SCALAR(attributes, '$.RestaurantsCounterService') AS RestaurantsCounterService,\n",
    "        JSON_EXTRACT_SCALAR(attributes, '$.RestaurantsReservations') AS RestaurantsReservations,\n",
    "        JSON_EXTRACT_SCALAR(attributes, '$.WheelchairAccessible') AS WheelchairAccessible,\n",
    "        JSON_EXTRACT_SCALAR(attributes, '$.RestaurantsGoodForGroups') AS RestaurantsGoodForGroups,\n",
    "        JSON_EXTRACT_SCALAR(attributes, '$.AcceptsInsurance') AS AcceptsInsurance,\n",
    "        JSON_EXTRACT_SCALAR(attributes, '$.HappyHour') AS HappyHour,\n",
    "        JSON_EXTRACT_SCALAR(attributes, '$.RestaurantsTakeOut') AS RestaurantsTakeOut,\n",
    "        JSON_EXTRACT_SCALAR(attributes, '$.RestaurantsPriceRange2') AS RestaurantsPriceRange2,\n",
    "        JSON_EXTRACT_SCALAR(attributes, '$.BikeParking') AS BikeParking,\n",
    "        JSON_EXTRACT_SCALAR(attributes, '$.BusinessAcceptsBitcoin') AS BusinessAcceptsBitcoin,\n",
    "        JSON_EXTRACT_SCALAR(attributes, '$.WiFi') AS WiFi,\n",
    "        JSON_EXTRACT_SCALAR(attributes, '$.BYOB') AS BYOB,\n",
    "        JSON_EXTRACT_SCALAR(attributes, '$.AgesAllowed') AS AgesAllowed,\n",
    "        JSON_EXTRACT_SCALAR(attributes, '$.Smoking') AS Smoking,\n",
    "        JSON_EXTRACT_SCALAR(attributes, '$.Ambience') AS Ambience,\n",
    "        JSON_EXTRACT_SCALAR(attributes, '$.DietaryRestrictions') AS DietaryRestrictions,\n",
    "        JSON_EXTRACT_SCALAR(attributes, '$.Music') AS Music,\n",
    "        JSON_EXTRACT_SCALAR(attributes, '$.GoodForDancing') AS GoodForDancing,\n",
    "        JSON_EXTRACT_SCALAR(attributes, '$.Corkage') AS Corkage,\n",
    "        JSON_EXTRACT_SCALAR(attributes, '$.RestaurantsAttire') AS RestaurantsAttire,\n",
    "        JSON_EXTRACT_SCALAR(attributes, '$.NoiseLevel') AS NoiseLevel,\n",
    "        JSON_EXTRACT_SCALAR(attributes, '$.DogsAllowed') AS DogsAllowed,\n",
    "        JSON_EXTRACT_SCALAR(attributes, '$.BusinessAcceptsCreditCards') AS BusinessAcceptsCreditCards,\n",
    "        JSON_EXTRACT_SCALAR(attributes, '$.HasTV') AS HasTV,\n",
    "        stars,\n",
    "        review_count\n",
    "    FROM `ba775-project-a04.yelp_data.restaurant_businesses`\n",
    ")\n",
    "UNPIVOT(value FOR attribute IN (\n",
    "    ByAppointmentOnly, Caters, RestaurantsTableService, CoatCheck, HairSpecializesIn, GoodForMeal,\n",
    "    GoodForKids, BestNights, BusinessParking, BYOBCorkage, Open24Hours, RestaurantsDelivery,\n",
    "    DriveThru, OutdoorSeating, Alcohol, RestaurantsCounterService, RestaurantsReservations,\n",
    "    WheelchairAccessible, RestaurantsGoodForGroups, AcceptsInsurance, HappyHour, RestaurantsTakeOut,\n",
    "    RestaurantsPriceRange2, BikeParking, BusinessAcceptsBitcoin, WiFi, BYOB, AgesAllowed,\n",
    "    Smoking, Ambience, DietaryRestrictions, Music, GoodForDancing, Corkage, RestaurantsAttire,\n",
    "    NoiseLevel, DogsAllowed, BusinessAcceptsCreditCards, HasTV\n",
    "))\n",
    "GROUP BY attribute\n",
    "ORDER BY occurance_counts DESC\n",
    "LIMIT 10;\n"
   ]
  },
  {
   "cell_type": "markdown",
   "id": "b9136618-aac1-46e1-9f4b-ebb2ac3ae56c",
   "metadata": {},
   "source": [
    "According to the above analysis, the most popular attributes that businesses may declare as important are RestaurantsTakeOut, BusinessAcceptsCreditCards, GoodForKids. These top attributes make sense for being poplular as most individuals may or not want to eat at the establishment and prefer to have the capacity to take out or deliver the food for convinience. The might also value having varied accessibility at the restaurant like Wheelchair Accibility, bike parking, kid-friendly etc.\n",
    "\n",
    "As far as the ratings and average review count goes, we see that wheel chair accessible locations have the highest average ratings and average review count. Wheelchair-accessible locations often receive higher ratings and review counts because they create an inclusive experience that appeals to a broader customer base, including families, seniors, and individuals with mobility needs. This commitment to accessibility enhances brand perception, leading customers to view these businesses as considerate and community-minded, which can encourage positive feedback. Additionally, accessible locations may maintain higher operational standards overall, contributing to a better experience for all customers and driving more frequent, favorable reviews.\n",
    "\n",
    "Out of the 10 most popular attributes, RestaurantsDelivery has the lowest score and lowest review count. One reason for the low scores and review counts for \"RestaurantsDelivery\" could be that delivery services often don't provide the full dining experience, which can lead to lower satisfaction. Delivery orders may lack the ambiance, presentation, and quality control of in-restaurant dining, which could result in a less favorable experience and lower ratings. Additionally, delivery experiences may be more likely to go unreviewed, as customers are less engaged with the business itself, contributing to the lower review count.\n"
   ]
  },
  {
   "cell_type": "markdown",
   "id": "245b2ae7-f515-4b7a-821f-07215490c104",
   "metadata": {},
   "source": [
    "<font face=\"Helvetica\" size=6 color=B40E0E> **Conclusion<a name=\"conclusions\"></a>** <font>\n",
    "\n",
    "----\n",
    "    \n",
    "    \n",
    "The analysis highlights Yelp’s growth in restaurant reviews until a COVID-driven decline in 2020, with elite users continuing to influence the platform significantly through high engagement and quality contributions. Wheelchair-accessible locations have the highest ratings and review counts, reflecting their appeal to a broad audience. McDonald’s leads in customer loyalty with repeated reviews, though it holds lower average ratings, contrasting with smaller, high-quality local establishments that enjoy higher ratings. Review activity peaks on Sundays, Wednesdays, and Saturdays, underscoring key service days for restaurants. Patterns also reveal that low-star reviews are often both humorous and detailed, while 4- and 5-star reviews are generally less informative. Key restaurant attributes include takeout and kid-friendliness, while delivery receives lower ratings, likely due to a reduced dining experience. Lastly, restaurants with high review counts generally maintain positive ratings, while those with fewer reviews show lower satisfaction."
   ]
  },
  {
   "cell_type": "markdown",
   "id": "8f09d040-28e3-41b3-ac73-8ca4ea258d9f",
   "metadata": {},
   "source": [
    "<font face=\"Helvetica\" size=5 color=2E0202> **Recommendations <a name=\"Recommendations\"></a>** <font>\n",
    "    \n",
    "---\n",
    "    \n",
    "- **Focus on Quality Over Quantity:** Restaurant owners should concentrate on delivering high-quality service at a limited number of locations to build a strong, loyal customer base. Satisfied customers will drive positive word-of-mouth and attract new patrons. Once a consistent high standard is achieved, expansion or franchising could be considered to broaden the customer base while maintaining quality.\n",
    "    \n",
    "- **Enhance User Engagement:** Yelp could encourage users to add more details to 4- and 5-star reviews, making positive feedback more informative and valuable to readers. A dedicated \"Top Cool Reviews\" section for popular 4-star reviews would make the platform feel more relatable, while a \"Funny Reviews\" section for amusing low-star reviews would add enjoyment to browsing.\n",
    "    \n",
    "- **Provide Business Insights:** Yelp could help businesses improve by showing which reviews are marked as \"useful\" or \"cool.\" This feedback would allow businesses to better understand what resonates with customers and make targeted improvements.\n",
    "\n",
    "- **Boost Elite User Contributions:** To keep elite users engaged, Yelp could provide regular feedback on how their reviews benefit the community. Businesses could publicly thank elite users on Yelp for helpful reviews, fostering loyalty. Public recognition for elite users who reach specific milestones (with badges or levels) would further motivate quality contributions. Additionally, promoting the perks of elite status among non-elite users could encourage broader participation."
   ]
  },
  {
   "cell_type": "markdown",
   "id": "6a8f31d3-dd60-4c12-a45f-e266ebdefe4a",
   "metadata": {
    "tags": []
   },
   "source": [
    "<font face=\"Helvetica\" size=5 color=2E0202> **Future Steps <a name=\"Future Steps\"></a>** <font>\n",
    "    \n",
    "---\n",
    "For our future steps, we would like to analyse the following:\n",
    "    \n",
    "- **Urban vs. Rural Satisfaction:** Assess how location type (urban or rural) impacts customer satisfaction and examine reviews for unique insights related to each area. This could reveal differences in expectations and preferences, guiding businesses in tailoring their approach based on location.\n",
    "\n",
    "- **Review Length and Rating Correlation:** Explore the relationship between review length and rating type (positive or negative) to understand how review depth correlates with customer sentiment.\n",
    "    \n",
    "- **COVID-19 Review Trends:** Explore general trends in customer reviews during the COVID-19 pandemic to understand shifts in customer expectations and experiences, which may still be influencing the industry today."
   ]
  },
  {
   "cell_type": "markdown",
   "id": "921d752e-ef22-4d89-9a2d-244bb215cd6b",
   "metadata": {
    "tags": []
   },
   "source": [
    "<font face=\"Helvetica\" size=6 color=B40E0E> **Challenges<a name=\"challenges\"></a>** <font>\n",
    "\n",
    "----\n",
    "    \n",
    "We faced the following challenges with the project:\n",
    "\n",
    "- **Extracting Weekly Trends from Date Column**: The date column is formatted by calendar date (MM-DD-YYYY), making it challenging to extract specific days of the week. To address this, the `FORMAT_DATE` function was used to determine the number of reviews per day of the week across all dataset years.\n",
    "\n",
    "- **Separating Years in Elite Column**: The elite column contains multiple years as numbers, requiring conversion to string format and use of `REGEXP_EXTRACT` to separate each year by commas.\n",
    "\n",
    "- **Complex Category Structure**: Categories include multiple subcategories separated by commas, complicating the identification of a single representative category. This part was excluded from the current analysis and will be addressed in further analysis.\n",
    "\n",
    "- **Diverse Attribute Labels**: Numerous varied labels within attributes add complexity to the analysis.\n",
    "\n",
    "- **Data Table Creation Errors**: Errors were encountered during data table creation, particularly with the business table. These were resolved by using advanced options, such as increasing the allowed error count and ignoring unknown values."
   ]
  },
  {
   "cell_type": "markdown",
   "id": "90338b2b-4a39-48ad-b363-3b3d51fee454",
   "metadata": {},
   "source": [
    "<font face=\"Helvetica\" size=6 color=B40E0E> **References<a name=\"reference\"></a>** <font>\n",
    "\n",
    "----\n",
    "    \n",
    "- https://www.eater.com/2019/1/16/18184376/restaurants-disabled-accessibility-americans-with-disabilities-act#:~:text=Disabled%20people%20have%20the%20money,experience%20from%20start%20to%20finish.\n",
    "- https://www.washingtonpost.com/lifestyle/food/why-i-will-start-including-accessibility-information-in-my-restaurant-reviews/2019/05/10/b25560aa-7014-11e9-9eb4-0828f5389013_story.html\n",
    "- https://www.zionandzion.com/research/food-delivery-apps-usage-and-demographics-winners-losers-and-laggards/#:~:text=Food%20delivery%20websites/apps%20suffer,delivery%20website/app%20feedback%20process."
   ]
  },
  {
   "cell_type": "markdown",
   "id": "e99951e0-19c8-4901-89e7-e3b20842d19f",
   "metadata": {},
   "source": [
    "<font face=\"Helvetica\" size=6 color=B40E0E> **Generative AI Discolure<a name=\"genai\"></a>** <font>\n",
    "\n",
    "----"
   ]
  },
  {
   "cell_type": "markdown",
   "id": "d0ddeeab-203b-4e79-99d3-004fc94a2dc3",
   "metadata": {},
   "source": [
    "We have utilized Generative AI tools to assist with various aspects of this project. Below describe the criteria we used the tools:\n",
    "\n",
    "\n",
    "* **Code Debugging:** Intellicode and ChatGPT suggested ways to improve our SQL queries, including providing example code, optimizing algorithms, and resolving potential errors.\n",
    "\n",
    "* **Proofreading and Grammar Checks:** We used Grammarly and ChatGPT to refine our writing, improve readability, and ensure grammatical accuracy.\n",
    "\n",
    "* **Fact Check for key observations:** Utilized ChatGPT as a resource to fact check assumptions and statements made in the analysis process.\n",
    "\n",
    "* **Assistance with code:** Generative AI was utilized to correctly query attributes and hours columns from the business table, enabling the generation of keywords like UNPIVOT().\n",
    "\n",
    "\n",
    "Our team has reviewed, edited, and validated all AI-generated content to ensure its accuracy, relevance, and originality in accordance with academic integrity guidelines."
   ]
  }
 ],
 "metadata": {
  "environment": {
   "kernel": "python3",
   "name": "common-cpu.m125",
   "type": "gcloud",
   "uri": "us-docker.pkg.dev/deeplearning-platform-release/gcr.io/base-cpu:m125"
  },
  "kernelspec": {
   "display_name": "Python 3 (Local)",
   "language": "python",
   "name": "python3"
  },
  "language_info": {
   "codemirror_mode": {
    "name": "ipython",
    "version": 3
   },
   "file_extension": ".py",
   "mimetype": "text/x-python",
   "name": "python",
   "nbconvert_exporter": "python",
   "pygments_lexer": "ipython3",
   "version": "3.10.15"
  }
 },
 "nbformat": 4,
 "nbformat_minor": 5
}
